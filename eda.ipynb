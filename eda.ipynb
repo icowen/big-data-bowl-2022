{
 "metadata": {
  "language_info": {
   "codemirror_mode": {
    "name": "ipython",
    "version": 3
   },
   "file_extension": ".py",
   "mimetype": "text/x-python",
   "name": "python",
   "nbconvert_exporter": "python",
   "pygments_lexer": "ipython3",
   "version": "3.9.7-final"
  },
  "orig_nbformat": 2,
  "kernelspec": {
   "name": "python3",
   "display_name": "Python 3.9.7 64-bit ('venv': venv)",
   "metadata": {
    "interpreter": {
     "hash": "fb253ef4787ab3126b01a2ed79613b7a27a79ce0fc0d0000ff7edea6a06fab4e"
    }
   }
  }
 },
 "nbformat": 4,
 "nbformat_minor": 2,
 "cells": [
  {
   "source": [
    "# Big Data Bowl Special Teams Plays' Excitement Ratings\n",
    "\n",
    "In this notebook, I'll try to create an excitement metric that will have a pre-snap prediction of \"expected excitement\", an in-play excitement meter, and an overall excitement score for each special teams play. \n",
    "\n",
    "## Plan of Attack\n",
    "1. Learn, clean, and manipulate the game, play, player, tracking, and scouting data\n",
    "1. Split into test/train\n",
    "1. Create a simple baseline metric to score each play in train data set\n",
    "    1. This is probably just going to be game-level data\n",
    "    1. We'll call this the overall excitement score\n",
    "1. Train a model to predict overall excitement scores using only pre-snap (ie frame1) data\n",
    "1. Use this model to predict excitement scores pre-snap on the test set\n",
    "1. Analyze results to determine how good the model is\n",
    "1. Create more complex excitement score based on player, team, game, play data\n",
    "1. Rinse and repeat\n"
   ],
   "cell_type": "markdown",
   "metadata": {}
  },
  {
   "source": [
    "## Imports and Settings"
   ],
   "cell_type": "markdown",
   "metadata": {}
  },
  {
   "cell_type": "code",
   "execution_count": 1,
   "metadata": {},
   "outputs": [],
   "source": [
    "import pandas as pd\n",
    "import numpy as np\n",
    "import matplotlib.pyplot as plt\n",
    "import matplotlib.patches as patches\n",
    "from matplotlib.animation import FuncAnimation\n",
    "\n",
    "pd.options.display.float_format = '{:,.0f}'.format"
   ]
  },
  {
   "source": [
    "## Useful Constants"
   ],
   "cell_type": "markdown",
   "metadata": {}
  },
  {
   "cell_type": "code",
   "execution_count": 2,
   "metadata": {},
   "outputs": [],
   "source": [
    "field_height = 53.3"
   ]
  },
  {
   "source": [
    "## Import and Inspect Game Data"
   ],
   "cell_type": "markdown",
   "metadata": {}
  },
  {
   "cell_type": "code",
   "execution_count": 3,
   "metadata": {},
   "outputs": [
    {
     "output_type": "execute_result",
     "data": {
      "text/plain": [
       "       gameId  season  week    gameDate gameTimeEastern homeTeamAbbr  \\\n",
       "0  2018090600    2018     1  09/06/2018        20:20:00          PHI   \n",
       "1  2018090900    2018     1  09/09/2018        13:00:00          BAL   \n",
       "2  2018090901    2018     1  09/09/2018        13:00:00          CLE   \n",
       "3  2018090902    2018     1  09/09/2018        13:00:00          IND   \n",
       "4  2018090903    2018     1  09/09/2018        13:00:00          MIA   \n",
       "\n",
       "  visitorTeamAbbr  \n",
       "0             ATL  \n",
       "1             BUF  \n",
       "2             PIT  \n",
       "3             CIN  \n",
       "4             TEN  "
      ],
      "text/html": "<div>\n<style scoped>\n    .dataframe tbody tr th:only-of-type {\n        vertical-align: middle;\n    }\n\n    .dataframe tbody tr th {\n        vertical-align: top;\n    }\n\n    .dataframe thead th {\n        text-align: right;\n    }\n</style>\n<table border=\"1\" class=\"dataframe\">\n  <thead>\n    <tr style=\"text-align: right;\">\n      <th></th>\n      <th>gameId</th>\n      <th>season</th>\n      <th>week</th>\n      <th>gameDate</th>\n      <th>gameTimeEastern</th>\n      <th>homeTeamAbbr</th>\n      <th>visitorTeamAbbr</th>\n    </tr>\n  </thead>\n  <tbody>\n    <tr>\n      <th>0</th>\n      <td>2018090600</td>\n      <td>2018</td>\n      <td>1</td>\n      <td>09/06/2018</td>\n      <td>20:20:00</td>\n      <td>PHI</td>\n      <td>ATL</td>\n    </tr>\n    <tr>\n      <th>1</th>\n      <td>2018090900</td>\n      <td>2018</td>\n      <td>1</td>\n      <td>09/09/2018</td>\n      <td>13:00:00</td>\n      <td>BAL</td>\n      <td>BUF</td>\n    </tr>\n    <tr>\n      <th>2</th>\n      <td>2018090901</td>\n      <td>2018</td>\n      <td>1</td>\n      <td>09/09/2018</td>\n      <td>13:00:00</td>\n      <td>CLE</td>\n      <td>PIT</td>\n    </tr>\n    <tr>\n      <th>3</th>\n      <td>2018090902</td>\n      <td>2018</td>\n      <td>1</td>\n      <td>09/09/2018</td>\n      <td>13:00:00</td>\n      <td>IND</td>\n      <td>CIN</td>\n    </tr>\n    <tr>\n      <th>4</th>\n      <td>2018090903</td>\n      <td>2018</td>\n      <td>1</td>\n      <td>09/09/2018</td>\n      <td>13:00:00</td>\n      <td>MIA</td>\n      <td>TEN</td>\n    </tr>\n  </tbody>\n</table>\n</div>"
     },
     "metadata": {},
     "execution_count": 3
    }
   ],
   "source": [
    "games = pd.read_csv('data/games.csv')\n",
    "games.head()\n"
   ]
  },
  {
   "source": [
    "## Import and Inspect Player Data"
   ],
   "cell_type": "markdown",
   "metadata": {}
  },
  {
   "cell_type": "code",
   "execution_count": 4,
   "metadata": {},
   "outputs": [
    {
     "output_type": "execute_result",
     "data": {
      "text/plain": [
       "   nflId height  weight   birthDate       collegeName Position  \\\n",
       "0  42901    6-1     208  1992-07-25     James Madison       SS   \n",
       "1  43501    6-0     220  1994-08-11  Central Michigan       FS   \n",
       "2  43534    6-0     205  1993-06-02          Illinois       SS   \n",
       "3  43535    6-1     235  1992-12-22            Temple      MLB   \n",
       "4  44174    6-1     236  1993-02-22        Texas Tech      ILB   \n",
       "\n",
       "         displayName  \n",
       "0       Dean Marlowe  \n",
       "1      Kavon Frazier  \n",
       "2  Clayton Fejedelem  \n",
       "3   Tyler Matakevich  \n",
       "4       Sam Eguavoen  "
      ],
      "text/html": "<div>\n<style scoped>\n    .dataframe tbody tr th:only-of-type {\n        vertical-align: middle;\n    }\n\n    .dataframe tbody tr th {\n        vertical-align: top;\n    }\n\n    .dataframe thead th {\n        text-align: right;\n    }\n</style>\n<table border=\"1\" class=\"dataframe\">\n  <thead>\n    <tr style=\"text-align: right;\">\n      <th></th>\n      <th>nflId</th>\n      <th>height</th>\n      <th>weight</th>\n      <th>birthDate</th>\n      <th>collegeName</th>\n      <th>Position</th>\n      <th>displayName</th>\n    </tr>\n  </thead>\n  <tbody>\n    <tr>\n      <th>0</th>\n      <td>42901</td>\n      <td>6-1</td>\n      <td>208</td>\n      <td>1992-07-25</td>\n      <td>James Madison</td>\n      <td>SS</td>\n      <td>Dean Marlowe</td>\n    </tr>\n    <tr>\n      <th>1</th>\n      <td>43501</td>\n      <td>6-0</td>\n      <td>220</td>\n      <td>1994-08-11</td>\n      <td>Central Michigan</td>\n      <td>FS</td>\n      <td>Kavon Frazier</td>\n    </tr>\n    <tr>\n      <th>2</th>\n      <td>43534</td>\n      <td>6-0</td>\n      <td>205</td>\n      <td>1993-06-02</td>\n      <td>Illinois</td>\n      <td>SS</td>\n      <td>Clayton Fejedelem</td>\n    </tr>\n    <tr>\n      <th>3</th>\n      <td>43535</td>\n      <td>6-1</td>\n      <td>235</td>\n      <td>1992-12-22</td>\n      <td>Temple</td>\n      <td>MLB</td>\n      <td>Tyler Matakevich</td>\n    </tr>\n    <tr>\n      <th>4</th>\n      <td>44174</td>\n      <td>6-1</td>\n      <td>236</td>\n      <td>1993-02-22</td>\n      <td>Texas Tech</td>\n      <td>ILB</td>\n      <td>Sam Eguavoen</td>\n    </tr>\n  </tbody>\n</table>\n</div>"
     },
     "metadata": {},
     "execution_count": 4
    }
   ],
   "source": [
    "players = pd.read_csv('data/players.csv')\n",
    "players.head()"
   ]
  },
  {
   "source": [
    "## Import and Inspect Play Data"
   ],
   "cell_type": "markdown",
   "metadata": {}
  },
  {
   "cell_type": "code",
   "execution_count": 5,
   "metadata": {},
   "outputs": [
    {
     "output_type": "execute_result",
     "data": {
      "text/plain": [
       "       gameId  playId                                    playDescription  \\\n",
       "0  2018090600      37  J.Elliott kicks 65 yards from PHI 35 to end zo...   \n",
       "1  2018090600     366  (9:20) C.Johnston punts 56 yards to ATL 36, Ce...   \n",
       "2  2018090600     658  (5:03) M.Bryant 21 yard field goal is GOOD, Ce...   \n",
       "3  2018090600     677  M.Bosher kicks 64 yards from ATL 35 to PHI 1. ...   \n",
       "4  2018090600     872  (:33) C.Johnston punts 65 yards to end zone, C...   \n",
       "\n",
       "   quarter  down  yardsToGo possessionTeam specialTeamsPlayType  \\\n",
       "0        1     0          0            PHI              Kickoff   \n",
       "1        1     4          4            PHI                 Punt   \n",
       "2        1     4          3            ATL           Field Goal   \n",
       "3        1     0          0            ATL              Kickoff   \n",
       "4        1     4         18            PHI                 Punt   \n",
       "\n",
       "  specialTeamsResult  kickerId  ... penaltyCodes  penaltyJerseyNumbers  \\\n",
       "0          Touchback    44,966  ...          NaN                   NaN   \n",
       "1             Return    45,603  ...         UNSd                PHI 18   \n",
       "2  Kick Attempt Good    27,091  ...          NaN                   NaN   \n",
       "3             Return    37,267  ...          NaN                   NaN   \n",
       "4          Touchback    45,603  ...          NaN                   NaN   \n",
       "\n",
       "  penaltyYards  preSnapHomeScore preSnapVisitorScore passResult kickLength  \\\n",
       "0          NaN                 0                   0        NaN         66   \n",
       "1          -15                 0                   0        NaN         56   \n",
       "2          NaN                 0                   0        NaN         21   \n",
       "3          NaN                 0                   3        NaN         64   \n",
       "4          NaN                 0                   3        NaN         65   \n",
       "\n",
       "   kickReturnYardage  playResult  absoluteYardlineNumber  \n",
       "0                NaN          40                      45  \n",
       "1                  5          36                      18  \n",
       "2                NaN           0                      13  \n",
       "3                 30          34                      75  \n",
       "4                NaN          45                      45  \n",
       "\n",
       "[5 rows x 25 columns]"
      ],
      "text/html": "<div>\n<style scoped>\n    .dataframe tbody tr th:only-of-type {\n        vertical-align: middle;\n    }\n\n    .dataframe tbody tr th {\n        vertical-align: top;\n    }\n\n    .dataframe thead th {\n        text-align: right;\n    }\n</style>\n<table border=\"1\" class=\"dataframe\">\n  <thead>\n    <tr style=\"text-align: right;\">\n      <th></th>\n      <th>gameId</th>\n      <th>playId</th>\n      <th>playDescription</th>\n      <th>quarter</th>\n      <th>down</th>\n      <th>yardsToGo</th>\n      <th>possessionTeam</th>\n      <th>specialTeamsPlayType</th>\n      <th>specialTeamsResult</th>\n      <th>kickerId</th>\n      <th>...</th>\n      <th>penaltyCodes</th>\n      <th>penaltyJerseyNumbers</th>\n      <th>penaltyYards</th>\n      <th>preSnapHomeScore</th>\n      <th>preSnapVisitorScore</th>\n      <th>passResult</th>\n      <th>kickLength</th>\n      <th>kickReturnYardage</th>\n      <th>playResult</th>\n      <th>absoluteYardlineNumber</th>\n    </tr>\n  </thead>\n  <tbody>\n    <tr>\n      <th>0</th>\n      <td>2018090600</td>\n      <td>37</td>\n      <td>J.Elliott kicks 65 yards from PHI 35 to end zo...</td>\n      <td>1</td>\n      <td>0</td>\n      <td>0</td>\n      <td>PHI</td>\n      <td>Kickoff</td>\n      <td>Touchback</td>\n      <td>44,966</td>\n      <td>...</td>\n      <td>NaN</td>\n      <td>NaN</td>\n      <td>NaN</td>\n      <td>0</td>\n      <td>0</td>\n      <td>NaN</td>\n      <td>66</td>\n      <td>NaN</td>\n      <td>40</td>\n      <td>45</td>\n    </tr>\n    <tr>\n      <th>1</th>\n      <td>2018090600</td>\n      <td>366</td>\n      <td>(9:20) C.Johnston punts 56 yards to ATL 36, Ce...</td>\n      <td>1</td>\n      <td>4</td>\n      <td>4</td>\n      <td>PHI</td>\n      <td>Punt</td>\n      <td>Return</td>\n      <td>45,603</td>\n      <td>...</td>\n      <td>UNSd</td>\n      <td>PHI 18</td>\n      <td>-15</td>\n      <td>0</td>\n      <td>0</td>\n      <td>NaN</td>\n      <td>56</td>\n      <td>5</td>\n      <td>36</td>\n      <td>18</td>\n    </tr>\n    <tr>\n      <th>2</th>\n      <td>2018090600</td>\n      <td>658</td>\n      <td>(5:03) M.Bryant 21 yard field goal is GOOD, Ce...</td>\n      <td>1</td>\n      <td>4</td>\n      <td>3</td>\n      <td>ATL</td>\n      <td>Field Goal</td>\n      <td>Kick Attempt Good</td>\n      <td>27,091</td>\n      <td>...</td>\n      <td>NaN</td>\n      <td>NaN</td>\n      <td>NaN</td>\n      <td>0</td>\n      <td>0</td>\n      <td>NaN</td>\n      <td>21</td>\n      <td>NaN</td>\n      <td>0</td>\n      <td>13</td>\n    </tr>\n    <tr>\n      <th>3</th>\n      <td>2018090600</td>\n      <td>677</td>\n      <td>M.Bosher kicks 64 yards from ATL 35 to PHI 1. ...</td>\n      <td>1</td>\n      <td>0</td>\n      <td>0</td>\n      <td>ATL</td>\n      <td>Kickoff</td>\n      <td>Return</td>\n      <td>37,267</td>\n      <td>...</td>\n      <td>NaN</td>\n      <td>NaN</td>\n      <td>NaN</td>\n      <td>0</td>\n      <td>3</td>\n      <td>NaN</td>\n      <td>64</td>\n      <td>30</td>\n      <td>34</td>\n      <td>75</td>\n    </tr>\n    <tr>\n      <th>4</th>\n      <td>2018090600</td>\n      <td>872</td>\n      <td>(:33) C.Johnston punts 65 yards to end zone, C...</td>\n      <td>1</td>\n      <td>4</td>\n      <td>18</td>\n      <td>PHI</td>\n      <td>Punt</td>\n      <td>Touchback</td>\n      <td>45,603</td>\n      <td>...</td>\n      <td>NaN</td>\n      <td>NaN</td>\n      <td>NaN</td>\n      <td>0</td>\n      <td>3</td>\n      <td>NaN</td>\n      <td>65</td>\n      <td>NaN</td>\n      <td>45</td>\n      <td>45</td>\n    </tr>\n  </tbody>\n</table>\n<p>5 rows × 25 columns</p>\n</div>"
     },
     "metadata": {},
     "execution_count": 5
    }
   ],
   "source": [
    "plays = pd.read_csv('data/plays.csv')\n",
    "plays.head()"
   ]
  },
  {
   "source": [
    "## Import and Inspect Scouting Data"
   ],
   "cell_type": "markdown",
   "metadata": {}
  },
  {
   "cell_type": "code",
   "execution_count": 6,
   "metadata": {},
   "outputs": [
    {
     "output_type": "execute_result",
     "data": {
      "text/plain": [
       "           gameId  playId snapDetail  snapTime  operationTime  hangTime  \\\n",
       "0      2018090600      37        NaN       NaN            NaN         4   \n",
       "1      2018090600     366         OK         1              2         4   \n",
       "2      2018090600     658        NaN       NaN            NaN       NaN   \n",
       "3      2018090600     677        NaN       NaN            NaN         4   \n",
       "4      2018090600     872         OK         1              2         4   \n",
       "...           ...     ...        ...       ...            ...       ...   \n",
       "19974  2021010315    3683        NaN       NaN            NaN         4   \n",
       "19975  2021010315    3870        NaN       NaN            NaN       NaN   \n",
       "19976  2021010315    3886        NaN       NaN            NaN         4   \n",
       "19977  2021010315    4166        NaN       NaN            NaN       NaN   \n",
       "19978  2021010315    4182        NaN       NaN            NaN       NaN   \n",
       "\n",
       "      kickType kickDirectionIntended kickDirectionActual  \\\n",
       "0            D                     R                   R   \n",
       "1            N                     C                   C   \n",
       "2          NaN                   NaN                 NaN   \n",
       "3            D                     R                   R   \n",
       "4            N                     C                   L   \n",
       "...        ...                   ...                 ...   \n",
       "19974        D                     L                   L   \n",
       "19975      NaN                   NaN                 NaN   \n",
       "19976        D                     L                   L   \n",
       "19977      NaN                   NaN                 NaN   \n",
       "19978        O                     L                   L   \n",
       "\n",
       "      returnDirectionIntended returnDirectionActual missedTackler  \\\n",
       "0                         NaN                   NaN           NaN   \n",
       "1                           C                     R        PHI 57   \n",
       "2                         NaN                   NaN           NaN   \n",
       "3                           C                     C        ATL 83   \n",
       "4                         NaN                   NaN           NaN   \n",
       "...                       ...                   ...           ...   \n",
       "19974                     NaN                   NaN           NaN   \n",
       "19975                     NaN                   NaN           NaN   \n",
       "19976                     NaN                   NaN           NaN   \n",
       "19977                     NaN                   NaN           NaN   \n",
       "19978                     NaN                   NaN           NaN   \n",
       "\n",
       "      assistTackler tackler kickoffReturnFormation         gunners  \\\n",
       "0               NaN     NaN                  8-0-2             NaN   \n",
       "1               NaN  PHI 54                    NaN  PHI 18; PHI 29   \n",
       "2               NaN     NaN                    NaN             NaN   \n",
       "3            ATL 22  ATL 27                  8-0-2             NaN   \n",
       "4               NaN     NaN                    NaN  PHI 18; PHI 29   \n",
       "...             ...     ...                    ...             ...   \n",
       "19974           NaN     NaN                  8-0-2             NaN   \n",
       "19975           NaN     NaN                    NaN             NaN   \n",
       "19976           NaN     NaN                  8-0-2             NaN   \n",
       "19977           NaN     NaN                    NaN             NaN   \n",
       "19978           NaN   SF 18                  8-0-2             NaN   \n",
       "\n",
       "      puntRushers specialTeamsSafeties                           vises  \\\n",
       "0             NaN       PHI 23; PHI 27                             NaN   \n",
       "1             NaN                  NaN  ATL 83; ATL 27; ATL 34; ATL 21   \n",
       "2             NaN               PHI 58                             NaN   \n",
       "3             NaN       ATL 17; ATL 22                             NaN   \n",
       "4          ATL 85               ATL 37          ATL 83; ATL 34; ATL 21   \n",
       "...           ...                  ...                             ...   \n",
       "19974         NaN       SEA 28; SEA 99                             NaN   \n",
       "19975         NaN         SF 20; SF 51                             NaN   \n",
       "19976         NaN       SEA 28; SEA 99                             NaN   \n",
       "19977         NaN       SEA 37; SEA 54                             NaN   \n",
       "19978         NaN                SF 43                             NaN   \n",
       "\n",
       "      kickContactType  \n",
       "0                 NaN  \n",
       "1                  CC  \n",
       "2                 NaN  \n",
       "3                 NaN  \n",
       "4                  BF  \n",
       "...               ...  \n",
       "19974             NaN  \n",
       "19975             NaN  \n",
       "19976             NaN  \n",
       "19977             NaN  \n",
       "19978             NaN  \n",
       "\n",
       "[19979 rows x 20 columns]"
      ],
      "text/html": "<div>\n<style scoped>\n    .dataframe tbody tr th:only-of-type {\n        vertical-align: middle;\n    }\n\n    .dataframe tbody tr th {\n        vertical-align: top;\n    }\n\n    .dataframe thead th {\n        text-align: right;\n    }\n</style>\n<table border=\"1\" class=\"dataframe\">\n  <thead>\n    <tr style=\"text-align: right;\">\n      <th></th>\n      <th>gameId</th>\n      <th>playId</th>\n      <th>snapDetail</th>\n      <th>snapTime</th>\n      <th>operationTime</th>\n      <th>hangTime</th>\n      <th>kickType</th>\n      <th>kickDirectionIntended</th>\n      <th>kickDirectionActual</th>\n      <th>returnDirectionIntended</th>\n      <th>returnDirectionActual</th>\n      <th>missedTackler</th>\n      <th>assistTackler</th>\n      <th>tackler</th>\n      <th>kickoffReturnFormation</th>\n      <th>gunners</th>\n      <th>puntRushers</th>\n      <th>specialTeamsSafeties</th>\n      <th>vises</th>\n      <th>kickContactType</th>\n    </tr>\n  </thead>\n  <tbody>\n    <tr>\n      <th>0</th>\n      <td>2018090600</td>\n      <td>37</td>\n      <td>NaN</td>\n      <td>NaN</td>\n      <td>NaN</td>\n      <td>4</td>\n      <td>D</td>\n      <td>R</td>\n      <td>R</td>\n      <td>NaN</td>\n      <td>NaN</td>\n      <td>NaN</td>\n      <td>NaN</td>\n      <td>NaN</td>\n      <td>8-0-2</td>\n      <td>NaN</td>\n      <td>NaN</td>\n      <td>PHI 23; PHI 27</td>\n      <td>NaN</td>\n      <td>NaN</td>\n    </tr>\n    <tr>\n      <th>1</th>\n      <td>2018090600</td>\n      <td>366</td>\n      <td>OK</td>\n      <td>1</td>\n      <td>2</td>\n      <td>4</td>\n      <td>N</td>\n      <td>C</td>\n      <td>C</td>\n      <td>C</td>\n      <td>R</td>\n      <td>PHI 57</td>\n      <td>NaN</td>\n      <td>PHI 54</td>\n      <td>NaN</td>\n      <td>PHI 18; PHI 29</td>\n      <td>NaN</td>\n      <td>NaN</td>\n      <td>ATL 83; ATL 27; ATL 34; ATL 21</td>\n      <td>CC</td>\n    </tr>\n    <tr>\n      <th>2</th>\n      <td>2018090600</td>\n      <td>658</td>\n      <td>NaN</td>\n      <td>NaN</td>\n      <td>NaN</td>\n      <td>NaN</td>\n      <td>NaN</td>\n      <td>NaN</td>\n      <td>NaN</td>\n      <td>NaN</td>\n      <td>NaN</td>\n      <td>NaN</td>\n      <td>NaN</td>\n      <td>NaN</td>\n      <td>NaN</td>\n      <td>NaN</td>\n      <td>NaN</td>\n      <td>PHI 58</td>\n      <td>NaN</td>\n      <td>NaN</td>\n    </tr>\n    <tr>\n      <th>3</th>\n      <td>2018090600</td>\n      <td>677</td>\n      <td>NaN</td>\n      <td>NaN</td>\n      <td>NaN</td>\n      <td>4</td>\n      <td>D</td>\n      <td>R</td>\n      <td>R</td>\n      <td>C</td>\n      <td>C</td>\n      <td>ATL 83</td>\n      <td>ATL 22</td>\n      <td>ATL 27</td>\n      <td>8-0-2</td>\n      <td>NaN</td>\n      <td>NaN</td>\n      <td>ATL 17; ATL 22</td>\n      <td>NaN</td>\n      <td>NaN</td>\n    </tr>\n    <tr>\n      <th>4</th>\n      <td>2018090600</td>\n      <td>872</td>\n      <td>OK</td>\n      <td>1</td>\n      <td>2</td>\n      <td>4</td>\n      <td>N</td>\n      <td>C</td>\n      <td>L</td>\n      <td>NaN</td>\n      <td>NaN</td>\n      <td>NaN</td>\n      <td>NaN</td>\n      <td>NaN</td>\n      <td>NaN</td>\n      <td>PHI 18; PHI 29</td>\n      <td>ATL 85</td>\n      <td>ATL 37</td>\n      <td>ATL 83; ATL 34; ATL 21</td>\n      <td>BF</td>\n    </tr>\n    <tr>\n      <th>...</th>\n      <td>...</td>\n      <td>...</td>\n      <td>...</td>\n      <td>...</td>\n      <td>...</td>\n      <td>...</td>\n      <td>...</td>\n      <td>...</td>\n      <td>...</td>\n      <td>...</td>\n      <td>...</td>\n      <td>...</td>\n      <td>...</td>\n      <td>...</td>\n      <td>...</td>\n      <td>...</td>\n      <td>...</td>\n      <td>...</td>\n      <td>...</td>\n      <td>...</td>\n    </tr>\n    <tr>\n      <th>19974</th>\n      <td>2021010315</td>\n      <td>3683</td>\n      <td>NaN</td>\n      <td>NaN</td>\n      <td>NaN</td>\n      <td>4</td>\n      <td>D</td>\n      <td>L</td>\n      <td>L</td>\n      <td>NaN</td>\n      <td>NaN</td>\n      <td>NaN</td>\n      <td>NaN</td>\n      <td>NaN</td>\n      <td>8-0-2</td>\n      <td>NaN</td>\n      <td>NaN</td>\n      <td>SEA 28; SEA 99</td>\n      <td>NaN</td>\n      <td>NaN</td>\n    </tr>\n    <tr>\n      <th>19975</th>\n      <td>2021010315</td>\n      <td>3870</td>\n      <td>NaN</td>\n      <td>NaN</td>\n      <td>NaN</td>\n      <td>NaN</td>\n      <td>NaN</td>\n      <td>NaN</td>\n      <td>NaN</td>\n      <td>NaN</td>\n      <td>NaN</td>\n      <td>NaN</td>\n      <td>NaN</td>\n      <td>NaN</td>\n      <td>NaN</td>\n      <td>NaN</td>\n      <td>NaN</td>\n      <td>SF 20; SF 51</td>\n      <td>NaN</td>\n      <td>NaN</td>\n    </tr>\n    <tr>\n      <th>19976</th>\n      <td>2021010315</td>\n      <td>3886</td>\n      <td>NaN</td>\n      <td>NaN</td>\n      <td>NaN</td>\n      <td>4</td>\n      <td>D</td>\n      <td>L</td>\n      <td>L</td>\n      <td>NaN</td>\n      <td>NaN</td>\n      <td>NaN</td>\n      <td>NaN</td>\n      <td>NaN</td>\n      <td>8-0-2</td>\n      <td>NaN</td>\n      <td>NaN</td>\n      <td>SEA 28; SEA 99</td>\n      <td>NaN</td>\n      <td>NaN</td>\n    </tr>\n    <tr>\n      <th>19977</th>\n      <td>2021010315</td>\n      <td>4166</td>\n      <td>NaN</td>\n      <td>NaN</td>\n      <td>NaN</td>\n      <td>NaN</td>\n      <td>NaN</td>\n      <td>NaN</td>\n      <td>NaN</td>\n      <td>NaN</td>\n      <td>NaN</td>\n      <td>NaN</td>\n      <td>NaN</td>\n      <td>NaN</td>\n      <td>NaN</td>\n      <td>NaN</td>\n      <td>NaN</td>\n      <td>SEA 37; SEA 54</td>\n      <td>NaN</td>\n      <td>NaN</td>\n    </tr>\n    <tr>\n      <th>19978</th>\n      <td>2021010315</td>\n      <td>4182</td>\n      <td>NaN</td>\n      <td>NaN</td>\n      <td>NaN</td>\n      <td>NaN</td>\n      <td>O</td>\n      <td>L</td>\n      <td>L</td>\n      <td>NaN</td>\n      <td>NaN</td>\n      <td>NaN</td>\n      <td>NaN</td>\n      <td>SF 18</td>\n      <td>8-0-2</td>\n      <td>NaN</td>\n      <td>NaN</td>\n      <td>SF 43</td>\n      <td>NaN</td>\n      <td>NaN</td>\n    </tr>\n  </tbody>\n</table>\n<p>19979 rows × 20 columns</p>\n</div>"
     },
     "metadata": {},
     "execution_count": 6
    }
   ],
   "source": [
    "scout = pd.read_csv('data/PFFScoutingData.csv')\n",
    "scout.head()\n",
    "# gunner_cols = [f'gunner{i}' for i in range(1, 5)]\n",
    "# gunner_values = np.array([\n",
    "#     np.pad(row, (0, 4 - len(row)), 'constant', constant_values=(np.nan,)) for row in scout['gunners'].str.split(';')])\n",
    "\n",
    "# print(gunner_values)\n",
    "\n",
    "# print(scout['gunners'].str.split(';').fillna(pd.Series(np.zeros(4))))\n",
    "\n",
    "\n",
    "# pd.DataFrame(gunner_values, index=scout.index).head(20)\n",
    "# scout[gunner_cols] = pd.DataFrame(gunner_values, index=scout.index)\n",
    "# scout.head()\n"
   ]
  },
  {
   "source": [
    "## Import and Inspect 2018 Tracking Data"
   ],
   "cell_type": "markdown",
   "metadata": {}
  },
  {
   "cell_type": "code",
   "execution_count": 31,
   "metadata": {},
   "outputs": [
    {
     "output_type": "execute_result",
     "data": {
      "text/plain": [
       "                      time  x  y  s  a  dis   o  dir event  nflId  \\\n",
       "0  2018-12-30T21:25:32.200 41 29  4  1    0 130  128  None 39,470   \n",
       "1  2018-12-30T21:25:32.300 42 29  5  1    0 129  128  None 39,470   \n",
       "2  2018-12-30T21:25:32.400 42 29  5  1    0 124  128  None 39,470   \n",
       "3  2018-12-30T21:25:32.500 42 29  5  1    0 126  127  None 39,470   \n",
       "4  2018-12-30T21:25:32.600 43 28  5  1    0 132  125  None 39,470   \n",
       "\n",
       "     displayName  jerseyNumber position  team  frameId      gameId  playId  \\\n",
       "0  Justin Tucker             9        K  home        1  2018123000      36   \n",
       "1  Justin Tucker             9        K  home        2  2018123000      36   \n",
       "2  Justin Tucker             9        K  home        3  2018123000      36   \n",
       "3  Justin Tucker             9        K  home        4  2018123000      36   \n",
       "4  Justin Tucker             9        K  home        5  2018123000      36   \n",
       "\n",
       "  playDirection  \n",
       "0         right  \n",
       "1         right  \n",
       "2         right  \n",
       "3         right  \n",
       "4         right  "
      ],
      "text/html": "<div>\n<style scoped>\n    .dataframe tbody tr th:only-of-type {\n        vertical-align: middle;\n    }\n\n    .dataframe tbody tr th {\n        vertical-align: top;\n    }\n\n    .dataframe thead th {\n        text-align: right;\n    }\n</style>\n<table border=\"1\" class=\"dataframe\">\n  <thead>\n    <tr style=\"text-align: right;\">\n      <th></th>\n      <th>time</th>\n      <th>x</th>\n      <th>y</th>\n      <th>s</th>\n      <th>a</th>\n      <th>dis</th>\n      <th>o</th>\n      <th>dir</th>\n      <th>event</th>\n      <th>nflId</th>\n      <th>displayName</th>\n      <th>jerseyNumber</th>\n      <th>position</th>\n      <th>team</th>\n      <th>frameId</th>\n      <th>gameId</th>\n      <th>playId</th>\n      <th>playDirection</th>\n    </tr>\n  </thead>\n  <tbody>\n    <tr>\n      <th>0</th>\n      <td>2018-12-30T21:25:32.200</td>\n      <td>41</td>\n      <td>29</td>\n      <td>4</td>\n      <td>1</td>\n      <td>0</td>\n      <td>130</td>\n      <td>128</td>\n      <td>None</td>\n      <td>39,470</td>\n      <td>Justin Tucker</td>\n      <td>9</td>\n      <td>K</td>\n      <td>home</td>\n      <td>1</td>\n      <td>2018123000</td>\n      <td>36</td>\n      <td>right</td>\n    </tr>\n    <tr>\n      <th>1</th>\n      <td>2018-12-30T21:25:32.300</td>\n      <td>42</td>\n      <td>29</td>\n      <td>5</td>\n      <td>1</td>\n      <td>0</td>\n      <td>129</td>\n      <td>128</td>\n      <td>None</td>\n      <td>39,470</td>\n      <td>Justin Tucker</td>\n      <td>9</td>\n      <td>K</td>\n      <td>home</td>\n      <td>2</td>\n      <td>2018123000</td>\n      <td>36</td>\n      <td>right</td>\n    </tr>\n    <tr>\n      <th>2</th>\n      <td>2018-12-30T21:25:32.400</td>\n      <td>42</td>\n      <td>29</td>\n      <td>5</td>\n      <td>1</td>\n      <td>0</td>\n      <td>124</td>\n      <td>128</td>\n      <td>None</td>\n      <td>39,470</td>\n      <td>Justin Tucker</td>\n      <td>9</td>\n      <td>K</td>\n      <td>home</td>\n      <td>3</td>\n      <td>2018123000</td>\n      <td>36</td>\n      <td>right</td>\n    </tr>\n    <tr>\n      <th>3</th>\n      <td>2018-12-30T21:25:32.500</td>\n      <td>42</td>\n      <td>29</td>\n      <td>5</td>\n      <td>1</td>\n      <td>0</td>\n      <td>126</td>\n      <td>127</td>\n      <td>None</td>\n      <td>39,470</td>\n      <td>Justin Tucker</td>\n      <td>9</td>\n      <td>K</td>\n      <td>home</td>\n      <td>4</td>\n      <td>2018123000</td>\n      <td>36</td>\n      <td>right</td>\n    </tr>\n    <tr>\n      <th>4</th>\n      <td>2018-12-30T21:25:32.600</td>\n      <td>43</td>\n      <td>28</td>\n      <td>5</td>\n      <td>1</td>\n      <td>0</td>\n      <td>132</td>\n      <td>125</td>\n      <td>None</td>\n      <td>39,470</td>\n      <td>Justin Tucker</td>\n      <td>9</td>\n      <td>K</td>\n      <td>home</td>\n      <td>5</td>\n      <td>2018123000</td>\n      <td>36</td>\n      <td>right</td>\n    </tr>\n  </tbody>\n</table>\n</div>"
     },
     "metadata": {},
     "execution_count": 31
    }
   ],
   "source": [
    "tracking  = pd.read_csv('data/tracking2018.csv')\n",
    "tracking.head()"
   ]
  },
  {
   "source": [
    "## Enrich Tracking Data\n",
    "\n",
    "In order to be consistent, let's standardize the play direction to always have the offense going from *left* to *right*. All we should need to do is for plays going to the *left*,\n",
    "- flip x coordinate (`field_width - x`), \n",
    "- flip y coordinate (`field_height - y`), and \n",
    "- rotate the dir by 180 (`(360 - dir) % 360`). \n",
    "\n",
    "For plays going to the *right*, no conversion is needed. We'll store these new, or \"standardized\", values in `stdX`, `stdY`, and `stdDir`."
   ],
   "cell_type": "markdown",
   "metadata": {}
  },
  {
   "cell_type": "code",
   "execution_count": 25,
   "metadata": {},
   "outputs": [
    {
     "output_type": "execute_result",
     "data": {
      "text/plain": [
       "                      time  x  y  s  a  dis   o  dir event  nflId  ...  \\\n",
       "0  2018-12-30T21:25:32.200 41 29  4  1    0 130  128  None 39,470  ...   \n",
       "1  2018-12-30T21:25:32.300 42 29  5  1    0 129  128  None 39,470  ...   \n",
       "2  2018-12-30T21:25:32.400 42 29  5  1    0 124  128  None 39,470  ...   \n",
       "3  2018-12-30T21:25:32.500 42 29  5  1    0 126  127  None 39,470  ...   \n",
       "4  2018-12-30T21:25:32.600 43 28  5  1    0 132  125  None 39,470  ...   \n",
       "\n",
       "  jerseyNumber  position  team frameId      gameId  playId  playDirection  \\\n",
       "0            9         K  home       1  2018123000      36          right   \n",
       "1            9         K  home       2  2018123000      36          right   \n",
       "2            9         K  home       3  2018123000      36          right   \n",
       "3            9         K  home       4  2018123000      36          right   \n",
       "4            9         K  home       5  2018123000      36          right   \n",
       "\n",
       "  stdX  stdY  stdDir  \n",
       "0   41    29     128  \n",
       "1   42    29     128  \n",
       "2   42    29     128  \n",
       "3   42    29     127  \n",
       "4   43    28     125  \n",
       "\n",
       "[5 rows x 21 columns]"
      ],
      "text/html": "<div>\n<style scoped>\n    .dataframe tbody tr th:only-of-type {\n        vertical-align: middle;\n    }\n\n    .dataframe tbody tr th {\n        vertical-align: top;\n    }\n\n    .dataframe thead th {\n        text-align: right;\n    }\n</style>\n<table border=\"1\" class=\"dataframe\">\n  <thead>\n    <tr style=\"text-align: right;\">\n      <th></th>\n      <th>time</th>\n      <th>x</th>\n      <th>y</th>\n      <th>s</th>\n      <th>a</th>\n      <th>dis</th>\n      <th>o</th>\n      <th>dir</th>\n      <th>event</th>\n      <th>nflId</th>\n      <th>...</th>\n      <th>jerseyNumber</th>\n      <th>position</th>\n      <th>team</th>\n      <th>frameId</th>\n      <th>gameId</th>\n      <th>playId</th>\n      <th>playDirection</th>\n      <th>stdX</th>\n      <th>stdY</th>\n      <th>stdDir</th>\n    </tr>\n  </thead>\n  <tbody>\n    <tr>\n      <th>0</th>\n      <td>2018-12-30T21:25:32.200</td>\n      <td>41</td>\n      <td>29</td>\n      <td>4</td>\n      <td>1</td>\n      <td>0</td>\n      <td>130</td>\n      <td>128</td>\n      <td>None</td>\n      <td>39,470</td>\n      <td>...</td>\n      <td>9</td>\n      <td>K</td>\n      <td>home</td>\n      <td>1</td>\n      <td>2018123000</td>\n      <td>36</td>\n      <td>right</td>\n      <td>41</td>\n      <td>29</td>\n      <td>128</td>\n    </tr>\n    <tr>\n      <th>1</th>\n      <td>2018-12-30T21:25:32.300</td>\n      <td>42</td>\n      <td>29</td>\n      <td>5</td>\n      <td>1</td>\n      <td>0</td>\n      <td>129</td>\n      <td>128</td>\n      <td>None</td>\n      <td>39,470</td>\n      <td>...</td>\n      <td>9</td>\n      <td>K</td>\n      <td>home</td>\n      <td>2</td>\n      <td>2018123000</td>\n      <td>36</td>\n      <td>right</td>\n      <td>42</td>\n      <td>29</td>\n      <td>128</td>\n    </tr>\n    <tr>\n      <th>2</th>\n      <td>2018-12-30T21:25:32.400</td>\n      <td>42</td>\n      <td>29</td>\n      <td>5</td>\n      <td>1</td>\n      <td>0</td>\n      <td>124</td>\n      <td>128</td>\n      <td>None</td>\n      <td>39,470</td>\n      <td>...</td>\n      <td>9</td>\n      <td>K</td>\n      <td>home</td>\n      <td>3</td>\n      <td>2018123000</td>\n      <td>36</td>\n      <td>right</td>\n      <td>42</td>\n      <td>29</td>\n      <td>128</td>\n    </tr>\n    <tr>\n      <th>3</th>\n      <td>2018-12-30T21:25:32.500</td>\n      <td>42</td>\n      <td>29</td>\n      <td>5</td>\n      <td>1</td>\n      <td>0</td>\n      <td>126</td>\n      <td>127</td>\n      <td>None</td>\n      <td>39,470</td>\n      <td>...</td>\n      <td>9</td>\n      <td>K</td>\n      <td>home</td>\n      <td>4</td>\n      <td>2018123000</td>\n      <td>36</td>\n      <td>right</td>\n      <td>42</td>\n      <td>29</td>\n      <td>127</td>\n    </tr>\n    <tr>\n      <th>4</th>\n      <td>2018-12-30T21:25:32.600</td>\n      <td>43</td>\n      <td>28</td>\n      <td>5</td>\n      <td>1</td>\n      <td>0</td>\n      <td>132</td>\n      <td>125</td>\n      <td>None</td>\n      <td>39,470</td>\n      <td>...</td>\n      <td>9</td>\n      <td>K</td>\n      <td>home</td>\n      <td>5</td>\n      <td>2018123000</td>\n      <td>36</td>\n      <td>right</td>\n      <td>43</td>\n      <td>28</td>\n      <td>125</td>\n    </tr>\n  </tbody>\n</table>\n<p>5 rows × 21 columns</p>\n</div>"
     },
     "metadata": {},
     "execution_count": 25
    }
   ],
   "source": [
    "left_mask = tracking['playDirection'] == 'left'\n",
    "right_mask = tracking['playDirection'] == 'right'\n",
    "tracking.loc[left_mask, 'stdX'] = 120 - tracking.loc[left_mask, 'x']\n",
    "tracking.loc[left_mask, 'stdY'] = field_height - tracking.loc[left_mask, 'y']\n",
    "tracking.loc[left_mask, 'stdDir'] = (360 - tracking.loc[left_mask, 'dir']) % 360\n",
    "tracking.loc[right_mask, 'stdX'] = tracking.loc[right_mask, 'x']\n",
    "tracking.loc[right_mask, 'stdY'] = tracking.loc[right_mask, 'y']\n",
    "tracking.loc[right_mask, 'stdDir'] = tracking.loc[right_mask, 'dir']\n",
    "tracking.head()"
   ]
  },
  {
   "source": [
    "## Visualize Plays\n",
    "\n",
    "One helpful thing when working with tracking data is to be able to see what each datapoint represents and how a frame looks. \n",
    "To do that, we'll create a function that creates a GIF of the requested play.\n",
    "It'll take in a `game_id`, `play_id`, and Boolean flag `std` which says if the GIF should use the standardized coordinates or not. "
   ],
   "cell_type": "markdown",
   "metadata": {}
  },
  {
   "cell_type": "code",
   "execution_count": 22,
   "metadata": {},
   "outputs": [],
   "source": [
    "def animate_play(game_id, play_id, std=False):\n",
    "    x_name = 'stdX' if std else 'x'\n",
    "    y_name = 'stdY' if std else 'y'\n",
    "\n",
    "    play = tracking.loc[(tracking['gameId'] == game_id) &( tracking['playId'] == play_id)]\n",
    "\n",
    "    play['nflId'] = play['nflId'].fillna('football').astype(str)\n",
    "    play['marker'] = play['team'].replace({'home': 'o', 'away': 's', 'football': 'd'})\n",
    "    play['color'] = play['team'].replace({'home': 'r', 'away': 'blue', 'football': 'brown'})\n",
    "\n",
    "    fig, ax = draw_field()\n",
    "    markers = {\n",
    "        f'{x[\"nflId\"]}': ax.scatter(\n",
    "            x[x_name], \n",
    "            x[y_name],\n",
    "            s=10,\n",
    "            marker=x['marker'],\n",
    "            c=x['color'],\n",
    "            zorder=3,\n",
    "            edgecolors='black'\n",
    "        ) for x in play.loc[play[\"frameId\"] == 1].to_dict(orient='records')\n",
    "    }\n",
    "\n",
    "    def update(i):\n",
    "        new_values = play.loc[play[\"frameId\"] == i].set_index('nflId')[[x_name, y_name]].to_dict(orient='index')\n",
    "        for k, v in markers.items():\n",
    "            v.set_offsets([new_values[k][x_name], new_values[k][y_name]])\n",
    "        return markers.values()\n",
    "\n",
    "    ani = FuncAnimation(fig, update, frames=play['frameId'].unique(), blit=True)\n",
    "    ani.save(f'game-{game_id}_play-{play_id}{\"-std\" if std else \"\"}.gif')\n",
    "\n",
    "def draw_field():\n",
    "    fig = plt.figure() \n",
    "    ax = plt.axes(xlim=(0, 120), ylim=(0, field_height)) \n",
    "    ax.set_facecolor('green')\n",
    "\n",
    "    # Endzones\n",
    "    rect = patches.Rectangle((0, 0), 10, field_height, linewidth=1, edgecolor='r', facecolor='red', zorder=1)\n",
    "    ax.add_patch(rect)\n",
    "    rect = patches.Rectangle((110, 0), 10, field_height, linewidth=1, edgecolor='blue', facecolor='blue', zorder=1)\n",
    "    ax.add_patch(rect)\n",
    "\n",
    "    # Yardlines\n",
    "    for i in range(12):\n",
    "        ax.plot((i*10, i*10), (0, field_height), color='w', zorder=1)\n",
    "        if 1 < i < 11:\n",
    "            label = (i-1) * 10\n",
    "            ax.text(i*10 - 3, 5, f'{label}' if i < 6 else f'{100 - label}')\n",
    "\n",
    "    plt.tick_params(\n",
    "        axis='both', \n",
    "        which='both', \n",
    "        bottom=False, \n",
    "        top=False,       \n",
    "        left=False,\n",
    "        labelbottom=False,\n",
    "        labelleft=False\n",
    "    ) \n",
    "    return fig, ax\n"
   ]
  },
  {
   "source": [
    "Let's try out this function with a play that's going to the *left* so we can see if the standardized coordinates worked as well. The firsth function call will create a file `game-2018090600_play-658-std.gif` and the second call will create `game-2018090600_play-658.gif`."
   ],
   "cell_type": "markdown",
   "metadata": {}
  },
  {
   "cell_type": "code",
   "execution_count": 23,
   "metadata": {},
   "outputs": [
    {
     "output_type": "display_data",
     "data": {
      "text/plain": "<Figure size 432x288 with 1 Axes>",
      "image/svg+xml": "<?xml version=\"1.0\" encoding=\"utf-8\" standalone=\"no\"?>\n<!DOCTYPE svg PUBLIC \"-//W3C//DTD SVG 1.1//EN\"\n  \"http://www.w3.org/Graphics/SVG/1.1/DTD/svg11.dtd\">\n<svg height=\"231.84pt\" version=\"1.1\" viewBox=\"0 0 349.2 231.84\" width=\"349.2pt\" xmlns=\"http://www.w3.org/2000/svg\" xmlns:xlink=\"http://www.w3.org/1999/xlink\">\n <metadata>\n  <rdf:RDF xmlns:cc=\"http://creativecommons.org/ns#\" xmlns:dc=\"http://purl.org/dc/elements/1.1/\" xmlns:rdf=\"http://www.w3.org/1999/02/22-rdf-syntax-ns#\">\n   <cc:Work>\n    <dc:type rdf:resource=\"http://purl.org/dc/dcmitype/StillImage\"/>\n    <dc:date>2021-10-03T12:01:10.483627</dc:date>\n    <dc:format>image/svg+xml</dc:format>\n    <dc:creator>\n     <cc:Agent>\n      <dc:title>Matplotlib v3.4.3, https://matplotlib.org/</dc:title>\n     </cc:Agent>\n    </dc:creator>\n   </cc:Work>\n  </rdf:RDF>\n </metadata>\n <defs>\n  <style type=\"text/css\">*{stroke-linecap:butt;stroke-linejoin:round;}</style>\n </defs>\n <g id=\"figure_1\">\n  <g id=\"patch_1\">\n   <path d=\"M 0 231.84 \nL 349.2 231.84 \nL 349.2 0 \nL 0 0 \nz\n\" style=\"fill:none;\"/>\n  </g>\n  <g id=\"axes_1\">\n   <g id=\"patch_2\">\n    <path d=\"M 7.2 224.64 \nL 342 224.64 \nL 342 7.2 \nL 7.2 7.2 \nz\n\" style=\"fill:#008000;\"/>\n   </g>\n   <g id=\"patch_3\">\n    <path clip-path=\"url(#pce2a00df34)\" d=\"M 7.2 224.64 \nL 35.1 224.64 \nL 35.1 7.2 \nL 7.2 7.2 \nz\n\" style=\"fill:#ff0000;stroke:#ff0000;stroke-linejoin:miter;\"/>\n   </g>\n   <g id=\"patch_4\">\n    <path clip-path=\"url(#pce2a00df34)\" d=\"M 314.1 224.64 \nL 342 224.64 \nL 342 7.2 \nL 314.1 7.2 \nz\n\" style=\"fill:#0000ff;stroke:#0000ff;stroke-linejoin:miter;\"/>\n   </g>\n   <g id=\"line2d_1\">\n    <path clip-path=\"url(#pce2a00df34)\" d=\"M 7.2 224.64 \nL 7.2 7.2 \n\" style=\"fill:none;stroke:#ffffff;stroke-linecap:square;stroke-width:1.5;\"/>\n   </g>\n   <g id=\"line2d_2\">\n    <path clip-path=\"url(#pce2a00df34)\" d=\"M 35.1 224.64 \nL 35.1 7.2 \n\" style=\"fill:none;stroke:#ffffff;stroke-linecap:square;stroke-width:1.5;\"/>\n   </g>\n   <g id=\"line2d_3\">\n    <path clip-path=\"url(#pce2a00df34)\" d=\"M 63 224.64 \nL 63 7.2 \n\" style=\"fill:none;stroke:#ffffff;stroke-linecap:square;stroke-width:1.5;\"/>\n   </g>\n   <g id=\"line2d_4\">\n    <path clip-path=\"url(#pce2a00df34)\" d=\"M 90.9 224.64 \nL 90.9 7.2 \n\" style=\"fill:none;stroke:#ffffff;stroke-linecap:square;stroke-width:1.5;\"/>\n   </g>\n   <g id=\"line2d_5\">\n    <path clip-path=\"url(#pce2a00df34)\" d=\"M 118.8 224.64 \nL 118.8 7.2 \n\" style=\"fill:none;stroke:#ffffff;stroke-linecap:square;stroke-width:1.5;\"/>\n   </g>\n   <g id=\"line2d_6\">\n    <path clip-path=\"url(#pce2a00df34)\" d=\"M 146.7 224.64 \nL 146.7 7.2 \n\" style=\"fill:none;stroke:#ffffff;stroke-linecap:square;stroke-width:1.5;\"/>\n   </g>\n   <g id=\"line2d_7\">\n    <path clip-path=\"url(#pce2a00df34)\" d=\"M 174.6 224.64 \nL 174.6 7.2 \n\" style=\"fill:none;stroke:#ffffff;stroke-linecap:square;stroke-width:1.5;\"/>\n   </g>\n   <g id=\"line2d_8\">\n    <path clip-path=\"url(#pce2a00df34)\" d=\"M 202.5 224.64 \nL 202.5 7.2 \n\" style=\"fill:none;stroke:#ffffff;stroke-linecap:square;stroke-width:1.5;\"/>\n   </g>\n   <g id=\"line2d_9\">\n    <path clip-path=\"url(#pce2a00df34)\" d=\"M 230.4 224.64 \nL 230.4 7.2 \n\" style=\"fill:none;stroke:#ffffff;stroke-linecap:square;stroke-width:1.5;\"/>\n   </g>\n   <g id=\"line2d_10\">\n    <path clip-path=\"url(#pce2a00df34)\" d=\"M 258.3 224.64 \nL 258.3 7.2 \n\" style=\"fill:none;stroke:#ffffff;stroke-linecap:square;stroke-width:1.5;\"/>\n   </g>\n   <g id=\"line2d_11\">\n    <path clip-path=\"url(#pce2a00df34)\" d=\"M 286.2 224.64 \nL 286.2 7.2 \n\" style=\"fill:none;stroke:#ffffff;stroke-linecap:square;stroke-width:1.5;\"/>\n   </g>\n   <g id=\"line2d_12\">\n    <path clip-path=\"url(#pce2a00df34)\" d=\"M 314.1 224.64 \nL 314.1 7.2 \n\" style=\"fill:none;stroke:#ffffff;stroke-linecap:square;stroke-width:1.5;\"/>\n   </g>\n   <g id=\"matplotlib.axis_1\">\n    <g id=\"xtick_1\"/>\n    <g id=\"xtick_2\"/>\n    <g id=\"xtick_3\"/>\n    <g id=\"xtick_4\"/>\n    <g id=\"xtick_5\"/>\n    <g id=\"xtick_6\"/>\n    <g id=\"xtick_7\"/>\n   </g>\n   <g id=\"matplotlib.axis_2\">\n    <g id=\"ytick_1\"/>\n    <g id=\"ytick_2\"/>\n    <g id=\"ytick_3\"/>\n    <g id=\"ytick_4\"/>\n    <g id=\"ytick_5\"/>\n    <g id=\"ytick_6\"/>\n   </g>\n   <g id=\"patch_5\">\n    <path d=\"M 7.2 224.64 \nL 7.2 7.2 \n\" style=\"fill:none;stroke:#000000;stroke-linecap:square;stroke-linejoin:miter;stroke-width:0.8;\"/>\n   </g>\n   <g id=\"patch_6\">\n    <path d=\"M 342 224.64 \nL 342 7.2 \n\" style=\"fill:none;stroke:#000000;stroke-linecap:square;stroke-linejoin:miter;stroke-width:0.8;\"/>\n   </g>\n   <g id=\"patch_7\">\n    <path d=\"M 7.2 224.64 \nL 342 224.64 \n\" style=\"fill:none;stroke:#000000;stroke-linecap:square;stroke-linejoin:miter;stroke-width:0.8;\"/>\n   </g>\n   <g id=\"patch_8\">\n    <path d=\"M 7.2 7.2 \nL 342 7.2 \n\" style=\"fill:none;stroke:#000000;stroke-linecap:square;stroke-linejoin:miter;stroke-width:0.8;\"/>\n   </g>\n   <g id=\"PathCollection_1\">\n    <defs>\n     <path d=\"M -1.581139 1.581139 \nL 1.581139 1.581139 \nL 1.581139 -1.581139 \nL -1.581139 -1.581139 \nz\n\" id=\"md33da2cecd\" style=\"stroke:#000000;\"/>\n    </defs>\n    <g clip-path=\"url(#pce2a00df34)\">\n     <use style=\"fill:#0000ff;stroke:#000000;\" x=\"284.4702\" xlink:href=\"#md33da2cecd\" y=\"98.581914\"/>\n    </g>\n   </g>\n   <g id=\"PathCollection_2\">\n    <defs>\n     <path d=\"M 0 1.581139 \nC 0.419323 1.581139 0.821528 1.41454 1.118034 1.118034 \nC 1.41454 0.821528 1.581139 0.419323 1.581139 0 \nC 1.581139 -0.419323 1.41454 -0.821528 1.118034 -1.118034 \nC 0.821528 -1.41454 0.419323 -1.581139 0 -1.581139 \nC -0.419323 -1.581139 -0.821528 -1.41454 -1.118034 -1.118034 \nC -1.41454 -0.821528 -1.581139 -0.419323 -1.581139 0 \nC -1.581139 0.419323 -1.41454 0.821528 -1.118034 1.118034 \nC -0.821528 1.41454 -0.419323 1.581139 0 1.581139 \nz\n\" id=\"mf0e0cbb678\" style=\"stroke:#000000;\"/>\n    </defs>\n    <g clip-path=\"url(#pce2a00df34)\">\n     <use style=\"fill:#ff0000;stroke:#000000;\" x=\"304.9767\" xlink:href=\"#mf0e0cbb678\" y=\"95.236683\"/>\n    </g>\n   </g>\n   <g id=\"PathCollection_3\">\n    <g clip-path=\"url(#pce2a00df34)\">\n     <use style=\"fill:#ff0000;stroke:#000000;\" x=\"296.0766\" xlink:href=\"#mf0e0cbb678\" y=\"92.992931\"/>\n    </g>\n   </g>\n   <g id=\"PathCollection_4\">\n    <g clip-path=\"url(#pce2a00df34)\">\n     <use style=\"fill:#ff0000;stroke:#000000;\" x=\"282.7683\" xlink:href=\"#mf0e0cbb678\" y=\"111.02454\"/>\n    </g>\n   </g>\n   <g id=\"PathCollection_5\">\n    <g clip-path=\"url(#pce2a00df34)\">\n     <use style=\"fill:#0000ff;stroke:#000000;\" x=\"298.8108\" xlink:href=\"#md33da2cecd\" y=\"118.041366\"/>\n    </g>\n   </g>\n   <g id=\"PathCollection_6\">\n    <g clip-path=\"url(#pce2a00df34)\">\n     <use style=\"fill:#ff0000;stroke:#000000;\" x=\"296.5509\" xlink:href=\"#mf0e0cbb678\" y=\"110.331017\"/>\n    </g>\n   </g>\n   <g id=\"PathCollection_7\">\n    <g clip-path=\"url(#pce2a00df34)\">\n     <use style=\"fill:#ff0000;stroke:#000000;\" x=\"295.2675\" xlink:href=\"#mf0e0cbb678\" y=\"116.491137\"/>\n    </g>\n   </g>\n   <g id=\"PathCollection_8\">\n    <g clip-path=\"url(#pce2a00df34)\">\n     <use style=\"fill:#0000ff;stroke:#000000;\" x=\"289.0458\" xlink:href=\"#md33da2cecd\" y=\"107.148968\"/>\n    </g>\n   </g>\n   <g id=\"PathCollection_9\">\n    <g clip-path=\"url(#pce2a00df34)\">\n     <use style=\"fill:#0000ff;stroke:#000000;\" x=\"296.2719\" xlink:href=\"#md33da2cecd\" y=\"96.746116\"/>\n    </g>\n   </g>\n   <g id=\"PathCollection_10\">\n    <g clip-path=\"url(#pce2a00df34)\">\n     <use style=\"fill:#0000ff;stroke:#000000;\" x=\"283.5774\" xlink:href=\"#md33da2cecd\" y=\"103.558964\"/>\n    </g>\n   </g>\n   <g id=\"PathCollection_11\">\n    <g clip-path=\"url(#pce2a00df34)\">\n     <use style=\"fill:#ff0000;stroke:#000000;\" x=\"286.2558\" xlink:href=\"#mf0e0cbb678\" y=\"79.000075\"/>\n    </g>\n   </g>\n   <g id=\"PathCollection_12\">\n    <g clip-path=\"url(#pce2a00df34)\">\n     <use style=\"fill:#0000ff;stroke:#000000;\" x=\"299.4804\" xlink:href=\"#md33da2cecd\" y=\"107.148968\"/>\n    </g>\n   </g>\n   <g id=\"PathCollection_13\">\n    <g clip-path=\"url(#pce2a00df34)\">\n     <use style=\"fill:#0000ff;stroke:#000000;\" x=\"302.3262\" xlink:href=\"#md33da2cecd\" y=\"96.746116\"/>\n    </g>\n   </g>\n   <g id=\"PathCollection_14\">\n    <g clip-path=\"url(#pce2a00df34)\">\n     <use style=\"fill:#0000ff;stroke:#000000;\" x=\"291.8916\" xlink:href=\"#md33da2cecd\" y=\"109.474311\"/>\n    </g>\n   </g>\n   <g id=\"PathCollection_15\">\n    <g clip-path=\"url(#pce2a00df34)\">\n     <use style=\"fill:#ff0000;stroke:#000000;\" x=\"314.1279\" xlink:href=\"#mf0e0cbb678\" y=\"104.41567\"/>\n    </g>\n   </g>\n   <g id=\"PathCollection_16\">\n    <g clip-path=\"url(#pce2a00df34)\">\n     <use style=\"fill:#0000ff;stroke:#000000;\" x=\"288.8226\" xlink:href=\"#md33da2cecd\" y=\"94.62475\"/>\n    </g>\n   </g>\n   <g id=\"PathCollection_17\">\n    <g clip-path=\"url(#pce2a00df34)\">\n     <use style=\"fill:#0000ff;stroke:#000000;\" x=\"307.2924\" xlink:href=\"#md33da2cecd\" y=\"101.60078\"/>\n    </g>\n   </g>\n   <g id=\"PathCollection_18\">\n    <g clip-path=\"url(#pce2a00df34)\">\n     <use style=\"fill:#ff0000;stroke:#000000;\" x=\"270.7713\" xlink:href=\"#mf0e0cbb678\" y=\"85.56815\"/>\n    </g>\n   </g>\n   <g id=\"PathCollection_19\">\n    <g clip-path=\"url(#pce2a00df34)\">\n     <use style=\"fill:#ff0000;stroke:#000000;\" x=\"306.846\" xlink:href=\"#mf0e0cbb678\" y=\"98.418732\"/>\n    </g>\n   </g>\n   <g id=\"PathCollection_20\">\n    <g clip-path=\"url(#pce2a00df34)\">\n     <use style=\"fill:#0000ff;stroke:#000000;\" x=\"303.6654\" xlink:href=\"#md33da2cecd\" y=\"104.456465\"/>\n    </g>\n   </g>\n   <g id=\"PathCollection_21\">\n    <g clip-path=\"url(#pce2a00df34)\">\n     <use style=\"fill:#ff0000;stroke:#000000;\" x=\"294.9327\" xlink:href=\"#mf0e0cbb678\" y=\"104.660443\"/>\n    </g>\n   </g>\n   <g id=\"PathCollection_22\">\n    <g clip-path=\"url(#pce2a00df34)\">\n     <use style=\"fill:#ff0000;stroke:#000000;\" x=\"277.6068\" xlink:href=\"#mf0e0cbb678\" y=\"109.963857\"/>\n    </g>\n   </g>\n   <g id=\"PathCollection_23\">\n    <defs>\n     <path d=\"M -0 2.236068 \nL 1.341641 0 \nL 0 -2.236068 \nL -1.341641 -0 \nz\n\" id=\"m6c939797f5\" style=\"stroke:#000000;\"/>\n    </defs>\n    <g clip-path=\"url(#pce2a00df34)\">\n     <use style=\"fill:#a52a2a;stroke:#000000;\" x=\"385.6635\" xlink:href=\"#m6c939797f5\" y=\"126.282056\"/>\n    </g>\n   </g>\n   <g id=\"text_1\">\n    <!-- 10 -->\n    <g transform=\"translate(54.63 204.242251)scale(0.1 -0.1)\">\n     <defs>\n      <path d=\"M 794 531 \nL 1825 531 \nL 1825 4091 \nL 703 3866 \nL 703 4441 \nL 1819 4666 \nL 2450 4666 \nL 2450 531 \nL 3481 531 \nL 3481 0 \nL 794 0 \nL 794 531 \nz\n\" id=\"DejaVuSans-31\" transform=\"scale(0.015625)\"/>\n      <path d=\"M 2034 4250 \nQ 1547 4250 1301 3770 \nQ 1056 3291 1056 2328 \nQ 1056 1369 1301 889 \nQ 1547 409 2034 409 \nQ 2525 409 2770 889 \nQ 3016 1369 3016 2328 \nQ 3016 3291 2770 3770 \nQ 2525 4250 2034 4250 \nz\nM 2034 4750 \nQ 2819 4750 3233 4129 \nQ 3647 3509 3647 2328 \nQ 3647 1150 3233 529 \nQ 2819 -91 2034 -91 \nQ 1250 -91 836 529 \nQ 422 1150 422 2328 \nQ 422 3509 836 4129 \nQ 1250 4750 2034 4750 \nz\n\" id=\"DejaVuSans-30\" transform=\"scale(0.015625)\"/>\n     </defs>\n     <use xlink:href=\"#DejaVuSans-31\"/>\n     <use x=\"63.623047\" xlink:href=\"#DejaVuSans-30\"/>\n    </g>\n   </g>\n   <g id=\"text_2\">\n    <!-- 20 -->\n    <g transform=\"translate(82.53 204.242251)scale(0.1 -0.1)\">\n     <defs>\n      <path d=\"M 1228 531 \nL 3431 531 \nL 3431 0 \nL 469 0 \nL 469 531 \nQ 828 903 1448 1529 \nQ 2069 2156 2228 2338 \nQ 2531 2678 2651 2914 \nQ 2772 3150 2772 3378 \nQ 2772 3750 2511 3984 \nQ 2250 4219 1831 4219 \nQ 1534 4219 1204 4116 \nQ 875 4013 500 3803 \nL 500 4441 \nQ 881 4594 1212 4672 \nQ 1544 4750 1819 4750 \nQ 2544 4750 2975 4387 \nQ 3406 4025 3406 3419 \nQ 3406 3131 3298 2873 \nQ 3191 2616 2906 2266 \nQ 2828 2175 2409 1742 \nQ 1991 1309 1228 531 \nz\n\" id=\"DejaVuSans-32\" transform=\"scale(0.015625)\"/>\n     </defs>\n     <use xlink:href=\"#DejaVuSans-32\"/>\n     <use x=\"63.623047\" xlink:href=\"#DejaVuSans-30\"/>\n    </g>\n   </g>\n   <g id=\"text_3\">\n    <!-- 30 -->\n    <g transform=\"translate(110.43 204.242251)scale(0.1 -0.1)\">\n     <defs>\n      <path d=\"M 2597 2516 \nQ 3050 2419 3304 2112 \nQ 3559 1806 3559 1356 \nQ 3559 666 3084 287 \nQ 2609 -91 1734 -91 \nQ 1441 -91 1130 -33 \nQ 819 25 488 141 \nL 488 750 \nQ 750 597 1062 519 \nQ 1375 441 1716 441 \nQ 2309 441 2620 675 \nQ 2931 909 2931 1356 \nQ 2931 1769 2642 2001 \nQ 2353 2234 1838 2234 \nL 1294 2234 \nL 1294 2753 \nL 1863 2753 \nQ 2328 2753 2575 2939 \nQ 2822 3125 2822 3475 \nQ 2822 3834 2567 4026 \nQ 2313 4219 1838 4219 \nQ 1578 4219 1281 4162 \nQ 984 4106 628 3988 \nL 628 4550 \nQ 988 4650 1302 4700 \nQ 1616 4750 1894 4750 \nQ 2613 4750 3031 4423 \nQ 3450 4097 3450 3541 \nQ 3450 3153 3228 2886 \nQ 3006 2619 2597 2516 \nz\n\" id=\"DejaVuSans-33\" transform=\"scale(0.015625)\"/>\n     </defs>\n     <use xlink:href=\"#DejaVuSans-33\"/>\n     <use x=\"63.623047\" xlink:href=\"#DejaVuSans-30\"/>\n    </g>\n   </g>\n   <g id=\"text_4\">\n    <!-- 40 -->\n    <g transform=\"translate(138.33 204.242251)scale(0.1 -0.1)\">\n     <defs>\n      <path d=\"M 2419 4116 \nL 825 1625 \nL 2419 1625 \nL 2419 4116 \nz\nM 2253 4666 \nL 3047 4666 \nL 3047 1625 \nL 3713 1625 \nL 3713 1100 \nL 3047 1100 \nL 3047 0 \nL 2419 0 \nL 2419 1100 \nL 313 1100 \nL 313 1709 \nL 2253 4666 \nz\n\" id=\"DejaVuSans-34\" transform=\"scale(0.015625)\"/>\n     </defs>\n     <use xlink:href=\"#DejaVuSans-34\"/>\n     <use x=\"63.623047\" xlink:href=\"#DejaVuSans-30\"/>\n    </g>\n   </g>\n   <g id=\"text_5\">\n    <!-- 50 -->\n    <g transform=\"translate(166.23 204.242251)scale(0.1 -0.1)\">\n     <defs>\n      <path d=\"M 691 4666 \nL 3169 4666 \nL 3169 4134 \nL 1269 4134 \nL 1269 2991 \nQ 1406 3038 1543 3061 \nQ 1681 3084 1819 3084 \nQ 2600 3084 3056 2656 \nQ 3513 2228 3513 1497 \nQ 3513 744 3044 326 \nQ 2575 -91 1722 -91 \nQ 1428 -91 1123 -41 \nQ 819 9 494 109 \nL 494 744 \nQ 775 591 1075 516 \nQ 1375 441 1709 441 \nQ 2250 441 2565 725 \nQ 2881 1009 2881 1497 \nQ 2881 1984 2565 2268 \nQ 2250 2553 1709 2553 \nQ 1456 2553 1204 2497 \nQ 953 2441 691 2322 \nL 691 4666 \nz\n\" id=\"DejaVuSans-35\" transform=\"scale(0.015625)\"/>\n     </defs>\n     <use xlink:href=\"#DejaVuSans-35\"/>\n     <use x=\"63.623047\" xlink:href=\"#DejaVuSans-30\"/>\n    </g>\n   </g>\n   <g id=\"text_6\">\n    <!-- 40 -->\n    <g transform=\"translate(194.13 204.242251)scale(0.1 -0.1)\">\n     <use xlink:href=\"#DejaVuSans-34\"/>\n     <use x=\"63.623047\" xlink:href=\"#DejaVuSans-30\"/>\n    </g>\n   </g>\n   <g id=\"text_7\">\n    <!-- 30 -->\n    <g transform=\"translate(222.03 204.242251)scale(0.1 -0.1)\">\n     <use xlink:href=\"#DejaVuSans-33\"/>\n     <use x=\"63.623047\" xlink:href=\"#DejaVuSans-30\"/>\n    </g>\n   </g>\n   <g id=\"text_8\">\n    <!-- 20 -->\n    <g transform=\"translate(249.93 204.242251)scale(0.1 -0.1)\">\n     <use xlink:href=\"#DejaVuSans-32\"/>\n     <use x=\"63.623047\" xlink:href=\"#DejaVuSans-30\"/>\n    </g>\n   </g>\n   <g id=\"text_9\">\n    <!-- 10 -->\n    <g transform=\"translate(277.83 204.242251)scale(0.1 -0.1)\">\n     <use xlink:href=\"#DejaVuSans-31\"/>\n     <use x=\"63.623047\" xlink:href=\"#DejaVuSans-30\"/>\n    </g>\n   </g>\n  </g>\n </g>\n <defs>\n  <clipPath id=\"pce2a00df34\">\n   <rect height=\"217.44\" width=\"334.8\" x=\"7.2\" y=\"7.2\"/>\n  </clipPath>\n </defs>\n</svg>\n",
      "image/png": "[encoded data removed]"
     },
     "metadata": {}
    }
   ],
   "source": [
    "animate_play(2018090600, 658, True)\n",
    "animate_play(2018090600, 658)"
   ]
  }
 ]
}