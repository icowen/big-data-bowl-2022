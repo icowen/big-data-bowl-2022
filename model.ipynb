{
 "metadata": {
  "language_info": {
   "codemirror_mode": {
    "name": "ipython",
    "version": 3
   },
   "file_extension": ".py",
   "mimetype": "text/x-python",
   "name": "python",
   "nbconvert_exporter": "python",
   "pygments_lexer": "ipython3",
   "version": "3.9.7"
  },
  "orig_nbformat": 2,
  "kernelspec": {
   "name": "python3",
   "display_name": "Python 3 (ipykernel)",
   "language": "python"
  }
 },
 "nbformat": 4,
 "nbformat_minor": 2,
 "cells": [
  {
   "source": [
    "# Model Notebook\n",
    "\n",
    "This notebook is only used to help speed up data cleaning/transformations and model creation process."
   ],
   "cell_type": "markdown",
   "metadata": {}
  },
  {
   "cell_type": "code",
   "execution_count": 135,
   "metadata": {},
   "outputs": [],
   "source": [
    "import math\n",
    "import pandas as pd\n",
    "import numpy as np\n",
    "import matplotlib.pyplot as plt\n",
    "import matplotlib.patches as patches\n",
    "from matplotlib.animation import FuncAnimation\n",
    "from sklearn.preprocessing import OneHotEncoder, MinMaxScaler\n",
    "\n",
    "field_height = 53.3\n",
    "field_length = 120\n",
    "endzone_length = 10\n",
    "seconds_in_a_half = 15 * 60\n",
    "seconds_in_overtime = 10 * 60"
   ]
  },
  {
   "cell_type": "code",
   "execution_count": 3,
   "metadata": {},
   "outputs": [],
   "source": [
    "games = pd.read_csv('data/games.csv')"
   ]
  },
  {
   "cell_type": "code",
   "execution_count": 4,
   "metadata": {},
   "outputs": [],
   "source": [
    "players = pd.read_csv('data/players.csv')"
   ]
  },
  {
   "cell_type": "code",
   "execution_count": 5,
   "metadata": {},
   "outputs": [],
   "source": [
    "plays = pd.read_csv('data/plays.csv')"
   ]
  },
  {
   "cell_type": "code",
   "execution_count": 6,
   "metadata": {},
   "outputs": [],
   "source": [
    "plays = plays.merge(games, on='gameId')\n",
    "plays['is_home_offense'] = plays['possessionTeam'] == plays['homeTeamAbbr']"
   ]
  },
  {
   "cell_type": "code",
   "execution_count": 7,
   "metadata": {},
   "outputs": [],
   "source": [
    "scout = pd.read_csv('data/PFFScoutingData.csv')"
   ]
  },
  {
   "cell_type": "code",
   "execution_count": 8,
   "metadata": {},
   "outputs": [],
   "source": [
    "tracking_2018 = pd.read_csv('data/tracking2018.csv')\n",
    "tracking_2019 = pd.read_csv('data/tracking2019.csv')\n",
    "tracking_2020 = pd.read_csv('data/tracking2020.csv')\n",
    "tracking = tracking_2018.append([tracking_2019, tracking_2020])\n",
    "\n",
    "left_mask = tracking['playDirection'] == 'left'\n",
    "right_mask = tracking['playDirection'] == 'right'\n",
    "tracking.loc[left_mask, 'stdX'] = 120 - tracking.loc[left_mask, 'x']\n",
    "tracking.loc[left_mask, 'stdY'] = field_height - tracking.loc[left_mask, 'y']\n",
    "tracking.loc[left_mask, 'stdDir'] = (360 - tracking.loc[left_mask, 'dir']) % 360\n",
    "tracking.loc[right_mask, 'stdX'] = tracking.loc[right_mask, 'x']\n",
    "tracking.loc[right_mask, 'stdY'] = tracking.loc[right_mask, 'y']\n",
    "tracking.loc[right_mask, 'stdDir'] = tracking.loc[right_mask, 'dir']\n",
    "tracking['stdR'] = (tracking['stdX'].pow(2) + tracking['stdY'].pow(2)).pow(1/2)\n",
    "tracking['stdTheta'] = np.arctan(tracking['stdY']/tracking['stdX'])"
   ]
  },
  {
   "cell_type": "code",
   "execution_count": 9,
   "metadata": {},
   "outputs": [],
   "source": [
    "num_games = plays['gameId'].unique().size\n",
    "\n",
    "play_results = plays.groupby(['specialTeamsPlayType', 'specialTeamsResult']).size().unstack('specialTeamsPlayType')\n",
    "play_results = play_results.divide(num_games)\n",
    "play_results_probs = play_results.div(play_results.sum(axis=0), axis=1)\n",
    "excitement_scores = play_results_probs.subtract(1).multiply(-1).unstack().dropna().rename('excitement_score_v1')\n",
    "plays = plays.join(excitement_scores, on=['specialTeamsPlayType', 'specialTeamsResult'])\n",
    "\n",
    "plays.loc[plays['is_home_offense'], 'score_diff'] = plays['preSnapHomeScore'] - plays['preSnapVisitorScore']\n",
    "plays.loc[~plays['is_home_offense'], 'score_diff'] = plays['preSnapVisitorScore'] - plays['preSnapHomeScore']\n",
    "plays['score_diff_ex'] = pd.cut(plays['score_diff'].abs(), \n",
    "    bins=[-1, 0, 1, 3, 5, 8, 11, 16, 21, 26, 31], \n",
    "    labels=[.9, 1, .8, .7, .6, .5, .4, .3, .2, .1]\n",
    ").astype(float)\n",
    "plays['excitement_score_v2'] = 0.5 * plays['excitement_score_v1'] + 0.5 * plays['score_diff_ex']\n",
    "\n",
    "plays['gameClockMins'] = plays['gameClock'].str.split(':').str[0]\n",
    "plays['gameClockSecs'] = plays['gameClock'].str.split(':').str[1]\n",
    "plays['seconds_left_in_quarter'] = plays['gameClockMins'].astype(int) * 60 + plays['gameClockSecs'].astype(int)\n",
    "plays.loc[plays['quarter'].isin([2, 4, 5]), 'seconds_left_in_half'] = plays['seconds_left_in_quarter']\n",
    "plays.loc[plays['quarter'].isin([1, 3]), 'seconds_left_in_half'] = plays['seconds_left_in_quarter'] + seconds_in_a_half\n",
    "\n",
    "plays.loc[plays['quarter'] != 5, 'time_left_ex'] = (1 - plays['seconds_left_in_half'] / (seconds_in_a_half * 2))\n",
    "plays.loc[plays['quarter'] == 5, 'time_left_ex'] = (1 - plays['seconds_left_in_half'] / seconds_in_overtime)\n",
    "plays['quarter_ex'] = plays['quarter'] / 5\n",
    "plays['excitement_score_v3'] = 0.25 * (plays['excitement_score_v1'] + plays['score_diff_ex'] + plays['quarter_ex'] + plays['time_left_ex'])"
   ]
  },
  {
   "cell_type": "code",
   "execution_count": 160,
   "metadata": {},
   "outputs": [
    {
     "output_type": "error",
     "ename": "NotFittedError",
     "evalue": "This OneHotEncoder instance is not fitted yet. Call 'fit' with appropriate arguments before using this estimator.",
     "traceback": [
      "\u001b[0;31m---------------------------------------------------------------------------\u001b[0m",
      "\u001b[0;31mNotFittedError\u001b[0m                            Traceback (most recent call last)",
      "\u001b[0;32m/var/folders/bb/6cm4k33s5c3gt6sqxkhj1_800000gn/T/ipykernel_66324/4208427054.py\u001b[0m in \u001b[0;36m<module>\u001b[0;34m\u001b[0m\n\u001b[1;32m      2\u001b[0m \u001b[0;34m\u001b[0m\u001b[0m\n\u001b[1;32m      3\u001b[0m \u001b[0mencoder\u001b[0m \u001b[0;34m=\u001b[0m \u001b[0mOneHotEncoder\u001b[0m\u001b[0;34m(\u001b[0m\u001b[0mhandle_unknown\u001b[0m\u001b[0;34m=\u001b[0m\u001b[0;34m'ignore'\u001b[0m\u001b[0;34m,\u001b[0m \u001b[0msparse\u001b[0m\u001b[0;34m=\u001b[0m\u001b[0;32mFalse\u001b[0m\u001b[0;34m)\u001b[0m\u001b[0;34m\u001b[0m\u001b[0;34m\u001b[0m\u001b[0m\n\u001b[0;32m----> 4\u001b[0;31m \u001b[0moutput_cols\u001b[0m \u001b[0;34m=\u001b[0m \u001b[0;34m[\u001b[0m\u001b[0mx\u001b[0m\u001b[0;34m.\u001b[0m\u001b[0msplit\u001b[0m\u001b[0;34m(\u001b[0m\u001b[0;34m'_'\u001b[0m\u001b[0;34m)\u001b[0m\u001b[0;34m[\u001b[0m\u001b[0;36m1\u001b[0m\u001b[0;34m]\u001b[0m \u001b[0;32mfor\u001b[0m \u001b[0mx\u001b[0m \u001b[0;32min\u001b[0m \u001b[0mencoder\u001b[0m\u001b[0;34m.\u001b[0m\u001b[0mget_feature_names\u001b[0m\u001b[0;34m(\u001b[0m\u001b[0;34m)\u001b[0m\u001b[0;34m]\u001b[0m\u001b[0;34m\u001b[0m\u001b[0;34m\u001b[0m\u001b[0m\n\u001b[0m\u001b[1;32m      5\u001b[0m \u001b[0mtransformed\u001b[0m \u001b[0;34m=\u001b[0m \u001b[0mencoder\u001b[0m\u001b[0;34m.\u001b[0m\u001b[0mfit_transform\u001b[0m\u001b[0;34m(\u001b[0m\u001b[0mkickoffs\u001b[0m\u001b[0;34m[\u001b[0m\u001b[0;34m[\u001b[0m\u001b[0;34m'specialTeamsResult'\u001b[0m\u001b[0;34m]\u001b[0m\u001b[0;34m]\u001b[0m\u001b[0;34m)\u001b[0m\u001b[0;34m\u001b[0m\u001b[0;34m\u001b[0m\u001b[0m\n\u001b[1;32m      6\u001b[0m \u001b[0mohe_df\u001b[0m \u001b[0;34m=\u001b[0m \u001b[0mpd\u001b[0m\u001b[0;34m.\u001b[0m\u001b[0mDataFrame\u001b[0m\u001b[0;34m(\u001b[0m\u001b[0mtransformed\u001b[0m\u001b[0;34m,\u001b[0m \u001b[0mcolumns\u001b[0m\u001b[0;34m=\u001b[0m\u001b[0moutput_cols\u001b[0m\u001b[0;34m)\u001b[0m\u001b[0;34m\u001b[0m\u001b[0;34m\u001b[0m\u001b[0m\n",
      "\u001b[0;32m~/projects/kaggle/big-data-bowl-2022/venv/lib/python3.9/site-packages/sklearn/utils/deprecation.py\u001b[0m in \u001b[0;36mwrapped\u001b[0;34m(*args, **kwargs)\u001b[0m\n\u001b[1;32m     86\u001b[0m         \u001b[0;32mdef\u001b[0m \u001b[0mwrapped\u001b[0m\u001b[0;34m(\u001b[0m\u001b[0;34m*\u001b[0m\u001b[0margs\u001b[0m\u001b[0;34m,\u001b[0m \u001b[0;34m**\u001b[0m\u001b[0mkwargs\u001b[0m\u001b[0;34m)\u001b[0m\u001b[0;34m:\u001b[0m\u001b[0;34m\u001b[0m\u001b[0;34m\u001b[0m\u001b[0m\n\u001b[1;32m     87\u001b[0m             \u001b[0mwarnings\u001b[0m\u001b[0;34m.\u001b[0m\u001b[0mwarn\u001b[0m\u001b[0;34m(\u001b[0m\u001b[0mmsg\u001b[0m\u001b[0;34m,\u001b[0m \u001b[0mcategory\u001b[0m\u001b[0;34m=\u001b[0m\u001b[0mFutureWarning\u001b[0m\u001b[0;34m)\u001b[0m\u001b[0;34m\u001b[0m\u001b[0;34m\u001b[0m\u001b[0m\n\u001b[0;32m---> 88\u001b[0;31m             \u001b[0;32mreturn\u001b[0m \u001b[0mfun\u001b[0m\u001b[0;34m(\u001b[0m\u001b[0;34m*\u001b[0m\u001b[0margs\u001b[0m\u001b[0;34m,\u001b[0m \u001b[0;34m**\u001b[0m\u001b[0mkwargs\u001b[0m\u001b[0;34m)\u001b[0m\u001b[0;34m\u001b[0m\u001b[0;34m\u001b[0m\u001b[0m\n\u001b[0m\u001b[1;32m     89\u001b[0m \u001b[0;34m\u001b[0m\u001b[0m\n\u001b[1;32m     90\u001b[0m         \u001b[0mwrapped\u001b[0m\u001b[0;34m.\u001b[0m\u001b[0m__doc__\u001b[0m \u001b[0;34m=\u001b[0m \u001b[0mself\u001b[0m\u001b[0;34m.\u001b[0m\u001b[0m_update_doc\u001b[0m\u001b[0;34m(\u001b[0m\u001b[0mwrapped\u001b[0m\u001b[0;34m.\u001b[0m\u001b[0m__doc__\u001b[0m\u001b[0;34m)\u001b[0m\u001b[0;34m\u001b[0m\u001b[0;34m\u001b[0m\u001b[0m\n",
      "\u001b[0;32m~/projects/kaggle/big-data-bowl-2022/venv/lib/python3.9/site-packages/sklearn/preprocessing/_encoders.py\u001b[0m in \u001b[0;36mget_feature_names\u001b[0;34m(self, input_features)\u001b[0m\n\u001b[1;32m    679\u001b[0m             \u001b[0mArray\u001b[0m \u001b[0mof\u001b[0m \u001b[0mfeature\u001b[0m \u001b[0mnames\u001b[0m\u001b[0;34m.\u001b[0m\u001b[0;34m\u001b[0m\u001b[0;34m\u001b[0m\u001b[0m\n\u001b[1;32m    680\u001b[0m         \"\"\"\n\u001b[0;32m--> 681\u001b[0;31m         \u001b[0mcheck_is_fitted\u001b[0m\u001b[0;34m(\u001b[0m\u001b[0mself\u001b[0m\u001b[0;34m)\u001b[0m\u001b[0;34m\u001b[0m\u001b[0;34m\u001b[0m\u001b[0m\n\u001b[0m\u001b[1;32m    682\u001b[0m         \u001b[0mcats\u001b[0m \u001b[0;34m=\u001b[0m \u001b[0mself\u001b[0m\u001b[0;34m.\u001b[0m\u001b[0mcategories_\u001b[0m\u001b[0;34m\u001b[0m\u001b[0;34m\u001b[0m\u001b[0m\n\u001b[1;32m    683\u001b[0m         \u001b[0;32mif\u001b[0m \u001b[0minput_features\u001b[0m \u001b[0;32mis\u001b[0m \u001b[0;32mNone\u001b[0m\u001b[0;34m:\u001b[0m\u001b[0;34m\u001b[0m\u001b[0;34m\u001b[0m\u001b[0m\n",
      "\u001b[0;32m~/projects/kaggle/big-data-bowl-2022/venv/lib/python3.9/site-packages/sklearn/utils/validation.py\u001b[0m in \u001b[0;36mcheck_is_fitted\u001b[0;34m(estimator, attributes, msg, all_or_any)\u001b[0m\n\u001b[1;32m   1206\u001b[0m \u001b[0;34m\u001b[0m\u001b[0m\n\u001b[1;32m   1207\u001b[0m     \u001b[0;32mif\u001b[0m \u001b[0;32mnot\u001b[0m \u001b[0mfitted\u001b[0m\u001b[0;34m:\u001b[0m\u001b[0;34m\u001b[0m\u001b[0;34m\u001b[0m\u001b[0m\n\u001b[0;32m-> 1208\u001b[0;31m         \u001b[0;32mraise\u001b[0m \u001b[0mNotFittedError\u001b[0m\u001b[0;34m(\u001b[0m\u001b[0mmsg\u001b[0m \u001b[0;34m%\u001b[0m \u001b[0;34m{\u001b[0m\u001b[0;34m\"name\"\u001b[0m\u001b[0;34m:\u001b[0m \u001b[0mtype\u001b[0m\u001b[0;34m(\u001b[0m\u001b[0mestimator\u001b[0m\u001b[0;34m)\u001b[0m\u001b[0;34m.\u001b[0m\u001b[0m__name__\u001b[0m\u001b[0;34m}\u001b[0m\u001b[0;34m)\u001b[0m\u001b[0;34m\u001b[0m\u001b[0;34m\u001b[0m\u001b[0m\n\u001b[0m\u001b[1;32m   1209\u001b[0m \u001b[0;34m\u001b[0m\u001b[0m\n\u001b[1;32m   1210\u001b[0m \u001b[0;34m\u001b[0m\u001b[0m\n",
      "\u001b[0;31mNotFittedError\u001b[0m: This OneHotEncoder instance is not fitted yet. Call 'fit' with appropriate arguments before using this estimator."
     ]
    }
   ],
   "source": [
    "kickoffs = plays[plays['specialTeamsPlayType']=='Kickoff'].reset_index(drop=True)\n",
    "\n",
    "encoder = OneHotEncoder(handle_unknown='ignore', sparse=False)\n",
    "transformed = encoder.fit_transform(kickoffs[['specialTeamsResult']])\n",
    "output_cols = [x.split('_')[1] for x in encoder.get_feature_names()]\n",
    "ohe_df = pd.DataFrame(transformed, columns=output_cols)\n",
    "kickoffs = pd.concat([kickoffs, ohe_df], axis=1)\n",
    "\n",
    "kickoffs['initial_excitement'] = 1/3 * (kickoffs['score_diff_ex'] + kickoffs['quarter_ex'] + kickoffs['time_left_ex'])\n",
    "kickoff_tracking = kickoffs.merge(tracking, on=['gameId', 'playId'])\n",
    "\n",
    "kickoff_tracking['is_off'] = (kickoff_tracking['is_home_offense'] & (kickoff_tracking['team'] == 'home')) | (~kickoff_tracking['is_home_offense'] & (kickoff_tracking['team'] != 'home'))"
   ]
  },
  {
   "cell_type": "code",
   "execution_count": 145,
   "metadata": {},
   "outputs": [
    {
     "output_type": "execute_result",
     "data": {
      "text/plain": [
       "       gameId  playId                                    playDescription  \\\n",
       "0  2018090600      37  J.Elliott kicks 65 yards from PHI 35 to end zo...   \n",
       "1  2018090600      37  J.Elliott kicks 65 yards from PHI 35 to end zo...   \n",
       "2  2018090600      37  J.Elliott kicks 65 yards from PHI 35 to end zo...   \n",
       "3  2018090600      37  J.Elliott kicks 65 yards from PHI 35 to end zo...   \n",
       "4  2018090600      37  J.Elliott kicks 65 yards from PHI 35 to end zo...   \n",
       "\n",
       "   quarter  down  yardsToGo possessionTeam specialTeamsPlayType  \\\n",
       "0        1     0          0            PHI              Kickoff   \n",
       "1        1     0          0            PHI              Kickoff   \n",
       "2        1     0          0            PHI              Kickoff   \n",
       "3        1     0          0            PHI              Kickoff   \n",
       "4        1     0          0            PHI              Kickoff   \n",
       "\n",
       "  specialTeamsResult  kickerId  ... position  team frameId  playDirection  \\\n",
       "0          Touchback   44966.0  ...       FS  home       1          right   \n",
       "1          Touchback   44966.0  ...       FS  home       2          right   \n",
       "2          Touchback   44966.0  ...       FS  home       3          right   \n",
       "3          Touchback   44966.0  ...       FS  home       4          right   \n",
       "4          Touchback   44966.0  ...       FS  home       5          right   \n",
       "\n",
       "    stdX  stdY stdDir       stdR  stdTheta  is_off  \n",
       "0  43.76  8.10  53.28  44.503344  0.183029    True  \n",
       "1  43.77  8.10  73.05  44.513177  0.182988    True  \n",
       "2  43.78  8.10  70.39  44.523010  0.182947    True  \n",
       "3  43.80  8.11  71.53  44.544496  0.183086    True  \n",
       "4  43.84  8.12  75.17  44.585648  0.183143    True  \n",
       "\n",
       "[5 rows x 73 columns]"
      ],
      "text/html": "<div>\n<style scoped>\n    .dataframe tbody tr th:only-of-type {\n        vertical-align: middle;\n    }\n\n    .dataframe tbody tr th {\n        vertical-align: top;\n    }\n\n    .dataframe thead th {\n        text-align: right;\n    }\n</style>\n<table border=\"1\" class=\"dataframe\">\n  <thead>\n    <tr style=\"text-align: right;\">\n      <th></th>\n      <th>gameId</th>\n      <th>playId</th>\n      <th>playDescription</th>\n      <th>quarter</th>\n      <th>down</th>\n      <th>yardsToGo</th>\n      <th>possessionTeam</th>\n      <th>specialTeamsPlayType</th>\n      <th>specialTeamsResult</th>\n      <th>kickerId</th>\n      <th>...</th>\n      <th>position</th>\n      <th>team</th>\n      <th>frameId</th>\n      <th>playDirection</th>\n      <th>stdX</th>\n      <th>stdY</th>\n      <th>stdDir</th>\n      <th>stdR</th>\n      <th>stdTheta</th>\n      <th>is_off</th>\n    </tr>\n  </thead>\n  <tbody>\n    <tr>\n      <th>0</th>\n      <td>2018090600</td>\n      <td>37</td>\n      <td>J.Elliott kicks 65 yards from PHI 35 to end zo...</td>\n      <td>1</td>\n      <td>0</td>\n      <td>0</td>\n      <td>PHI</td>\n      <td>Kickoff</td>\n      <td>Touchback</td>\n      <td>44966.0</td>\n      <td>...</td>\n      <td>FS</td>\n      <td>home</td>\n      <td>1</td>\n      <td>right</td>\n      <td>43.76</td>\n      <td>8.10</td>\n      <td>53.28</td>\n      <td>44.503344</td>\n      <td>0.183029</td>\n      <td>True</td>\n    </tr>\n    <tr>\n      <th>1</th>\n      <td>2018090600</td>\n      <td>37</td>\n      <td>J.Elliott kicks 65 yards from PHI 35 to end zo...</td>\n      <td>1</td>\n      <td>0</td>\n      <td>0</td>\n      <td>PHI</td>\n      <td>Kickoff</td>\n      <td>Touchback</td>\n      <td>44966.0</td>\n      <td>...</td>\n      <td>FS</td>\n      <td>home</td>\n      <td>2</td>\n      <td>right</td>\n      <td>43.77</td>\n      <td>8.10</td>\n      <td>73.05</td>\n      <td>44.513177</td>\n      <td>0.182988</td>\n      <td>True</td>\n    </tr>\n    <tr>\n      <th>2</th>\n      <td>2018090600</td>\n      <td>37</td>\n      <td>J.Elliott kicks 65 yards from PHI 35 to end zo...</td>\n      <td>1</td>\n      <td>0</td>\n      <td>0</td>\n      <td>PHI</td>\n      <td>Kickoff</td>\n      <td>Touchback</td>\n      <td>44966.0</td>\n      <td>...</td>\n      <td>FS</td>\n      <td>home</td>\n      <td>3</td>\n      <td>right</td>\n      <td>43.78</td>\n      <td>8.10</td>\n      <td>70.39</td>\n      <td>44.523010</td>\n      <td>0.182947</td>\n      <td>True</td>\n    </tr>\n    <tr>\n      <th>3</th>\n      <td>2018090600</td>\n      <td>37</td>\n      <td>J.Elliott kicks 65 yards from PHI 35 to end zo...</td>\n      <td>1</td>\n      <td>0</td>\n      <td>0</td>\n      <td>PHI</td>\n      <td>Kickoff</td>\n      <td>Touchback</td>\n      <td>44966.0</td>\n      <td>...</td>\n      <td>FS</td>\n      <td>home</td>\n      <td>4</td>\n      <td>right</td>\n      <td>43.80</td>\n      <td>8.11</td>\n      <td>71.53</td>\n      <td>44.544496</td>\n      <td>0.183086</td>\n      <td>True</td>\n    </tr>\n    <tr>\n      <th>4</th>\n      <td>2018090600</td>\n      <td>37</td>\n      <td>J.Elliott kicks 65 yards from PHI 35 to end zo...</td>\n      <td>1</td>\n      <td>0</td>\n      <td>0</td>\n      <td>PHI</td>\n      <td>Kickoff</td>\n      <td>Touchback</td>\n      <td>44966.0</td>\n      <td>...</td>\n      <td>FS</td>\n      <td>home</td>\n      <td>5</td>\n      <td>right</td>\n      <td>43.84</td>\n      <td>8.12</td>\n      <td>75.17</td>\n      <td>44.585648</td>\n      <td>0.183143</td>\n      <td>True</td>\n    </tr>\n  </tbody>\n</table>\n<p>5 rows × 73 columns</p>\n</div>"
     },
     "metadata": {},
     "execution_count": 145
    }
   ],
   "source": [
    "single_play = kickoff_tracking[(kickoff_tracking['gameId'].isin([2018090600, 2018090600])) & (kickoff_tracking['playId'].isin([37, 1387]))]\n",
    "single_play.head()"
   ]
  },
  {
   "cell_type": "code",
   "execution_count": 13,
   "metadata": {},
   "outputs": [
    {
     "output_type": "execute_result",
     "data": {
      "text/plain": [
       "Index(['gameId', 'playId', 'playDescription', 'quarter', 'down', 'yardsToGo',\n",
       "       'possessionTeam', 'specialTeamsPlayType', 'specialTeamsResult',\n",
       "       'kickerId', 'returnerId', 'kickBlockerId', 'yardlineSide',\n",
       "       'yardlineNumber', 'gameClock', 'penaltyCodes', 'penaltyJerseyNumbers',\n",
       "       'penaltyYards', 'preSnapHomeScore', 'preSnapVisitorScore', 'passResult',\n",
       "       'kickLength', 'kickReturnYardage', 'playResult',\n",
       "       'absoluteYardlineNumber', 'season', 'week', 'gameDate',\n",
       "       'gameTimeEastern', 'homeTeamAbbr', 'visitorTeamAbbr', 'is_home_offense',\n",
       "       'excitement_score_v1', 'score_diff', 'score_diff_ex',\n",
       "       'excitement_score_v2', 'gameClockMins', 'gameClockSecs',\n",
       "       'seconds_left_in_quarter', 'seconds_left_in_half', 'time_left_ex',\n",
       "       'quarter_ex', 'excitement_score_v3', 'Downed', 'Fair Catch',\n",
       "       'Kickoff Team Recovery', 'Muffed', 'Out of Bounds', 'Return',\n",
       "       'Touchback', 'initial_excitement', 'time', 'x', 'y', 's', 'a', 'dis',\n",
       "       'o', 'dir', 'event', 'nflId', 'displayName', 'jerseyNumber', 'position',\n",
       "       'team', 'frameId', 'playDirection', 'stdX', 'stdY', 'stdDir', 'stdR',\n",
       "       'stdTheta', 'is_off'],\n",
       "      dtype='object')"
      ]
     },
     "metadata": {},
     "execution_count": 13
    }
   ],
   "source": [
    "single_play.columns"
   ]
  },
  {
   "source": [
    "The only features we're interested in right now is location of players and the ball. So we'll selected those columns and standardize (scale) them."
   ],
   "cell_type": "markdown",
   "metadata": {}
  },
  {
   "cell_type": "code",
   "execution_count": 158,
   "metadata": {},
   "outputs": [],
   "source": [
    "features = ['stdR', 'stdTheta']\n",
    "output_cols = encoder.get_feature_names()\n",
    "\n",
    "sc = MinMaxScaler()\n",
    "single_play[features] = sc.fit_transform(single_play[features])"
   ]
  },
  {
   "cell_type": "code",
   "execution_count": 159,
   "metadata": {},
   "outputs": [
    {
     "output_type": "error",
     "ename": "KeyError",
     "evalue": "\"['x0_Downed', 'x0_Fair Catch', 'x0_Kickoff Team Recovery', 'x0_Muffed', 'x0_Out of Bounds', 'x0_Return', 'x0_Touchback'] not in index\"",
     "traceback": [
      "\u001b[0;31m---------------------------------------------------------------------------\u001b[0m",
      "\u001b[0;31mKeyError\u001b[0m                                  Traceback (most recent call last)",
      "\u001b[0;32m/var/folders/bb/6cm4k33s5c3gt6sqxkhj1_800000gn/T/ipykernel_66324/2442576025.py\u001b[0m in \u001b[0;36m<module>\u001b[0;34m\u001b[0m\n\u001b[0;32m----> 1\u001b[0;31m \u001b[0mdf\u001b[0m \u001b[0;34m=\u001b[0m \u001b[0msingle_play\u001b[0m\u001b[0;34m.\u001b[0m\u001b[0mset_index\u001b[0m\u001b[0;34m(\u001b[0m\u001b[0;34m[\u001b[0m\u001b[0;34m'gameId'\u001b[0m\u001b[0;34m,\u001b[0m \u001b[0;34m'playId'\u001b[0m\u001b[0;34m,\u001b[0m \u001b[0;34m'frameId'\u001b[0m\u001b[0;34m,\u001b[0m \u001b[0;34m'is_off'\u001b[0m\u001b[0;34m,\u001b[0m \u001b[0;34m'nflId'\u001b[0m\u001b[0;34m]\u001b[0m\u001b[0;34m)\u001b[0m\u001b[0;34m.\u001b[0m\u001b[0msort_index\u001b[0m\u001b[0;34m(\u001b[0m\u001b[0mlevel\u001b[0m\u001b[0;34m=\u001b[0m\u001b[0;34m[\u001b[0m\u001b[0;34m'is_off'\u001b[0m\u001b[0;34m,\u001b[0m \u001b[0;34m'frameId'\u001b[0m\u001b[0;34m,\u001b[0m \u001b[0;34m'nflId'\u001b[0m\u001b[0;34m]\u001b[0m\u001b[0;34m)\u001b[0m\u001b[0;34m[\u001b[0m\u001b[0;34m[\u001b[0m\u001b[0;34m*\u001b[0m\u001b[0mfeatures\u001b[0m\u001b[0;34m,\u001b[0m \u001b[0;34m*\u001b[0m\u001b[0moutput_cols\u001b[0m\u001b[0;34m]\u001b[0m\u001b[0;34m]\u001b[0m\u001b[0;34m.\u001b[0m\u001b[0munstack\u001b[0m\u001b[0;34m(\u001b[0m\u001b[0;34m[\u001b[0m\u001b[0;34m'is_off'\u001b[0m\u001b[0;34m,\u001b[0m \u001b[0;34m'nflId'\u001b[0m\u001b[0;34m]\u001b[0m\u001b[0;34m)\u001b[0m\u001b[0;34m.\u001b[0m\u001b[0mreset_index\u001b[0m\u001b[0;34m(\u001b[0m\u001b[0;34m[\u001b[0m\u001b[0;34m'gameId'\u001b[0m\u001b[0;34m,\u001b[0m \u001b[0;34m'playId'\u001b[0m\u001b[0;34m,\u001b[0m \u001b[0;34m'frameId'\u001b[0m\u001b[0;34m]\u001b[0m\u001b[0;34m)\u001b[0m\u001b[0;34m\u001b[0m\u001b[0;34m\u001b[0m\u001b[0m\n\u001b[0m\u001b[1;32m      2\u001b[0m \u001b[0;34m\u001b[0m\u001b[0m\n\u001b[1;32m      3\u001b[0m \u001b[0mdf\u001b[0m\u001b[0;34m.\u001b[0m\u001b[0mhead\u001b[0m\u001b[0;34m(\u001b[0m\u001b[0;34m)\u001b[0m\u001b[0;34m\u001b[0m\u001b[0;34m\u001b[0m\u001b[0m\n",
      "\u001b[0;32m~/projects/kaggle/big-data-bowl-2022/venv/lib/python3.9/site-packages/pandas/core/frame.py\u001b[0m in \u001b[0;36m__getitem__\u001b[0;34m(self, key)\u001b[0m\n\u001b[1;32m   3462\u001b[0m             \u001b[0;32mif\u001b[0m \u001b[0mis_iterator\u001b[0m\u001b[0;34m(\u001b[0m\u001b[0mkey\u001b[0m\u001b[0;34m)\u001b[0m\u001b[0;34m:\u001b[0m\u001b[0;34m\u001b[0m\u001b[0;34m\u001b[0m\u001b[0m\n\u001b[1;32m   3463\u001b[0m                 \u001b[0mkey\u001b[0m \u001b[0;34m=\u001b[0m \u001b[0mlist\u001b[0m\u001b[0;34m(\u001b[0m\u001b[0mkey\u001b[0m\u001b[0;34m)\u001b[0m\u001b[0;34m\u001b[0m\u001b[0;34m\u001b[0m\u001b[0m\n\u001b[0;32m-> 3464\u001b[0;31m             \u001b[0mindexer\u001b[0m \u001b[0;34m=\u001b[0m \u001b[0mself\u001b[0m\u001b[0;34m.\u001b[0m\u001b[0mloc\u001b[0m\u001b[0;34m.\u001b[0m\u001b[0m_get_listlike_indexer\u001b[0m\u001b[0;34m(\u001b[0m\u001b[0mkey\u001b[0m\u001b[0;34m,\u001b[0m \u001b[0maxis\u001b[0m\u001b[0;34m=\u001b[0m\u001b[0;36m1\u001b[0m\u001b[0;34m)\u001b[0m\u001b[0;34m[\u001b[0m\u001b[0;36m1\u001b[0m\u001b[0;34m]\u001b[0m\u001b[0;34m\u001b[0m\u001b[0;34m\u001b[0m\u001b[0m\n\u001b[0m\u001b[1;32m   3465\u001b[0m \u001b[0;34m\u001b[0m\u001b[0m\n\u001b[1;32m   3466\u001b[0m         \u001b[0;31m# take() does not accept boolean indexers\u001b[0m\u001b[0;34m\u001b[0m\u001b[0;34m\u001b[0m\u001b[0m\n",
      "\u001b[0;32m~/projects/kaggle/big-data-bowl-2022/venv/lib/python3.9/site-packages/pandas/core/indexing.py\u001b[0m in \u001b[0;36m_get_listlike_indexer\u001b[0;34m(self, key, axis)\u001b[0m\n\u001b[1;32m   1312\u001b[0m             \u001b[0mkeyarr\u001b[0m\u001b[0;34m,\u001b[0m \u001b[0mindexer\u001b[0m\u001b[0;34m,\u001b[0m \u001b[0mnew_indexer\u001b[0m \u001b[0;34m=\u001b[0m \u001b[0max\u001b[0m\u001b[0;34m.\u001b[0m\u001b[0m_reindex_non_unique\u001b[0m\u001b[0;34m(\u001b[0m\u001b[0mkeyarr\u001b[0m\u001b[0;34m)\u001b[0m\u001b[0;34m\u001b[0m\u001b[0;34m\u001b[0m\u001b[0m\n\u001b[1;32m   1313\u001b[0m \u001b[0;34m\u001b[0m\u001b[0m\n\u001b[0;32m-> 1314\u001b[0;31m         \u001b[0mself\u001b[0m\u001b[0;34m.\u001b[0m\u001b[0m_validate_read_indexer\u001b[0m\u001b[0;34m(\u001b[0m\u001b[0mkeyarr\u001b[0m\u001b[0;34m,\u001b[0m \u001b[0mindexer\u001b[0m\u001b[0;34m,\u001b[0m \u001b[0maxis\u001b[0m\u001b[0;34m)\u001b[0m\u001b[0;34m\u001b[0m\u001b[0;34m\u001b[0m\u001b[0m\n\u001b[0m\u001b[1;32m   1315\u001b[0m \u001b[0;34m\u001b[0m\u001b[0m\n\u001b[1;32m   1316\u001b[0m         if needs_i8_conversion(ax.dtype) or isinstance(\n",
      "\u001b[0;32m~/projects/kaggle/big-data-bowl-2022/venv/lib/python3.9/site-packages/pandas/core/indexing.py\u001b[0m in \u001b[0;36m_validate_read_indexer\u001b[0;34m(self, key, indexer, axis)\u001b[0m\n\u001b[1;32m   1375\u001b[0m \u001b[0;34m\u001b[0m\u001b[0m\n\u001b[1;32m   1376\u001b[0m             \u001b[0mnot_found\u001b[0m \u001b[0;34m=\u001b[0m \u001b[0mlist\u001b[0m\u001b[0;34m(\u001b[0m\u001b[0mensure_index\u001b[0m\u001b[0;34m(\u001b[0m\u001b[0mkey\u001b[0m\u001b[0;34m)\u001b[0m\u001b[0;34m[\u001b[0m\u001b[0mmissing_mask\u001b[0m\u001b[0;34m.\u001b[0m\u001b[0mnonzero\u001b[0m\u001b[0;34m(\u001b[0m\u001b[0;34m)\u001b[0m\u001b[0;34m[\u001b[0m\u001b[0;36m0\u001b[0m\u001b[0;34m]\u001b[0m\u001b[0;34m]\u001b[0m\u001b[0;34m.\u001b[0m\u001b[0munique\u001b[0m\u001b[0;34m(\u001b[0m\u001b[0;34m)\u001b[0m\u001b[0;34m)\u001b[0m\u001b[0;34m\u001b[0m\u001b[0;34m\u001b[0m\u001b[0m\n\u001b[0;32m-> 1377\u001b[0;31m             \u001b[0;32mraise\u001b[0m \u001b[0mKeyError\u001b[0m\u001b[0;34m(\u001b[0m\u001b[0;34mf\"{not_found} not in index\"\u001b[0m\u001b[0;34m)\u001b[0m\u001b[0;34m\u001b[0m\u001b[0;34m\u001b[0m\u001b[0m\n\u001b[0m\u001b[1;32m   1378\u001b[0m \u001b[0;34m\u001b[0m\u001b[0m\n\u001b[1;32m   1379\u001b[0m \u001b[0;34m\u001b[0m\u001b[0m\n",
      "\u001b[0;31mKeyError\u001b[0m: \"['x0_Downed', 'x0_Fair Catch', 'x0_Kickoff Team Recovery', 'x0_Muffed', 'x0_Out of Bounds', 'x0_Return', 'x0_Touchback'] not in index\""
     ]
    }
   ],
   "source": [
    "df = single_play.set_index(['gameId', 'playId', 'frameId', 'is_off', 'nflId']).sort_index(level=['is_off', 'frameId', 'nflId'])[[*features, *output_cols]].unstack(['is_off', 'nflId']).reset_index(['gameId', 'playId', 'frameId'])\n",
    "\n",
    "df.head()"
   ]
  },
  {
   "source": [
    "Then we'll convert the DataFrame to a 2D array and remove all the `nan` values, since those are for players that are not in the play. The first column is the **gameId**, second is **playId**, and third is **frameId**. This will probably be useful once we implement a recurrent neural net (which can remember previous input), but that's probably pretty far down the road."
   ],
   "cell_type": "markdown",
   "metadata": {}
  },
  {
   "cell_type": "code",
   "execution_count": 155,
   "metadata": {},
   "outputs": [
    {
     "output_type": "execute_result",
     "data": {
      "text/plain": [
       "array([[2.01809060e+09, 3.70000000e+01, 1.00000000e+00, ...,\n",
       "        3.57523740e-01, 8.76489637e-01, 9.44980100e-01],\n",
       "       [2.01809060e+09, 3.70000000e+01, 2.00000000e+00, ...,\n",
       "        3.57771620e-01, 8.76341106e-01, 9.45246562e-01],\n",
       "       [2.01809060e+09, 3.70000000e+01, 3.00000000e+00, ...,\n",
       "        3.58019468e-01, 8.76206390e-01, 9.45647612e-01],\n",
       "       ...,\n",
       "       [2.01809060e+09, 1.38700000e+03, 6.50000000e+01, ...,\n",
       "        1.33661814e-01, 3.20206141e-01, 4.41613665e-01],\n",
       "       [2.01809060e+09, 1.38700000e+03, 6.60000000e+01, ...,\n",
       "        1.34215107e-01, 3.15584506e-01, 4.35915806e-01],\n",
       "       [2.01809060e+09, 1.38700000e+03, 6.70000000e+01, ...,\n",
       "        1.35191457e-01, 3.10712038e-01, 4.30209315e-01]])"
      ]
     },
     "metadata": {},
     "execution_count": 155
    }
   ],
   "source": [
    "values = np.array([x[~np.isnan(x)] for x in df.values])\n",
    "values"
   ]
  }
 ]
}