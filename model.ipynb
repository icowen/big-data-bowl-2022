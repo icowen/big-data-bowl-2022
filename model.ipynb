{
 "metadata": {
  "language_info": {
   "codemirror_mode": {
    "name": "ipython",
    "version": 3
   },
   "file_extension": ".py",
   "mimetype": "text/x-python",
   "name": "python",
   "nbconvert_exporter": "python",
   "pygments_lexer": "ipython3",
   "version": "3.9.7"
  },
  "orig_nbformat": 2,
  "kernelspec": {
   "name": "python3",
   "display_name": "Python 3 (ipykernel)",
   "language": "python"
  }
 },
 "nbformat": 4,
 "nbformat_minor": 2,
 "cells": [
  {
   "source": [
    "# Model Notebook\n",
    "\n",
    "This notebook is only used to help speed up data cleaning/transformations and model creation process."
   ],
   "cell_type": "markdown",
   "metadata": {}
  },
  {
   "cell_type": "code",
   "execution_count": 1,
   "metadata": {},
   "outputs": [],
   "source": [
    "import math\n",
    "import time\n",
    "import pandas as pd\n",
    "import numpy as np\n",
    "import matplotlib.pyplot as plt\n",
    "from keras.models import Sequential\n",
    "from keras.layers import Dense\n",
    "from keras.wrappers.scikit_learn import KerasClassifier\n",
    "from sklearn.model_selection import cross_val_score\n",
    "from sklearn.model_selection import KFold\n",
    "from matplotlib.animation import FuncAnimation\n",
    "from sklearn.model_selection import train_test_split\n",
    "from sklearn.preprocessing import OneHotEncoder, MinMaxScaler\n",
    "\n",
    "field_height = 53.3\n",
    "field_length = 120\n",
    "endzone_length = 10\n",
    "seconds_in_a_half = 15 * 60\n",
    "seconds_in_overtime = 10 * 60"
   ]
  },
  {
   "cell_type": "code",
   "execution_count": 2,
   "metadata": {},
   "outputs": [
    {
     "output_type": "stream",
     "name": "stdout",
     "text": [
      "Done in: 0.007201194763183594\n"
     ]
    }
   ],
   "source": [
    "start = time.time()\n",
    "games = pd.read_csv('data/games.csv')\n",
    "print(\"Done in:\", time.time() - start)"
   ]
  },
  {
   "cell_type": "code",
   "execution_count": 3,
   "metadata": {},
   "outputs": [
    {
     "output_type": "stream",
     "name": "stdout",
     "text": [
      "Done in: 0.009339094161987305\n"
     ]
    }
   ],
   "source": [
    "start = time.time()\n",
    "players = pd.read_csv('data/players.csv')\n",
    "print(\"Done in:\", time.time() - start)"
   ]
  },
  {
   "cell_type": "code",
   "execution_count": 4,
   "metadata": {},
   "outputs": [
    {
     "output_type": "stream",
     "name": "stdout",
     "text": [
      "Done in: 0.07805180549621582\n"
     ]
    }
   ],
   "source": [
    "start = time.time()\n",
    "plays = pd.read_csv('data/plays.csv')\n",
    "print(\"Done in:\", time.time() - start)"
   ]
  },
  {
   "cell_type": "code",
   "execution_count": 5,
   "metadata": {},
   "outputs": [
    {
     "output_type": "stream",
     "name": "stdout",
     "text": [
      "Done in: 0.03026294708251953\nDone in: 0.03308892250061035\n"
     ]
    }
   ],
   "source": [
    "start = time.time()\n",
    "plays = plays.merge(games, on='gameId')\n",
    "print(\"Done in:\", time.time() - start)\n",
    "\n",
    "plays['is_home_offense'] = plays['possessionTeam'] == plays['homeTeamAbbr']\n",
    "print(\"Done in:\", time.time() - start)"
   ]
  },
  {
   "cell_type": "code",
   "execution_count": 6,
   "metadata": {},
   "outputs": [
    {
     "output_type": "stream",
     "name": "stdout",
     "text": [
      "Done in: 0.04794907569885254\n"
     ]
    }
   ],
   "source": [
    "start = time.time()\n",
    "scout = pd.read_csv('data/PFFScoutingData.csv')\n",
    "print(\"Done in:\", time.time() - start)"
   ]
  },
  {
   "cell_type": "code",
   "execution_count": 7,
   "metadata": {},
   "outputs": [
    {
     "output_type": "stream",
     "name": "stdout",
     "text": [
      "Done in: 73.86847996711731\n"
     ]
    }
   ],
   "source": [
    "start = time.time()\n",
    "tracking_2018 = pd.read_csv('data/tracking2018.csv')\n",
    "tracking_2019 = pd.read_csv('data/tracking2019.csv')\n",
    "tracking_2020 = pd.read_csv('data/tracking2020.csv')\n",
    "tracking = tracking_2018.append([tracking_2019, tracking_2020])\n",
    "print(\"Done in:\", time.time() - start)"
   ]
  },
  {
   "cell_type": "code",
   "execution_count": 8,
   "metadata": {},
   "outputs": [
    {
     "output_type": "stream",
     "name": "stdout",
     "text": [
      "Done in: 21.714648246765137\n"
     ]
    }
   ],
   "source": [
    "start = time.time()\n",
    "left_mask = tracking['playDirection'] == 'left'\n",
    "right_mask = tracking['playDirection'] == 'right'\n",
    "tracking.loc[left_mask, 'stdX'] = field_length - tracking.loc[left_mask, 'x']\n",
    "tracking.loc[left_mask, 'stdY'] = field_height - tracking.loc[left_mask, 'y']\n",
    "tracking.loc[left_mask, 'stdDir'] = (360 - tracking.loc[left_mask, 'dir']) % 360\n",
    "tracking.loc[right_mask, 'stdX'] = tracking.loc[right_mask, 'x']\n",
    "tracking.loc[right_mask, 'stdY'] = tracking.loc[right_mask, 'y']\n",
    "tracking.loc[right_mask, 'stdDir'] = tracking.loc[right_mask, 'dir']\n",
    "tracking['stdR'] = (tracking['stdX'].pow(2) + tracking['stdY'].pow(2)).pow(1/2)\n",
    "tracking['stdTheta'] = np.arctan(tracking['stdY']/tracking['stdX'])\n",
    "tracking['nflId'] = tracking['nflId'].fillna(-1)\n",
    "print(\"Done in:\", time.time() - start)"
   ]
  },
  {
   "cell_type": "code",
   "execution_count": 9,
   "metadata": {},
   "outputs": [
    {
     "output_type": "stream",
     "name": "stdout",
     "text": [
      "Done in: 0.0620427131652832\n",
      "Done in: 0.012898921966552734\n",
      "Done in: 0.14750099182128906\n",
      "Done in: 0.007073879241943359\n"
     ]
    }
   ],
   "source": [
    "num_games = plays['gameId'].unique().size\n",
    "\n",
    "start = time.time()\n",
    "play_results = plays.groupby(['specialTeamsPlayType', 'specialTeamsResult']).size().unstack('specialTeamsPlayType')\n",
    "play_results = play_results.divide(num_games)\n",
    "play_results_probs = play_results.div(play_results.sum(axis=0), axis=1)\n",
    "excitement_scores = play_results_probs.subtract(1).multiply(-1).unstack().dropna().rename('excitement_score_v1')\n",
    "plays = plays.join(excitement_scores, on=['specialTeamsPlayType', 'specialTeamsResult'])\n",
    "print(\"Done in:\", time.time() - start)\n",
    "\n",
    "start = time.time()\n",
    "plays.loc[plays['is_home_offense'], 'score_diff'] = plays['preSnapHomeScore'] - plays['preSnapVisitorScore']\n",
    "plays.loc[~plays['is_home_offense'], 'score_diff'] = plays['preSnapVisitorScore'] - plays['preSnapHomeScore']\n",
    "plays['score_diff_ex'] = pd.cut(plays['score_diff'].abs(), \n",
    "    bins=[-1, 0, 1, 3, 5, 8, 11, 16, 21, 26, 31], \n",
    "    labels=[.9, 1, .8, .7, .6, .5, .4, .3, .2, .1]\n",
    ").astype(float)\n",
    "plays['excitement_score_v2'] = 0.5 * plays['excitement_score_v1'] + 0.5 * plays['score_diff_ex']\n",
    "print(\"Done in:\", time.time() - start)\n",
    "\n",
    "start = time.time()\n",
    "plays['gameClockMins'] = plays['gameClock'].str.split(':').str[0]\n",
    "plays['gameClockSecs'] = plays['gameClock'].str.split(':').str[1]\n",
    "plays['seconds_left_in_quarter'] = plays['gameClockMins'].astype(int) * 60 + plays['gameClockSecs'].astype(int)\n",
    "plays.loc[plays['quarter'].isin([2, 4, 5]), 'seconds_left_in_half'] = plays['seconds_left_in_quarter']\n",
    "plays.loc[plays['quarter'].isin([1, 3]), 'seconds_left_in_half'] = plays['seconds_left_in_quarter'] + seconds_in_a_half\n",
    "print(\"Done in:\", time.time() - start)\n",
    "\n",
    "start = time.time()\n",
    "plays.loc[plays['quarter'] != 5, 'time_left_ex'] = (1 - plays['seconds_left_in_half'] / (seconds_in_a_half * 2))\n",
    "plays.loc[plays['quarter'] == 5, 'time_left_ex'] = (1 - plays['seconds_left_in_half'] / seconds_in_overtime)\n",
    "plays['quarter_ex'] = plays['quarter'] / 5\n",
    "plays['excitement_score_v3'] = 0.25 * (plays['excitement_score_v1'] + plays['score_diff_ex'] + plays['quarter_ex'] + plays['time_left_ex'])\n",
    "print(\"Done in:\", time.time() - start)"
   ]
  },
  {
   "cell_type": "code",
   "execution_count": 10,
   "metadata": {},
   "outputs": [
    {
     "output_type": "stream",
     "name": "stdout",
     "text": [
      "Done in: 0.009643077850341797\n",
      "Done in: 112.90142703056335\n",
      "Done in: 2.022387981414795\n"
     ]
    }
   ],
   "source": [
    "kickoffs = plays[plays['specialTeamsPlayType']=='Kickoff'].reset_index(drop=True)\n",
    "\n",
    "start = time.time()\n",
    "encoder = OneHotEncoder(handle_unknown='ignore', sparse=False)\n",
    "transformed = encoder.fit_transform(kickoffs[['specialTeamsResult']])\n",
    "output_cols = [x.split('_')[1] for x in encoder.get_feature_names()]\n",
    "ohe_df = pd.DataFrame(transformed, columns=output_cols)\n",
    "kickoffs = pd.concat([kickoffs, ohe_df], axis=1)\n",
    "print(\"Done in:\", time.time() - start)\n",
    "\n",
    "start = time.time()\n",
    "kickoffs['initial_excitement'] = 1/3 * (kickoffs['score_diff_ex'] + kickoffs['quarter_ex'] + kickoffs['time_left_ex'])\n",
    "kickoff_tracking = kickoffs.merge(tracking, on=['gameId', 'playId'])\n",
    "print(\"Done in:\", time.time() - start)\n",
    "\n",
    "start = time.time()\n",
    "kickoff_tracking['is_off'] = (kickoff_tracking['is_home_offense'] & (kickoff_tracking['team'] == 'home')) | (~kickoff_tracking['is_home_offense'] & (kickoff_tracking['team'] == 'away')) | (kickoff_tracking['team'] == 'football')\n",
    "print(\"Done in:\", time.time() - start)"
   ]
  },
  {
   "cell_type": "code",
   "execution_count": 11,
   "metadata": {},
   "outputs": [],
   "source": [
    "# kickoff_tracking = kickoff_tracking[(kickoff_tracking['gameId']==2018090600) & (kickoff_tracking['playId'].isin([37, 677]))]\n",
    "# kickoff_tracking.head()"
   ]
  },
  {
   "cell_type": "code",
   "execution_count": 12,
   "metadata": {},
   "outputs": [
    {
     "output_type": "execute_result",
     "data": {
      "text/plain": [
       "       gameId  playId                                    playDescription  \\\n",
       "0  2018090600      37  J.Elliott kicks 65 yards from PHI 35 to end zo...   \n",
       "1  2018090600      37  J.Elliott kicks 65 yards from PHI 35 to end zo...   \n",
       "2  2018090600      37  J.Elliott kicks 65 yards from PHI 35 to end zo...   \n",
       "3  2018090600      37  J.Elliott kicks 65 yards from PHI 35 to end zo...   \n",
       "4  2018090600      37  J.Elliott kicks 65 yards from PHI 35 to end zo...   \n",
       "\n",
       "   quarter  down  yardsToGo possessionTeam specialTeamsPlayType  \\\n",
       "0        1     0          0            PHI              Kickoff   \n",
       "1        1     0          0            PHI              Kickoff   \n",
       "2        1     0          0            PHI              Kickoff   \n",
       "3        1     0          0            PHI              Kickoff   \n",
       "4        1     0          0            PHI              Kickoff   \n",
       "\n",
       "  specialTeamsResult  kickerId  ... position  team frameId  playDirection  \\\n",
       "0          Touchback   44966.0  ...       FS  home       1          right   \n",
       "1          Touchback   44966.0  ...       FS  home       2          right   \n",
       "2          Touchback   44966.0  ...       FS  home       3          right   \n",
       "3          Touchback   44966.0  ...       FS  home       4          right   \n",
       "4          Touchback   44966.0  ...       FS  home       5          right   \n",
       "\n",
       "    stdX  stdY stdDir       stdR  stdTheta  is_off  \n",
       "0  43.76  8.10  53.28  44.503344  0.183029    True  \n",
       "1  43.77  8.10  73.05  44.513177  0.182988    True  \n",
       "2  43.78  8.10  70.39  44.523010  0.182947    True  \n",
       "3  43.80  8.11  71.53  44.544496  0.183086    True  \n",
       "4  43.84  8.12  75.17  44.585648  0.183143    True  \n",
       "\n",
       "[5 rows x 73 columns]"
      ],
      "text/html": "<div>\n<style scoped>\n    .dataframe tbody tr th:only-of-type {\n        vertical-align: middle;\n    }\n\n    .dataframe tbody tr th {\n        vertical-align: top;\n    }\n\n    .dataframe thead th {\n        text-align: right;\n    }\n</style>\n<table border=\"1\" class=\"dataframe\">\n  <thead>\n    <tr style=\"text-align: right;\">\n      <th></th>\n      <th>gameId</th>\n      <th>playId</th>\n      <th>playDescription</th>\n      <th>quarter</th>\n      <th>down</th>\n      <th>yardsToGo</th>\n      <th>possessionTeam</th>\n      <th>specialTeamsPlayType</th>\n      <th>specialTeamsResult</th>\n      <th>kickerId</th>\n      <th>...</th>\n      <th>position</th>\n      <th>team</th>\n      <th>frameId</th>\n      <th>playDirection</th>\n      <th>stdX</th>\n      <th>stdY</th>\n      <th>stdDir</th>\n      <th>stdR</th>\n      <th>stdTheta</th>\n      <th>is_off</th>\n    </tr>\n  </thead>\n  <tbody>\n    <tr>\n      <th>0</th>\n      <td>2018090600</td>\n      <td>37</td>\n      <td>J.Elliott kicks 65 yards from PHI 35 to end zo...</td>\n      <td>1</td>\n      <td>0</td>\n      <td>0</td>\n      <td>PHI</td>\n      <td>Kickoff</td>\n      <td>Touchback</td>\n      <td>44966.0</td>\n      <td>...</td>\n      <td>FS</td>\n      <td>home</td>\n      <td>1</td>\n      <td>right</td>\n      <td>43.76</td>\n      <td>8.10</td>\n      <td>53.28</td>\n      <td>44.503344</td>\n      <td>0.183029</td>\n      <td>True</td>\n    </tr>\n    <tr>\n      <th>1</th>\n      <td>2018090600</td>\n      <td>37</td>\n      <td>J.Elliott kicks 65 yards from PHI 35 to end zo...</td>\n      <td>1</td>\n      <td>0</td>\n      <td>0</td>\n      <td>PHI</td>\n      <td>Kickoff</td>\n      <td>Touchback</td>\n      <td>44966.0</td>\n      <td>...</td>\n      <td>FS</td>\n      <td>home</td>\n      <td>2</td>\n      <td>right</td>\n      <td>43.77</td>\n      <td>8.10</td>\n      <td>73.05</td>\n      <td>44.513177</td>\n      <td>0.182988</td>\n      <td>True</td>\n    </tr>\n    <tr>\n      <th>2</th>\n      <td>2018090600</td>\n      <td>37</td>\n      <td>J.Elliott kicks 65 yards from PHI 35 to end zo...</td>\n      <td>1</td>\n      <td>0</td>\n      <td>0</td>\n      <td>PHI</td>\n      <td>Kickoff</td>\n      <td>Touchback</td>\n      <td>44966.0</td>\n      <td>...</td>\n      <td>FS</td>\n      <td>home</td>\n      <td>3</td>\n      <td>right</td>\n      <td>43.78</td>\n      <td>8.10</td>\n      <td>70.39</td>\n      <td>44.523010</td>\n      <td>0.182947</td>\n      <td>True</td>\n    </tr>\n    <tr>\n      <th>3</th>\n      <td>2018090600</td>\n      <td>37</td>\n      <td>J.Elliott kicks 65 yards from PHI 35 to end zo...</td>\n      <td>1</td>\n      <td>0</td>\n      <td>0</td>\n      <td>PHI</td>\n      <td>Kickoff</td>\n      <td>Touchback</td>\n      <td>44966.0</td>\n      <td>...</td>\n      <td>FS</td>\n      <td>home</td>\n      <td>4</td>\n      <td>right</td>\n      <td>43.80</td>\n      <td>8.11</td>\n      <td>71.53</td>\n      <td>44.544496</td>\n      <td>0.183086</td>\n      <td>True</td>\n    </tr>\n    <tr>\n      <th>4</th>\n      <td>2018090600</td>\n      <td>37</td>\n      <td>J.Elliott kicks 65 yards from PHI 35 to end zo...</td>\n      <td>1</td>\n      <td>0</td>\n      <td>0</td>\n      <td>PHI</td>\n      <td>Kickoff</td>\n      <td>Touchback</td>\n      <td>44966.0</td>\n      <td>...</td>\n      <td>FS</td>\n      <td>home</td>\n      <td>5</td>\n      <td>right</td>\n      <td>43.84</td>\n      <td>8.12</td>\n      <td>75.17</td>\n      <td>44.585648</td>\n      <td>0.183143</td>\n      <td>True</td>\n    </tr>\n  </tbody>\n</table>\n<p>5 rows × 73 columns</p>\n</div>"
     },
     "metadata": {},
     "execution_count": 12
    }
   ],
   "source": [
    "kickoff_tracking.head()"
   ]
  },
  {
   "source": [
    "The only features we're interested in right now is location of players and the ball. So we'll selected those columns and standardize (scale) them."
   ],
   "cell_type": "markdown",
   "metadata": {}
  },
  {
   "cell_type": "code",
   "execution_count": 13,
   "metadata": {},
   "outputs": [
    {
     "output_type": "stream",
     "name": "stdout",
     "text": [
      "Done in: 37.24310326576233\n"
     ]
    }
   ],
   "source": [
    "features = ['stdR', 'stdTheta']\n",
    "\n",
    "sc = MinMaxScaler()\n",
    "\n",
    "start = time.time()\n",
    "kickoff_tracking[features] = sc.fit_transform(kickoff_tracking[features])\n",
    "print(\"Done in:\", time.time() - start)"
   ]
  },
  {
   "cell_type": "code",
   "execution_count": 14,
   "metadata": {},
   "outputs": [
    {
     "output_type": "stream",
     "name": "stdout",
     "text": [
      "Done in: 24.175102949142456\n"
     ]
    },
    {
     "output_type": "execute_result",
     "data": {
      "text/plain": [
       "               gameId playId frameId      stdR                                \\\n",
       "is_off                                   False                                 \n",
       "playerNum                                    0         1         2         3   \n",
       "0          2018090600     37       1  0.553096  0.522896  0.480649  0.660584   \n",
       "1          2018090600     37       2  0.553035  0.522996  0.480588  0.660573   \n",
       "2          2018090600     37       3  0.553071  0.523095  0.480588  0.660503   \n",
       "3          2018090600     37       4  0.553071  0.523151  0.480611  0.660573   \n",
       "4          2018090600     37       5  0.553071  0.523306  0.480671  0.660584   \n",
       "\n",
       "                                         ...  stdTheta                      \\\n",
       "is_off                                   ...      True                       \n",
       "playerNum         4         5         6  ...        13        14        15   \n",
       "0          0.683967  0.480869  0.439862  ...  0.329865  0.680000  0.468614   \n",
       "1          0.683939  0.480799  0.439796  ...  0.329646  0.680000  0.468796   \n",
       "2          0.683939  0.480812  0.439769  ...  0.329533  0.679953  0.468796   \n",
       "3          0.683910  0.480812  0.439769  ...  0.329524  0.679900  0.468886   \n",
       "4          0.683910  0.480743  0.439769  ...  0.329515  0.679900  0.469105   \n",
       "\n",
       "                                                                       \\\n",
       "is_off                                                                  \n",
       "playerNum        16        17        18        19        20        21   \n",
       "0          0.611685  0.508762  0.586472  0.583543  0.426882  0.631340   \n",
       "1          0.611403  0.508847  0.583207  0.583510  0.426980  0.631282   \n",
       "2          0.611184  0.508931  0.579726  0.583340  0.427077  0.631229   \n",
       "3          0.611194  0.509016  0.576015  0.583290  0.427145  0.631176   \n",
       "4          0.611268  0.509100  0.572099  0.583000  0.427378  0.631069   \n",
       "\n",
       "                     \n",
       "is_off               \n",
       "playerNum        22  \n",
       "0          0.658324  \n",
       "1          0.658429  \n",
       "2          0.658587  \n",
       "3          0.658798  \n",
       "4          0.658956  \n",
       "\n",
       "[5 rows x 49 columns]"
      ],
      "text/html": "<div>\n<style scoped>\n    .dataframe tbody tr th:only-of-type {\n        vertical-align: middle;\n    }\n\n    .dataframe tbody tr th {\n        vertical-align: top;\n    }\n\n    .dataframe thead tr th {\n        text-align: left;\n    }\n</style>\n<table border=\"1\" class=\"dataframe\">\n  <thead>\n    <tr>\n      <th></th>\n      <th>gameId</th>\n      <th>playId</th>\n      <th>frameId</th>\n      <th colspan=\"7\" halign=\"left\">stdR</th>\n      <th>...</th>\n      <th colspan=\"10\" halign=\"left\">stdTheta</th>\n    </tr>\n    <tr>\n      <th>is_off</th>\n      <th></th>\n      <th></th>\n      <th></th>\n      <th colspan=\"7\" halign=\"left\">False</th>\n      <th>...</th>\n      <th colspan=\"10\" halign=\"left\">True</th>\n    </tr>\n    <tr>\n      <th>playerNum</th>\n      <th></th>\n      <th></th>\n      <th></th>\n      <th>0</th>\n      <th>1</th>\n      <th>2</th>\n      <th>3</th>\n      <th>4</th>\n      <th>5</th>\n      <th>6</th>\n      <th>...</th>\n      <th>13</th>\n      <th>14</th>\n      <th>15</th>\n      <th>16</th>\n      <th>17</th>\n      <th>18</th>\n      <th>19</th>\n      <th>20</th>\n      <th>21</th>\n      <th>22</th>\n    </tr>\n  </thead>\n  <tbody>\n    <tr>\n      <th>0</th>\n      <td>2018090600</td>\n      <td>37</td>\n      <td>1</td>\n      <td>0.553096</td>\n      <td>0.522896</td>\n      <td>0.480649</td>\n      <td>0.660584</td>\n      <td>0.683967</td>\n      <td>0.480869</td>\n      <td>0.439862</td>\n      <td>...</td>\n      <td>0.329865</td>\n      <td>0.680000</td>\n      <td>0.468614</td>\n      <td>0.611685</td>\n      <td>0.508762</td>\n      <td>0.586472</td>\n      <td>0.583543</td>\n      <td>0.426882</td>\n      <td>0.631340</td>\n      <td>0.658324</td>\n    </tr>\n    <tr>\n      <th>1</th>\n      <td>2018090600</td>\n      <td>37</td>\n      <td>2</td>\n      <td>0.553035</td>\n      <td>0.522996</td>\n      <td>0.480588</td>\n      <td>0.660573</td>\n      <td>0.683939</td>\n      <td>0.480799</td>\n      <td>0.439796</td>\n      <td>...</td>\n      <td>0.329646</td>\n      <td>0.680000</td>\n      <td>0.468796</td>\n      <td>0.611403</td>\n      <td>0.508847</td>\n      <td>0.583207</td>\n      <td>0.583510</td>\n      <td>0.426980</td>\n      <td>0.631282</td>\n      <td>0.658429</td>\n    </tr>\n    <tr>\n      <th>2</th>\n      <td>2018090600</td>\n      <td>37</td>\n      <td>3</td>\n      <td>0.553071</td>\n      <td>0.523095</td>\n      <td>0.480588</td>\n      <td>0.660503</td>\n      <td>0.683939</td>\n      <td>0.480812</td>\n      <td>0.439769</td>\n      <td>...</td>\n      <td>0.329533</td>\n      <td>0.679953</td>\n      <td>0.468796</td>\n      <td>0.611184</td>\n      <td>0.508931</td>\n      <td>0.579726</td>\n      <td>0.583340</td>\n      <td>0.427077</td>\n      <td>0.631229</td>\n      <td>0.658587</td>\n    </tr>\n    <tr>\n      <th>3</th>\n      <td>2018090600</td>\n      <td>37</td>\n      <td>4</td>\n      <td>0.553071</td>\n      <td>0.523151</td>\n      <td>0.480611</td>\n      <td>0.660573</td>\n      <td>0.683910</td>\n      <td>0.480812</td>\n      <td>0.439769</td>\n      <td>...</td>\n      <td>0.329524</td>\n      <td>0.679900</td>\n      <td>0.468886</td>\n      <td>0.611194</td>\n      <td>0.509016</td>\n      <td>0.576015</td>\n      <td>0.583290</td>\n      <td>0.427145</td>\n      <td>0.631176</td>\n      <td>0.658798</td>\n    </tr>\n    <tr>\n      <th>4</th>\n      <td>2018090600</td>\n      <td>37</td>\n      <td>5</td>\n      <td>0.553071</td>\n      <td>0.523306</td>\n      <td>0.480671</td>\n      <td>0.660584</td>\n      <td>0.683910</td>\n      <td>0.480743</td>\n      <td>0.439769</td>\n      <td>...</td>\n      <td>0.329515</td>\n      <td>0.679900</td>\n      <td>0.469105</td>\n      <td>0.611268</td>\n      <td>0.509100</td>\n      <td>0.572099</td>\n      <td>0.583000</td>\n      <td>0.427378</td>\n      <td>0.631069</td>\n      <td>0.658956</td>\n    </tr>\n  </tbody>\n</table>\n<p>5 rows × 49 columns</p>\n</div>"
     },
     "metadata": {},
     "execution_count": 14
    }
   ],
   "source": [
    "start = time.time()\n",
    "sort_cols = ['gameId', 'playId', 'frameId', 'is_off', 'nflId']\n",
    "df = kickoff_tracking[[*sort_cols, *features]].set_index(sort_cols).sort_index(level=sort_cols).droplevel('nflId')\n",
    "df = df.set_index(df.groupby(['gameId', 'playId', 'frameId']).cumcount().rename('playerNum'), append=True)\n",
    "df = df[features].unstack(['is_off', 'playerNum']).reset_index(['gameId', 'playId', 'frameId'])\n",
    "print(\"Done in:\", time.time() - start)\n",
    "\n",
    "df.head()"
   ]
  },
  {
   "source": [
    "Then we'll convert the DataFrame to a 2D array and remove all the `nan` values, since those are for players that are not in the play. The first column is the **gameId**, second is **playId**, and third is **frameId**. This will probably be useful once we implement a recurrent neural net (which can remember previous input), but that's probably pretty far down the road."
   ],
   "cell_type": "markdown",
   "metadata": {}
  },
  {
   "cell_type": "code",
   "execution_count": 15,
   "metadata": {},
   "outputs": [
    {
     "output_type": "stream",
     "name": "stdout",
     "text": [
      "Done in: 2.2330360412597656\n(618098, 49)\n[2.01809060e+09 3.70000000e+01 1.00000000e+00 5.53095559e-01\n 5.22896344e-01 4.80648535e-01 6.60584415e-01 6.83967252e-01\n 4.80868708e-01 4.39861895e-01 5.16338284e-01 7.95061811e-01\n 4.08953143e-01 4.21182966e-01 3.56200050e-01 2.99571912e-01\n 2.96243873e-01 4.48049165e-01 3.19173744e-01 3.86027982e-01\n 3.30171198e-01 3.44803820e-01 3.67992180e-01 3.05836510e-01\n 3.99778786e-01 4.26450259e-01 5.37624925e-01 6.02738911e-01\n 5.48160466e-01 3.67949691e-01 4.81729350e-01 3.75553518e-01\n 4.70716375e-01 4.74209721e-01 4.00768151e-01 3.56011607e-01\n 4.11065449e-01 5.38590477e-01 3.74742907e-01 3.29865065e-01\n 6.79999898e-01 4.68614001e-01 6.11685385e-01 5.08762379e-01\n 5.86472143e-01 5.83542745e-01 4.26881952e-01 6.31340218e-01\n 6.58323573e-01]\n"
     ]
    }
   ],
   "source": [
    "start = time.time()\n",
    "x = np.array([x[~np.isnan(x)] for x in df.values])\n",
    "print(\"Done in:\", time.time() - start)\n",
    "print(x.shape)\n",
    "print(x[0])"
   ]
  },
  {
   "source": [
    "Input is only 46 values, the first 3 values in x in order are: `gameId`, `playId`, `frameId`. We'll drop these for now, but potentially may want them later if we need them for an RNN."
   ],
   "cell_type": "markdown",
   "metadata": {}
  },
  {
   "cell_type": "code",
   "execution_count": 16,
   "metadata": {},
   "outputs": [],
   "source": [
    "x = np.array([x[3:] for x in x])"
   ]
  },
  {
   "cell_type": "code",
   "execution_count": 17,
   "metadata": {},
   "outputs": [
    {
     "output_type": "stream",
     "name": "stdout",
     "text": [
      "Done in: 2.333343982696533\n(618098, 7)\n[0. 0. 0. 0. 0. 0. 1.]\n"
     ]
    }
   ],
   "source": [
    "start = time.time()\n",
    "y = kickoff_tracking.groupby(['gameId', 'playId', 'frameId'])[output_cols].first().values\n",
    "print(\"Done in:\", time.time() - start)\n",
    "print(y.shape)\n",
    "print(y[0])"
   ]
  },
  {
   "cell_type": "code",
   "execution_count": 18,
   "metadata": {},
   "outputs": [],
   "source": [
    "# x_train, x_test, y_train, y_test = train_test_split(x, y, test_size=0.33, random_state=1)"
   ]
  },
  {
   "cell_type": "code",
   "execution_count": 19,
   "metadata": {},
   "outputs": [],
   "source": [
    "num_input_nodes = x.shape[1]\n",
    "num_hidden_nodes = x.shape[1] * 2\n",
    "num_output_nodes = y.shape[1]\n",
    "\n",
    "def baseline_model():\n",
    "    model = Sequential()\n",
    "    model.add(Dense(num_hidden_nodes, input_dim=num_input_nodes, activation='relu'))\n",
    "    model.add(Dense(num_output_nodes, activation='softmax'))\n",
    "    model.compile(loss='categorical_crossentropy', optimizer='adam', metrics=['accuracy'])\n",
    "    return model"
   ]
  },
  {
   "cell_type": "code",
   "execution_count": 20,
   "metadata": {},
   "outputs": [
    {
     "output_type": "error",
     "ename": "NameError",
     "evalue": "name 'KerasClassifier' is not defined",
     "traceback": [
      "\u001b[0;31m---------------------------------------------------------------------------\u001b[0m",
      "\u001b[0;31mNameError\u001b[0m                                 Traceback (most recent call last)",
      "\u001b[0;32m/var/folders/bb/6cm4k33s5c3gt6sqxkhj1_800000gn/T/ipykernel_89762/679613027.py\u001b[0m in \u001b[0;36m<module>\u001b[0;34m\u001b[0m\n\u001b[0;32m----> 1\u001b[0;31m \u001b[0mestimator\u001b[0m \u001b[0;34m=\u001b[0m \u001b[0mKerasClassifier\u001b[0m\u001b[0;34m(\u001b[0m\u001b[0mbuild_fn\u001b[0m\u001b[0;34m=\u001b[0m\u001b[0mbaseline_model\u001b[0m\u001b[0;34m,\u001b[0m \u001b[0mepochs\u001b[0m\u001b[0;34m=\u001b[0m\u001b[0;36m200\u001b[0m\u001b[0;34m,\u001b[0m \u001b[0mbatch_size\u001b[0m\u001b[0;34m=\u001b[0m\u001b[0;36m5\u001b[0m\u001b[0;34m,\u001b[0m \u001b[0mverbose\u001b[0m\u001b[0;34m=\u001b[0m\u001b[0;36m0\u001b[0m\u001b[0;34m)\u001b[0m\u001b[0;34m\u001b[0m\u001b[0;34m\u001b[0m\u001b[0m\n\u001b[0m\u001b[1;32m      2\u001b[0m \u001b[0mkfold\u001b[0m \u001b[0;34m=\u001b[0m \u001b[0mKFold\u001b[0m\u001b[0;34m(\u001b[0m\u001b[0mn_splits\u001b[0m\u001b[0;34m=\u001b[0m\u001b[0;36m10\u001b[0m\u001b[0;34m,\u001b[0m \u001b[0mshuffle\u001b[0m\u001b[0;34m=\u001b[0m\u001b[0;32mTrue\u001b[0m\u001b[0;34m)\u001b[0m\u001b[0;34m\u001b[0m\u001b[0;34m\u001b[0m\u001b[0m\n\u001b[1;32m      3\u001b[0m \u001b[0mresults\u001b[0m \u001b[0;34m=\u001b[0m \u001b[0mcross_val_score\u001b[0m\u001b[0;34m(\u001b[0m\u001b[0mestimator\u001b[0m\u001b[0;34m,\u001b[0m \u001b[0mx\u001b[0m\u001b[0;34m,\u001b[0m \u001b[0my\u001b[0m\u001b[0;34m,\u001b[0m \u001b[0mcv\u001b[0m\u001b[0;34m=\u001b[0m\u001b[0mkfold\u001b[0m\u001b[0;34m)\u001b[0m\u001b[0;34m\u001b[0m\u001b[0;34m\u001b[0m\u001b[0m\n\u001b[1;32m      4\u001b[0m \u001b[0mprint\u001b[0m\u001b[0;34m(\u001b[0m\u001b[0;34m\"Baseline: %.2f%% (%.2f%%)\"\u001b[0m \u001b[0;34m%\u001b[0m \u001b[0;34m(\u001b[0m\u001b[0mresults\u001b[0m\u001b[0;34m.\u001b[0m\u001b[0mmean\u001b[0m\u001b[0;34m(\u001b[0m\u001b[0;34m)\u001b[0m\u001b[0;34m*\u001b[0m\u001b[0;36m100\u001b[0m\u001b[0;34m,\u001b[0m \u001b[0mresults\u001b[0m\u001b[0;34m.\u001b[0m\u001b[0mstd\u001b[0m\u001b[0;34m(\u001b[0m\u001b[0;34m)\u001b[0m\u001b[0;34m*\u001b[0m\u001b[0;36m100\u001b[0m\u001b[0;34m)\u001b[0m\u001b[0;34m)\u001b[0m\u001b[0;34m\u001b[0m\u001b[0;34m\u001b[0m\u001b[0m\n",
      "\u001b[0;31mNameError\u001b[0m: name 'KerasClassifier' is not defined"
     ]
    }
   ],
   "source": [
    "estimator = KerasClassifier(build_fn=baseline_model, epochs=200, batch_size=5, verbose=0)\n",
    "kfold = KFold(n_splits=10, shuffle=True)\n",
    "results = cross_val_score(estimator, x, y, cv=kfold)\n",
    "print(\"Baseline: %.2f%% (%.2f%%)\" % (results.mean()*100, results.std()*100))"
   ]
  }
 ]
}