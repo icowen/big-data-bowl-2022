{
 "metadata": {
  "language_info": {
   "codemirror_mode": {
    "name": "ipython",
    "version": 3
   },
   "file_extension": ".py",
   "mimetype": "text/x-python",
   "name": "python",
   "nbconvert_exporter": "python",
   "pygments_lexer": "ipython3",
   "version": "3.9.7"
  },
  "orig_nbformat": 2,
  "kernelspec": {
   "name": "python3",
   "display_name": "Python 3 (ipykernel)",
   "language": "python"
  }
 },
 "nbformat": 4,
 "nbformat_minor": 2,
 "cells": [
  {
   "source": [
    "# Model Notebook\n",
    "\n",
    "This notebook is only used to help speed up data cleaning/transformations and model creation process."
   ],
   "cell_type": "markdown",
   "metadata": {}
  },
  {
   "cell_type": "code",
   "execution_count": 1,
   "metadata": {},
   "outputs": [],
   "source": [
    "import math\n",
    "import time\n",
    "import pandas as pd\n",
    "import numpy as np\n",
    "import matplotlib.pyplot as plt\n",
    "import matplotlib.patches as patches\n",
    "from matplotlib.animation import FuncAnimation\n",
    "from sklearn.preprocessing import OneHotEncoder, MinMaxScaler\n",
    "\n",
    "field_height = 53.3\n",
    "field_length = 120\n",
    "endzone_length = 10\n",
    "seconds_in_a_half = 15 * 60\n",
    "seconds_in_overtime = 10 * 60"
   ]
  },
  {
   "cell_type": "code",
   "execution_count": 2,
   "metadata": {},
   "outputs": [
    {
     "output_type": "stream",
     "name": "stdout",
     "text": [
      "Done in: 0.0047130584716796875\n"
     ]
    }
   ],
   "source": [
    "start = time.time()\n",
    "games = pd.read_csv('data/games.csv')\n",
    "print(\"Done in:\", time.time() - start)"
   ]
  },
  {
   "cell_type": "code",
   "execution_count": 3,
   "metadata": {},
   "outputs": [
    {
     "output_type": "stream",
     "name": "stdout",
     "text": [
      "Done in: 0.011034250259399414\n"
     ]
    }
   ],
   "source": [
    "start = time.time()\n",
    "players = pd.read_csv('data/players.csv')\n",
    "print(\"Done in:\", time.time() - start)"
   ]
  },
  {
   "cell_type": "code",
   "execution_count": 4,
   "metadata": {},
   "outputs": [
    {
     "output_type": "stream",
     "name": "stdout",
     "text": [
      "Done in: 0.0747981071472168\n"
     ]
    }
   ],
   "source": [
    "start = time.time()\n",
    "plays = pd.read_csv('data/plays.csv')\n",
    "print(\"Done in:\", time.time() - start)"
   ]
  },
  {
   "cell_type": "code",
   "execution_count": 5,
   "metadata": {},
   "outputs": [
    {
     "output_type": "stream",
     "name": "stdout",
     "text": [
      "Done in: 0.026874065399169922\nDone in: 0.029808759689331055\n"
     ]
    }
   ],
   "source": [
    "start = time.time()\n",
    "plays = plays.merge(games, on='gameId')\n",
    "print(\"Done in:\", time.time() - start)\n",
    "\n",
    "plays['is_home_offense'] = plays['possessionTeam'] == plays['homeTeamAbbr']\n",
    "print(\"Done in:\", time.time() - start)"
   ]
  },
  {
   "cell_type": "code",
   "execution_count": 6,
   "metadata": {},
   "outputs": [
    {
     "output_type": "stream",
     "name": "stdout",
     "text": [
      "Done in: 0.04279780387878418\n"
     ]
    }
   ],
   "source": [
    "start = time.time()\n",
    "scout = pd.read_csv('data/PFFScoutingData.csv')\n",
    "print(\"Done in:\", time.time() - start)"
   ]
  },
  {
   "cell_type": "code",
   "execution_count": 7,
   "metadata": {},
   "outputs": [
    {
     "output_type": "stream",
     "name": "stdout",
     "text": [
      "Done in: 69.28465628623962\n"
     ]
    }
   ],
   "source": [
    "start = time.time()\n",
    "tracking_2018 = pd.read_csv('data/tracking2018.csv')\n",
    "tracking_2019 = pd.read_csv('data/tracking2019.csv')\n",
    "tracking_2020 = pd.read_csv('data/tracking2020.csv')\n",
    "tracking = tracking_2018.append([tracking_2019, tracking_2020])\n",
    "print(\"Done in:\", time.time() - start)"
   ]
  },
  {
   "cell_type": "code",
   "execution_count": 8,
   "metadata": {},
   "outputs": [
    {
     "output_type": "stream",
     "name": "stdout",
     "text": [
      "Done in: 19.19552779197693\n"
     ]
    }
   ],
   "source": [
    "start = time.time()\n",
    "left_mask = tracking['playDirection'] == 'left'\n",
    "right_mask = tracking['playDirection'] == 'right'\n",
    "tracking.loc[left_mask, 'stdX'] = field_length - tracking.loc[left_mask, 'x']\n",
    "tracking.loc[left_mask, 'stdY'] = field_height - tracking.loc[left_mask, 'y']\n",
    "tracking.loc[left_mask, 'stdDir'] = (360 - tracking.loc[left_mask, 'dir']) % 360\n",
    "tracking.loc[right_mask, 'stdX'] = tracking.loc[right_mask, 'x']\n",
    "tracking.loc[right_mask, 'stdY'] = tracking.loc[right_mask, 'y']\n",
    "tracking.loc[right_mask, 'stdDir'] = tracking.loc[right_mask, 'dir']\n",
    "tracking['stdR'] = (tracking['stdX'].pow(2) + tracking['stdY'].pow(2)).pow(1/2)\n",
    "tracking['stdTheta'] = np.arctan(tracking['stdY']/tracking['stdX'])\n",
    "print(\"Done in:\", time.time() - start)"
   ]
  },
  {
   "cell_type": "code",
   "execution_count": 9,
   "metadata": {},
   "outputs": [
    {
     "output_type": "stream",
     "name": "stdout",
     "text": [
      "Done in: 0.08814620971679688\n",
      "Done in: 0.020440101623535156\n",
      "Done in: 0.08430886268615723\n",
      "Done in: 0.00700688362121582\n"
     ]
    }
   ],
   "source": [
    "num_games = plays['gameId'].unique().size\n",
    "\n",
    "start = time.time()\n",
    "play_results = plays.groupby(['specialTeamsPlayType', 'specialTeamsResult']).size().unstack('specialTeamsPlayType')\n",
    "play_results = play_results.divide(num_games)\n",
    "play_results_probs = play_results.div(play_results.sum(axis=0), axis=1)\n",
    "excitement_scores = play_results_probs.subtract(1).multiply(-1).unstack().dropna().rename('excitement_score_v1')\n",
    "plays = plays.join(excitement_scores, on=['specialTeamsPlayType', 'specialTeamsResult'])\n",
    "print(\"Done in:\", time.time() - start)\n",
    "\n",
    "start = time.time()\n",
    "plays.loc[plays['is_home_offense'], 'score_diff'] = plays['preSnapHomeScore'] - plays['preSnapVisitorScore']\n",
    "plays.loc[~plays['is_home_offense'], 'score_diff'] = plays['preSnapVisitorScore'] - plays['preSnapHomeScore']\n",
    "plays['score_diff_ex'] = pd.cut(plays['score_diff'].abs(), \n",
    "    bins=[-1, 0, 1, 3, 5, 8, 11, 16, 21, 26, 31], \n",
    "    labels=[.9, 1, .8, .7, .6, .5, .4, .3, .2, .1]\n",
    ").astype(float)\n",
    "plays['excitement_score_v2'] = 0.5 * plays['excitement_score_v1'] + 0.5 * plays['score_diff_ex']\n",
    "print(\"Done in:\", time.time() - start)\n",
    "\n",
    "start = time.time()\n",
    "plays['gameClockMins'] = plays['gameClock'].str.split(':').str[0]\n",
    "plays['gameClockSecs'] = plays['gameClock'].str.split(':').str[1]\n",
    "plays['seconds_left_in_quarter'] = plays['gameClockMins'].astype(int) * 60 + plays['gameClockSecs'].astype(int)\n",
    "plays.loc[plays['quarter'].isin([2, 4, 5]), 'seconds_left_in_half'] = plays['seconds_left_in_quarter']\n",
    "plays.loc[plays['quarter'].isin([1, 3]), 'seconds_left_in_half'] = plays['seconds_left_in_quarter'] + seconds_in_a_half\n",
    "print(\"Done in:\", time.time() - start)\n",
    "\n",
    "start = time.time()\n",
    "plays.loc[plays['quarter'] != 5, 'time_left_ex'] = (1 - plays['seconds_left_in_half'] / (seconds_in_a_half * 2))\n",
    "plays.loc[plays['quarter'] == 5, 'time_left_ex'] = (1 - plays['seconds_left_in_half'] / seconds_in_overtime)\n",
    "plays['quarter_ex'] = plays['quarter'] / 5\n",
    "plays['excitement_score_v3'] = 0.25 * (plays['excitement_score_v1'] + plays['score_diff_ex'] + plays['quarter_ex'] + plays['time_left_ex'])\n",
    "print(\"Done in:\", time.time() - start)"
   ]
  },
  {
   "cell_type": "code",
   "execution_count": 10,
   "metadata": {},
   "outputs": [
    {
     "output_type": "stream",
     "name": "stdout",
     "text": [
      "Done in: 0.012713909149169922\n",
      "Done in: 101.9402801990509\n",
      "Done in: 1.3968241214752197\n"
     ]
    }
   ],
   "source": [
    "kickoffs = plays[plays['specialTeamsPlayType']=='Kickoff'].reset_index(drop=True)\n",
    "\n",
    "start = time.time()\n",
    "encoder = OneHotEncoder(handle_unknown='ignore', sparse=False)\n",
    "transformed = encoder.fit_transform(kickoffs[['specialTeamsResult']])\n",
    "output_cols = [x.split('_')[1] for x in encoder.get_feature_names()]\n",
    "ohe_df = pd.DataFrame(transformed, columns=output_cols)\n",
    "kickoffs = pd.concat([kickoffs, ohe_df], axis=1)\n",
    "print(\"Done in:\", time.time() - start)\n",
    "\n",
    "start = time.time()\n",
    "kickoffs['initial_excitement'] = 1/3 * (kickoffs['score_diff_ex'] + kickoffs['quarter_ex'] + kickoffs['time_left_ex'])\n",
    "kickoff_tracking = kickoffs.merge(tracking, on=['gameId', 'playId'])\n",
    "print(\"Done in:\", time.time() - start)\n",
    "\n",
    "start = time.time()\n",
    "kickoff_tracking['is_off'] = (kickoff_tracking['is_home_offense'] & (kickoff_tracking['team'] == 'home')) | (~kickoff_tracking['is_home_offense'] & (kickoff_tracking['team'] != 'home'))\n",
    "print(\"Done in:\", time.time() - start)"
   ]
  },
  {
   "cell_type": "code",
   "execution_count": 11,
   "metadata": {},
   "outputs": [],
   "source": [
    "# kickoff_tracking = kickoff_tracking[(kickoff_tracking['gameId']==2018090600) & (kickoff_tracking['playId'].isin([37, 1387]))]\n",
    "# kickoff_tracking.head()"
   ]
  },
  {
   "cell_type": "code",
   "execution_count": 12,
   "metadata": {},
   "outputs": [
    {
     "output_type": "stream",
     "name": "stdout",
     "text": [
      "Index(['gameId', 'playId', 'playDescription', 'quarter', 'down', 'yardsToGo',\n       'possessionTeam', 'specialTeamsPlayType', 'specialTeamsResult',\n       'kickerId', 'returnerId', 'kickBlockerId', 'yardlineSide',\n       'yardlineNumber', 'gameClock', 'penaltyCodes', 'penaltyJerseyNumbers',\n       'penaltyYards', 'preSnapHomeScore', 'preSnapVisitorScore', 'passResult',\n       'kickLength', 'kickReturnYardage', 'playResult',\n       'absoluteYardlineNumber', 'season', 'week', 'gameDate',\n       'gameTimeEastern', 'homeTeamAbbr', 'visitorTeamAbbr', 'is_home_offense',\n       'excitement_score_v1', 'score_diff', 'score_diff_ex',\n       'excitement_score_v2', 'gameClockMins', 'gameClockSecs',\n       'seconds_left_in_quarter', 'seconds_left_in_half', 'time_left_ex',\n       'quarter_ex', 'excitement_score_v3', 'Downed', 'Fair Catch',\n       'Kickoff Team Recovery', 'Muffed', 'Out of Bounds', 'Return',\n       'Touchback', 'initial_excitement', 'time', 'x', 'y', 's', 'a', 'dis',\n       'o', 'dir', 'event', 'nflId', 'displayName', 'jerseyNumber', 'position',\n       'team', 'frameId', 'playDirection', 'stdX', 'stdY', 'stdDir', 'stdR',\n       'stdTheta', 'is_off'],\n      dtype='object')\n"
     ]
    },
    {
     "output_type": "execute_result",
     "data": {
      "text/plain": [
       "       gameId  playId                                    playDescription  \\\n",
       "0  2018090600      37  J.Elliott kicks 65 yards from PHI 35 to end zo...   \n",
       "1  2018090600      37  J.Elliott kicks 65 yards from PHI 35 to end zo...   \n",
       "2  2018090600      37  J.Elliott kicks 65 yards from PHI 35 to end zo...   \n",
       "3  2018090600      37  J.Elliott kicks 65 yards from PHI 35 to end zo...   \n",
       "4  2018090600      37  J.Elliott kicks 65 yards from PHI 35 to end zo...   \n",
       "\n",
       "   quarter  down  yardsToGo possessionTeam specialTeamsPlayType  \\\n",
       "0        1     0          0            PHI              Kickoff   \n",
       "1        1     0          0            PHI              Kickoff   \n",
       "2        1     0          0            PHI              Kickoff   \n",
       "3        1     0          0            PHI              Kickoff   \n",
       "4        1     0          0            PHI              Kickoff   \n",
       "\n",
       "  specialTeamsResult  kickerId  ... position  team frameId  playDirection  \\\n",
       "0          Touchback   44966.0  ...       FS  home       1          right   \n",
       "1          Touchback   44966.0  ...       FS  home       2          right   \n",
       "2          Touchback   44966.0  ...       FS  home       3          right   \n",
       "3          Touchback   44966.0  ...       FS  home       4          right   \n",
       "4          Touchback   44966.0  ...       FS  home       5          right   \n",
       "\n",
       "    stdX  stdY stdDir       stdR  stdTheta  is_off  \n",
       "0  43.76  8.10  53.28  44.503344  0.183029    True  \n",
       "1  43.77  8.10  73.05  44.513177  0.182988    True  \n",
       "2  43.78  8.10  70.39  44.523010  0.182947    True  \n",
       "3  43.80  8.11  71.53  44.544496  0.183086    True  \n",
       "4  43.84  8.12  75.17  44.585648  0.183143    True  \n",
       "\n",
       "[5 rows x 73 columns]"
      ],
      "text/html": "<div>\n<style scoped>\n    .dataframe tbody tr th:only-of-type {\n        vertical-align: middle;\n    }\n\n    .dataframe tbody tr th {\n        vertical-align: top;\n    }\n\n    .dataframe thead th {\n        text-align: right;\n    }\n</style>\n<table border=\"1\" class=\"dataframe\">\n  <thead>\n    <tr style=\"text-align: right;\">\n      <th></th>\n      <th>gameId</th>\n      <th>playId</th>\n      <th>playDescription</th>\n      <th>quarter</th>\n      <th>down</th>\n      <th>yardsToGo</th>\n      <th>possessionTeam</th>\n      <th>specialTeamsPlayType</th>\n      <th>specialTeamsResult</th>\n      <th>kickerId</th>\n      <th>...</th>\n      <th>position</th>\n      <th>team</th>\n      <th>frameId</th>\n      <th>playDirection</th>\n      <th>stdX</th>\n      <th>stdY</th>\n      <th>stdDir</th>\n      <th>stdR</th>\n      <th>stdTheta</th>\n      <th>is_off</th>\n    </tr>\n  </thead>\n  <tbody>\n    <tr>\n      <th>0</th>\n      <td>2018090600</td>\n      <td>37</td>\n      <td>J.Elliott kicks 65 yards from PHI 35 to end zo...</td>\n      <td>1</td>\n      <td>0</td>\n      <td>0</td>\n      <td>PHI</td>\n      <td>Kickoff</td>\n      <td>Touchback</td>\n      <td>44966.0</td>\n      <td>...</td>\n      <td>FS</td>\n      <td>home</td>\n      <td>1</td>\n      <td>right</td>\n      <td>43.76</td>\n      <td>8.10</td>\n      <td>53.28</td>\n      <td>44.503344</td>\n      <td>0.183029</td>\n      <td>True</td>\n    </tr>\n    <tr>\n      <th>1</th>\n      <td>2018090600</td>\n      <td>37</td>\n      <td>J.Elliott kicks 65 yards from PHI 35 to end zo...</td>\n      <td>1</td>\n      <td>0</td>\n      <td>0</td>\n      <td>PHI</td>\n      <td>Kickoff</td>\n      <td>Touchback</td>\n      <td>44966.0</td>\n      <td>...</td>\n      <td>FS</td>\n      <td>home</td>\n      <td>2</td>\n      <td>right</td>\n      <td>43.77</td>\n      <td>8.10</td>\n      <td>73.05</td>\n      <td>44.513177</td>\n      <td>0.182988</td>\n      <td>True</td>\n    </tr>\n    <tr>\n      <th>2</th>\n      <td>2018090600</td>\n      <td>37</td>\n      <td>J.Elliott kicks 65 yards from PHI 35 to end zo...</td>\n      <td>1</td>\n      <td>0</td>\n      <td>0</td>\n      <td>PHI</td>\n      <td>Kickoff</td>\n      <td>Touchback</td>\n      <td>44966.0</td>\n      <td>...</td>\n      <td>FS</td>\n      <td>home</td>\n      <td>3</td>\n      <td>right</td>\n      <td>43.78</td>\n      <td>8.10</td>\n      <td>70.39</td>\n      <td>44.523010</td>\n      <td>0.182947</td>\n      <td>True</td>\n    </tr>\n    <tr>\n      <th>3</th>\n      <td>2018090600</td>\n      <td>37</td>\n      <td>J.Elliott kicks 65 yards from PHI 35 to end zo...</td>\n      <td>1</td>\n      <td>0</td>\n      <td>0</td>\n      <td>PHI</td>\n      <td>Kickoff</td>\n      <td>Touchback</td>\n      <td>44966.0</td>\n      <td>...</td>\n      <td>FS</td>\n      <td>home</td>\n      <td>4</td>\n      <td>right</td>\n      <td>43.80</td>\n      <td>8.11</td>\n      <td>71.53</td>\n      <td>44.544496</td>\n      <td>0.183086</td>\n      <td>True</td>\n    </tr>\n    <tr>\n      <th>4</th>\n      <td>2018090600</td>\n      <td>37</td>\n      <td>J.Elliott kicks 65 yards from PHI 35 to end zo...</td>\n      <td>1</td>\n      <td>0</td>\n      <td>0</td>\n      <td>PHI</td>\n      <td>Kickoff</td>\n      <td>Touchback</td>\n      <td>44966.0</td>\n      <td>...</td>\n      <td>FS</td>\n      <td>home</td>\n      <td>5</td>\n      <td>right</td>\n      <td>43.84</td>\n      <td>8.12</td>\n      <td>75.17</td>\n      <td>44.585648</td>\n      <td>0.183143</td>\n      <td>True</td>\n    </tr>\n  </tbody>\n</table>\n<p>5 rows × 73 columns</p>\n</div>"
     },
     "metadata": {},
     "execution_count": 12
    }
   ],
   "source": [
    "print(kickoff_tracking.columns)\n",
    "kickoff_tracking.head()"
   ]
  },
  {
   "source": [
    "The only features we're interested in right now is location of players and the ball. So we'll selected those columns and standardize (scale) them."
   ],
   "cell_type": "markdown",
   "metadata": {}
  },
  {
   "cell_type": "code",
   "execution_count": 13,
   "metadata": {},
   "outputs": [
    {
     "output_type": "stream",
     "name": "stdout",
     "text": [
      "Done in: 29.97202777862549\n"
     ]
    }
   ],
   "source": [
    "features = ['stdR', 'stdTheta']\n",
    "\n",
    "sc = MinMaxScaler()\n",
    "\n",
    "start = time.time()\n",
    "kickoff_tracking[features] = sc.fit_transform(kickoff_tracking[features])\n",
    "print(\"Done in:\", time.time() - start)"
   ]
  },
  {
   "source": [
    "# Need to rename playerIds to 0-11 in order to optimize space (and time) since this step is failing!!\n",
    "vvvvvvvvvvvvvvvvvvvvvvvvvvvvvvvvvvvvvvvvvvvvvvvvvvvvvvvvvvvvvvvvvvvvvvvvvvvvvvvvvvvvvvvvvvvvvvvvvvvv\n"
   ],
   "cell_type": "markdown",
   "metadata": {}
  },
  {
   "cell_type": "code",
   "execution_count": 14,
   "metadata": {},
   "outputs": [],
   "source": [
    "# start = time.time()\n",
    "# df = kickoff_tracking.set_index(['gameId', 'playId', 'frameId', 'is_off', 'nflId']).sort_index(level=['is_off', 'frameId', 'nflId'])[features].unstack(['is_off', 'nflId']).reset_index(['gameId', 'playId', 'frameId'])\n",
    "# print(\"Done in:\", time.time() - start)\n",
    "\n",
    "# df.head()"
   ]
  },
  {
   "cell_type": "code",
   "execution_count": 15,
   "metadata": {},
   "outputs": [
    {
     "output_type": "stream",
     "name": "stdout",
     "text": [
      "Done in: 160.2979609966278\n"
     ]
    },
    {
     "output_type": "execute_result",
     "data": {
      "text/plain": [
       "               gameId playId frameId      stdR                                \\\n",
       "is_off                                   False                                 \n",
       "playerNum                                    0         1         2         3   \n",
       "618048     2021010315   3886      54  0.599991  0.709529  0.618113  0.639264   \n",
       "618049     2021010315   3886      55  0.603289  0.710428  0.620317  0.641340   \n",
       "618050     2021010315   3886      56  0.606636  0.711311  0.622393  0.643319   \n",
       "618051     2021010315   3886      57  0.609894  0.712180  0.624347  0.645178   \n",
       "618052     2021010315   3886      58  0.613153  0.713079  0.626272  0.646919   \n",
       "618053     2021010315   3886      59  0.616302  0.713986  0.628071  0.648562   \n",
       "618054     2021010315   4182       1  0.347062  0.382382  0.471346  0.379773   \n",
       "618055     2021010315   4182       2  0.347388  0.382463  0.471364  0.379857   \n",
       "618056     2021010315   4182       3  0.347799  0.382487  0.471364  0.379870   \n",
       "618057     2021010315   4182       4  0.348270  0.382498  0.471364  0.379949   \n",
       "618058     2021010315   4182       5  0.348863  0.382510  0.471306  0.379957   \n",
       "618059     2021010315   4182       6  0.349676  0.382522  0.471328  0.379966   \n",
       "618060     2021010315   4182       7  0.350902  0.382545  0.471234  0.379975   \n",
       "618061     2021010315   4182       8  0.352554  0.382581  0.471162  0.379975   \n",
       "618062     2021010315   4182       9  0.354911  0.382651  0.471073  0.379900   \n",
       "618063     2021010315   4182      10  0.357757  0.382747  0.470908  0.379895   \n",
       "618064     2021010315   4182      11  0.361156  0.382937  0.470710  0.379829   \n",
       "618065     2021010315   4182      12  0.365054  0.383316  0.470495  0.379688   \n",
       "618066     2021010315   4182      13  0.369541  0.383818  0.470109  0.379626   \n",
       "618067     2021010315   4182      14  0.374445  0.384443  0.469592  0.379573   \n",
       "618068     2021010315   4182      15  0.379720  0.385100  0.469037  0.379670   \n",
       "618069     2021010315   4182      16  0.385195  0.385912  0.468272  0.379702   \n",
       "618070     2021010315   4182      17  0.390872  0.386859  0.467468  0.379820   \n",
       "618071     2021010315   4182      18  0.396557  0.387930  0.466625  0.379943   \n",
       "618072     2021010315   4182      19  0.402227  0.388937  0.465759  0.380149   \n",
       "618073     2021010315   4182      20  0.407800  0.390076  0.464911  0.380367   \n",
       "618074     2021010315   4182      21  0.413312  0.391199  0.464247  0.380593   \n",
       "618075     2021010315   4182      22  0.418675  0.392394  0.463600  0.380905   \n",
       "618076     2021010315   4182      23  0.423829  0.393665  0.463153  0.381090   \n",
       "618077     2021010315   4182      24  0.428785  0.394933  0.462822  0.381294   \n",
       "618078     2021010315   4182      25  0.433722  0.396149  0.462577  0.381509   \n",
       "618079     2021010315   4182      26  0.438454  0.397439  0.462532  0.381611   \n",
       "618080     2021010315   4182      27  0.443063  0.398669  0.462545  0.381721   \n",
       "618081     2021010315   4182      28  0.447107  0.400009  0.462646  0.381784   \n",
       "618082     2021010315   4182      29  0.450813  0.401295  0.462863  0.381857   \n",
       "618083     2021010315   4182      30  0.454292  0.402533  0.463094  0.381878   \n",
       "618084     2021010315   4182      31  0.457431  0.403728  0.463328  0.381830   \n",
       "618085     2021010315   4182      32  0.460031  0.404948  0.463400  0.381863   \n",
       "618086     2021010315   4182      33  0.462546  0.406169  0.463589  0.381827   \n",
       "618087     2021010315   4182      34  0.464266  0.407326  0.463606  0.381729   \n",
       "618088     2021010315   4182      35  0.466085  0.408622  0.463761  0.381622   \n",
       "618089     2021010315   4182      36  0.466955  0.409848  0.463732  0.381512   \n",
       "618090     2021010315   4182      37  0.468135  0.411093  0.463546  0.381330   \n",
       "618091     2021010315   4182      38  0.468210  0.412355  0.463387  0.381144   \n",
       "618092     2021010315   4182      39  0.468850  0.413537  0.463086  0.380953   \n",
       "618093     2021010315   4182      40  0.468527  0.414665  0.462842  0.380885   \n",
       "618094     2021010315   4182      41  0.468825  0.415839  0.462528  0.380811   \n",
       "618095     2021010315   4182      42  0.468415  0.416954  0.462215  0.380741   \n",
       "618096     2021010315   4182      43  0.468558  0.418137  0.461987  0.380651   \n",
       "618097     2021010315   4182      44  0.468105  0.419258  0.461802  0.380704   \n",
       "\n",
       "                                         ...  stdTheta                      \\\n",
       "is_off                                   ...      True                       \n",
       "playerNum         4         5         6  ...        14        15        16   \n",
       "618048     0.623358  0.593914  0.733250  ...  0.479715  0.470085  0.555592   \n",
       "618049     0.625751  0.596186  0.733153  ...  0.478161  0.468194  0.552839   \n",
       "618050     0.628014  0.598489  0.733002  ...  0.476648  0.466229  0.549970   \n",
       "618051     0.630123  0.600850  0.732850  ...  0.475145  0.464371  0.546929   \n",
       "618052     0.632144  0.603178  0.732737  ...  0.473525  0.462525  0.543822   \n",
       "618053     0.634035  0.605538  0.732651  ...  0.471943  0.460586  0.540624   \n",
       "618054     0.408878  0.531480  0.628187  ...  0.653542  0.620223  0.393956   \n",
       "618055     0.408762  0.531424  0.628140  ...  0.653702  0.620223  0.393956   \n",
       "618056     0.408870  0.531467  0.628052  ...  0.653862  0.620215  0.393956   \n",
       "618057     0.408978  0.531411  0.627937  ...  0.653915  0.620215  0.393956   \n",
       "618058     0.409135  0.531312  0.627821  ...  0.653915  0.620155  0.393979   \n",
       "618059     0.409094  0.531212  0.627639  ...  0.653862  0.620155  0.393877   \n",
       "618060     0.409193  0.531113  0.627476  ...  0.653755  0.620094  0.393776   \n",
       "618061     0.409259  0.530914  0.627240  ...  0.653595  0.620094  0.393573   \n",
       "618062     0.409309  0.530616  0.626998  ...  0.653435  0.620146  0.393448   \n",
       "618063     0.409384  0.530306  0.626752  ...  0.653329  0.620146  0.393448   \n",
       "618064     0.409459  0.529839  0.626454  ...  0.653169  0.620086  0.393301   \n",
       "618065     0.409575  0.529162  0.626061  ...  0.653062  0.620034  0.393255   \n",
       "618066     0.409734  0.528317  0.625690  ...  0.652902  0.619989  0.393186   \n",
       "618067     0.409979  0.527260  0.625164  ...  0.652795  0.619833  0.393273   \n",
       "618068     0.410353  0.525937  0.624664  ...  0.652636  0.619580  0.393696   \n",
       "618069     0.410769  0.524260  0.624038  ...  0.652316  0.619171  0.394095   \n",
       "618070     0.411255  0.522316  0.623310  ...  0.651891  0.618556  0.394800   \n",
       "618071     0.411777  0.520119  0.622438  ...  0.651253  0.617805  0.395632   \n",
       "618072     0.412621  0.517624  0.621492  ...  0.650459  0.616965  0.396785   \n",
       "618073     0.413344  0.514732  0.620360  ...  0.649295  0.615944  0.398350   \n",
       "618074     0.414092  0.511653  0.619069  ...  0.647925  0.614857  0.400365   \n",
       "618075     0.414940  0.508388  0.617686  ...  0.646195  0.613581  0.402719   \n",
       "618076     0.415876  0.504880  0.616141  ...  0.644110  0.612240  0.405525   \n",
       "618077     0.416803  0.501229  0.614391  ...  0.641673  0.610827  0.408892   \n",
       "618078     0.417792  0.497590  0.612568  ...  0.638946  0.609572  0.412522   \n",
       "618079     0.418849  0.493951  0.610673  ...  0.635936  0.608308  0.416504   \n",
       "618080     0.419981  0.490212  0.608678  ...  0.632805  0.607181  0.420764   \n",
       "618081     0.421159  0.486628  0.606542  ...  0.629605  0.606350  0.425298   \n",
       "618082     0.422384  0.483001  0.604371  ...  0.626341  0.605555  0.430012   \n",
       "618083     0.423790  0.479373  0.602163  ...  0.623165  0.604980  0.434906   \n",
       "618084     0.425124  0.475944  0.599904  ...  0.620079  0.604517  0.439918   \n",
       "618085     0.426572  0.472571  0.597606  ...  0.617235  0.604107  0.445082   \n",
       "618086     0.428072  0.469397  0.595387  ...  0.614824  0.603827  0.450249   \n",
       "618087     0.429612  0.466489  0.593191  ...  0.612639  0.603574  0.455393   \n",
       "618088     0.431296  0.463792  0.591045  ...  0.610864  0.603370  0.460428   \n",
       "618089     0.433051  0.461396  0.588939  ...  0.609403  0.603179  0.465411   \n",
       "618090     0.434796  0.459257  0.586982  ...  0.608250  0.603056  0.470291   \n",
       "618091     0.436662  0.457186  0.585008  ...  0.607241  0.602989  0.475037   \n",
       "618092     0.438449  0.455526  0.583114  ...  0.606468  0.603075  0.479450   \n",
       "618093     0.440307  0.454079  0.581298  ...  0.605734  0.603128  0.483615   \n",
       "618094     0.442291  0.452803  0.579490  ...  0.605093  0.603247  0.487656   \n",
       "618095     0.444199  0.451913  0.577758  ...  0.604628  0.603397  0.491455   \n",
       "618096     0.446139  0.451180  0.576131  ...  0.604049  0.603429  0.494979   \n",
       "618097     0.447950  0.450733  0.574448  ...  0.603549  0.603440  0.498266   \n",
       "\n",
       "                                                                       \\\n",
       "is_off                                                                  \n",
       "playerNum        17        18        19        20        21        22   \n",
       "618048     0.540663  0.450240  0.429440  0.431319  0.510823  0.406655   \n",
       "618049     0.538010  0.449238  0.428312  0.431425  0.508898  0.406375   \n",
       "618050     0.535431  0.448221  0.427117  0.431389  0.506983  0.406036   \n",
       "618051     0.532879  0.447293  0.425961  0.431293  0.505103  0.405718   \n",
       "618052     0.530397  0.446329  0.424773  0.431296  0.503185  0.405356   \n",
       "618053     0.527976  0.445451  0.423569  0.431258  0.501276  0.405040   \n",
       "618054     0.454105  0.501412  0.546763  0.591450  0.482256  0.351263   \n",
       "618055     0.454105  0.501325  0.546321  0.591450  0.482217  0.351263   \n",
       "618056     0.454199  0.501280  0.545832  0.591467  0.482038  0.351353   \n",
       "618057     0.454199  0.501362  0.545374  0.591586  0.481949  0.351353   \n",
       "618058     0.454105  0.501403  0.544792  0.591654  0.481859  0.351458   \n",
       "618059     0.454105  0.501486  0.544212  0.591654  0.481770  0.351458   \n",
       "618060     0.454105  0.501740  0.543664  0.591670  0.481720  0.351562   \n",
       "618061     0.454105  0.501995  0.543040  0.591670  0.481669  0.351770   \n",
       "618062     0.454105  0.502081  0.542541  0.591550  0.481709  0.351965   \n",
       "618063     0.454070  0.502168  0.542091  0.591483  0.481709  0.352131   \n",
       "618064     0.454001  0.502256  0.541565  0.591363  0.481709  0.352373   \n",
       "618065     0.453956  0.502176  0.541132  0.591244  0.481630  0.352869   \n",
       "618066     0.453970  0.502057  0.540777  0.591141  0.481591  0.353320   \n",
       "618067     0.454068  0.501939  0.540362  0.590919  0.481562  0.353904   \n",
       "618068     0.454189  0.501824  0.539946  0.590559  0.481456  0.354644   \n",
       "618069     0.454485  0.501797  0.539623  0.590081  0.481271  0.355524   \n",
       "618070     0.455069  0.501982  0.539346  0.589586  0.481098  0.356754   \n",
       "618071     0.456096  0.502372  0.539115  0.588923  0.480898  0.358341   \n",
       "618072     0.457190  0.502924  0.538961  0.588178  0.480810  0.360145   \n",
       "618073     0.458564  0.503835  0.538807  0.587390  0.480695  0.362315   \n",
       "618074     0.460118  0.505056  0.538698  0.586609  0.480768  0.364714   \n",
       "618075     0.461935  0.506617  0.538590  0.585938  0.481036  0.367831   \n",
       "618076     0.464005  0.508629  0.538559  0.585326  0.481573  0.371198   \n",
       "618077     0.466265  0.510882  0.538527  0.584839  0.482247  0.374791   \n",
       "618078     0.468742  0.513489  0.538496  0.584377  0.483337  0.378604   \n",
       "618079     0.471272  0.516322  0.538419  0.584085  0.484804  0.382720   \n",
       "618080     0.473887  0.519415  0.538465  0.584008  0.486459  0.386986   \n",
       "618081     0.476615  0.522763  0.538387  0.584124  0.488625  0.391379   \n",
       "618082     0.479370  0.526097  0.538310  0.584380  0.491113  0.396008   \n",
       "618083     0.482205  0.529595  0.538310  0.584678  0.493955  0.400870   \n",
       "618084     0.485052  0.533077  0.538264  0.585094  0.497058  0.405985   \n",
       "618085     0.487918  0.536543  0.538264  0.585655  0.500293  0.411130   \n",
       "618086     0.490762  0.539982  0.538264  0.586206  0.503809  0.416416   \n",
       "618087     0.493508  0.543225  0.538218  0.586881  0.507367  0.421697   \n",
       "618088     0.496241  0.546306  0.538250  0.587531  0.511156  0.427040   \n",
       "618089     0.498916  0.549337  0.538204  0.588406  0.514947  0.432280   \n",
       "618090     0.501614  0.552252  0.538235  0.589181  0.518888  0.437561   \n",
       "618091     0.504299  0.555012  0.538189  0.589903  0.522723  0.442720   \n",
       "618092     0.506940  0.557556  0.538221  0.590516  0.526565  0.447733   \n",
       "618093     0.509610  0.560037  0.538329  0.591124  0.530349  0.452632   \n",
       "618094     0.512102  0.562374  0.538361  0.591687  0.534039  0.457420   \n",
       "618095     0.514631  0.564611  0.538469  0.592234  0.537640  0.462024   \n",
       "618096     0.517098  0.566648  0.538500  0.592738  0.541089  0.466653   \n",
       "618097     0.519434  0.568531  0.538577  0.593114  0.544350  0.471169   \n",
       "\n",
       "                     \n",
       "is_off               \n",
       "playerNum        11  \n",
       "618048     0.453767  \n",
       "618049     0.453510  \n",
       "618050     0.453273  \n",
       "618051     0.453057  \n",
       "618052     0.452885  \n",
       "618053     0.452685  \n",
       "618054          NaN  \n",
       "618055          NaN  \n",
       "618056          NaN  \n",
       "618057          NaN  \n",
       "618058          NaN  \n",
       "618059          NaN  \n",
       "618060          NaN  \n",
       "618061          NaN  \n",
       "618062          NaN  \n",
       "618063          NaN  \n",
       "618064          NaN  \n",
       "618065          NaN  \n",
       "618066          NaN  \n",
       "618067          NaN  \n",
       "618068          NaN  \n",
       "618069          NaN  \n",
       "618070          NaN  \n",
       "618071          NaN  \n",
       "618072          NaN  \n",
       "618073          NaN  \n",
       "618074          NaN  \n",
       "618075          NaN  \n",
       "618076          NaN  \n",
       "618077          NaN  \n",
       "618078          NaN  \n",
       "618079          NaN  \n",
       "618080          NaN  \n",
       "618081          NaN  \n",
       "618082          NaN  \n",
       "618083          NaN  \n",
       "618084          NaN  \n",
       "618085          NaN  \n",
       "618086          NaN  \n",
       "618087          NaN  \n",
       "618088          NaN  \n",
       "618089          NaN  \n",
       "618090          NaN  \n",
       "618091          NaN  \n",
       "618092          NaN  \n",
       "618093          NaN  \n",
       "618094          NaN  \n",
       "618095          NaN  \n",
       "618096          NaN  \n",
       "618097          NaN  \n",
       "\n",
       "[50 rows x 51 columns]"
      ],
      "text/html": "<div>\n<style scoped>\n    .dataframe tbody tr th:only-of-type {\n        vertical-align: middle;\n    }\n\n    .dataframe tbody tr th {\n        vertical-align: top;\n    }\n\n    .dataframe thead tr th {\n        text-align: left;\n    }\n</style>\n<table border=\"1\" class=\"dataframe\">\n  <thead>\n    <tr>\n      <th></th>\n      <th>gameId</th>\n      <th>playId</th>\n      <th>frameId</th>\n      <th colspan=\"7\" halign=\"left\">stdR</th>\n      <th>...</th>\n      <th colspan=\"10\" halign=\"left\">stdTheta</th>\n    </tr>\n    <tr>\n      <th>is_off</th>\n      <th></th>\n      <th></th>\n      <th></th>\n      <th colspan=\"7\" halign=\"left\">False</th>\n      <th>...</th>\n      <th colspan=\"10\" halign=\"left\">True</th>\n    </tr>\n    <tr>\n      <th>playerNum</th>\n      <th></th>\n      <th></th>\n      <th></th>\n      <th>0</th>\n      <th>1</th>\n      <th>2</th>\n      <th>3</th>\n      <th>4</th>\n      <th>5</th>\n      <th>6</th>\n      <th>...</th>\n      <th>14</th>\n      <th>15</th>\n      <th>16</th>\n      <th>17</th>\n      <th>18</th>\n      <th>19</th>\n      <th>20</th>\n      <th>21</th>\n      <th>22</th>\n      <th>11</th>\n    </tr>\n  </thead>\n  <tbody>\n    <tr>\n      <th>618048</th>\n      <td>2021010315</td>\n      <td>3886</td>\n      <td>54</td>\n      <td>0.599991</td>\n      <td>0.709529</td>\n      <td>0.618113</td>\n      <td>0.639264</td>\n      <td>0.623358</td>\n      <td>0.593914</td>\n      <td>0.733250</td>\n      <td>...</td>\n      <td>0.479715</td>\n      <td>0.470085</td>\n      <td>0.555592</td>\n      <td>0.540663</td>\n      <td>0.450240</td>\n      <td>0.429440</td>\n      <td>0.431319</td>\n      <td>0.510823</td>\n      <td>0.406655</td>\n      <td>0.453767</td>\n    </tr>\n    <tr>\n      <th>618049</th>\n      <td>2021010315</td>\n      <td>3886</td>\n      <td>55</td>\n      <td>0.603289</td>\n      <td>0.710428</td>\n      <td>0.620317</td>\n      <td>0.641340</td>\n      <td>0.625751</td>\n      <td>0.596186</td>\n      <td>0.733153</td>\n      <td>...</td>\n      <td>0.478161</td>\n      <td>0.468194</td>\n      <td>0.552839</td>\n      <td>0.538010</td>\n      <td>0.449238</td>\n      <td>0.428312</td>\n      <td>0.431425</td>\n      <td>0.508898</td>\n      <td>0.406375</td>\n      <td>0.453510</td>\n    </tr>\n    <tr>\n      <th>618050</th>\n      <td>2021010315</td>\n      <td>3886</td>\n      <td>56</td>\n      <td>0.606636</td>\n      <td>0.711311</td>\n      <td>0.622393</td>\n      <td>0.643319</td>\n      <td>0.628014</td>\n      <td>0.598489</td>\n      <td>0.733002</td>\n      <td>...</td>\n      <td>0.476648</td>\n      <td>0.466229</td>\n      <td>0.549970</td>\n      <td>0.535431</td>\n      <td>0.448221</td>\n      <td>0.427117</td>\n      <td>0.431389</td>\n      <td>0.506983</td>\n      <td>0.406036</td>\n      <td>0.453273</td>\n    </tr>\n    <tr>\n      <th>618051</th>\n      <td>2021010315</td>\n      <td>3886</td>\n      <td>57</td>\n      <td>0.609894</td>\n      <td>0.712180</td>\n      <td>0.624347</td>\n      <td>0.645178</td>\n      <td>0.630123</td>\n      <td>0.600850</td>\n      <td>0.732850</td>\n      <td>...</td>\n      <td>0.475145</td>\n      <td>0.464371</td>\n      <td>0.546929</td>\n      <td>0.532879</td>\n      <td>0.447293</td>\n      <td>0.425961</td>\n      <td>0.431293</td>\n      <td>0.505103</td>\n      <td>0.405718</td>\n      <td>0.453057</td>\n    </tr>\n    <tr>\n      <th>618052</th>\n      <td>2021010315</td>\n      <td>3886</td>\n      <td>58</td>\n      <td>0.613153</td>\n      <td>0.713079</td>\n      <td>0.626272</td>\n      <td>0.646919</td>\n      <td>0.632144</td>\n      <td>0.603178</td>\n      <td>0.732737</td>\n      <td>...</td>\n      <td>0.473525</td>\n      <td>0.462525</td>\n      <td>0.543822</td>\n      <td>0.530397</td>\n      <td>0.446329</td>\n      <td>0.424773</td>\n      <td>0.431296</td>\n      <td>0.503185</td>\n      <td>0.405356</td>\n      <td>0.452885</td>\n    </tr>\n    <tr>\n      <th>618053</th>\n      <td>2021010315</td>\n      <td>3886</td>\n      <td>59</td>\n      <td>0.616302</td>\n      <td>0.713986</td>\n      <td>0.628071</td>\n      <td>0.648562</td>\n      <td>0.634035</td>\n      <td>0.605538</td>\n      <td>0.732651</td>\n      <td>...</td>\n      <td>0.471943</td>\n      <td>0.460586</td>\n      <td>0.540624</td>\n      <td>0.527976</td>\n      <td>0.445451</td>\n      <td>0.423569</td>\n      <td>0.431258</td>\n      <td>0.501276</td>\n      <td>0.405040</td>\n      <td>0.452685</td>\n    </tr>\n    <tr>\n      <th>618054</th>\n      <td>2021010315</td>\n      <td>4182</td>\n      <td>1</td>\n      <td>0.347062</td>\n      <td>0.382382</td>\n      <td>0.471346</td>\n      <td>0.379773</td>\n      <td>0.408878</td>\n      <td>0.531480</td>\n      <td>0.628187</td>\n      <td>...</td>\n      <td>0.653542</td>\n      <td>0.620223</td>\n      <td>0.393956</td>\n      <td>0.454105</td>\n      <td>0.501412</td>\n      <td>0.546763</td>\n      <td>0.591450</td>\n      <td>0.482256</td>\n      <td>0.351263</td>\n      <td>NaN</td>\n    </tr>\n    <tr>\n      <th>618055</th>\n      <td>2021010315</td>\n      <td>4182</td>\n      <td>2</td>\n      <td>0.347388</td>\n      <td>0.382463</td>\n      <td>0.471364</td>\n      <td>0.379857</td>\n      <td>0.408762</td>\n      <td>0.531424</td>\n      <td>0.628140</td>\n      <td>...</td>\n      <td>0.653702</td>\n      <td>0.620223</td>\n      <td>0.393956</td>\n      <td>0.454105</td>\n      <td>0.501325</td>\n      <td>0.546321</td>\n      <td>0.591450</td>\n      <td>0.482217</td>\n      <td>0.351263</td>\n      <td>NaN</td>\n    </tr>\n    <tr>\n      <th>618056</th>\n      <td>2021010315</td>\n      <td>4182</td>\n      <td>3</td>\n      <td>0.347799</td>\n      <td>0.382487</td>\n      <td>0.471364</td>\n      <td>0.379870</td>\n      <td>0.408870</td>\n      <td>0.531467</td>\n      <td>0.628052</td>\n      <td>...</td>\n      <td>0.653862</td>\n      <td>0.620215</td>\n      <td>0.393956</td>\n      <td>0.454199</td>\n      <td>0.501280</td>\n      <td>0.545832</td>\n      <td>0.591467</td>\n      <td>0.482038</td>\n      <td>0.351353</td>\n      <td>NaN</td>\n    </tr>\n    <tr>\n      <th>618057</th>\n      <td>2021010315</td>\n      <td>4182</td>\n      <td>4</td>\n      <td>0.348270</td>\n      <td>0.382498</td>\n      <td>0.471364</td>\n      <td>0.379949</td>\n      <td>0.408978</td>\n      <td>0.531411</td>\n      <td>0.627937</td>\n      <td>...</td>\n      <td>0.653915</td>\n      <td>0.620215</td>\n      <td>0.393956</td>\n      <td>0.454199</td>\n      <td>0.501362</td>\n      <td>0.545374</td>\n      <td>0.591586</td>\n      <td>0.481949</td>\n      <td>0.351353</td>\n      <td>NaN</td>\n    </tr>\n    <tr>\n      <th>618058</th>\n      <td>2021010315</td>\n      <td>4182</td>\n      <td>5</td>\n      <td>0.348863</td>\n      <td>0.382510</td>\n      <td>0.471306</td>\n      <td>0.379957</td>\n      <td>0.409135</td>\n      <td>0.531312</td>\n      <td>0.627821</td>\n      <td>...</td>\n      <td>0.653915</td>\n      <td>0.620155</td>\n      <td>0.393979</td>\n      <td>0.454105</td>\n      <td>0.501403</td>\n      <td>0.544792</td>\n      <td>0.591654</td>\n      <td>0.481859</td>\n      <td>0.351458</td>\n      <td>NaN</td>\n    </tr>\n    <tr>\n      <th>618059</th>\n      <td>2021010315</td>\n      <td>4182</td>\n      <td>6</td>\n      <td>0.349676</td>\n      <td>0.382522</td>\n      <td>0.471328</td>\n      <td>0.379966</td>\n      <td>0.409094</td>\n      <td>0.531212</td>\n      <td>0.627639</td>\n      <td>...</td>\n      <td>0.653862</td>\n      <td>0.620155</td>\n      <td>0.393877</td>\n      <td>0.454105</td>\n      <td>0.501486</td>\n      <td>0.544212</td>\n      <td>0.591654</td>\n      <td>0.481770</td>\n      <td>0.351458</td>\n      <td>NaN</td>\n    </tr>\n    <tr>\n      <th>618060</th>\n      <td>2021010315</td>\n      <td>4182</td>\n      <td>7</td>\n      <td>0.350902</td>\n      <td>0.382545</td>\n      <td>0.471234</td>\n      <td>0.379975</td>\n      <td>0.409193</td>\n      <td>0.531113</td>\n      <td>0.627476</td>\n      <td>...</td>\n      <td>0.653755</td>\n      <td>0.620094</td>\n      <td>0.393776</td>\n      <td>0.454105</td>\n      <td>0.501740</td>\n      <td>0.543664</td>\n      <td>0.591670</td>\n      <td>0.481720</td>\n      <td>0.351562</td>\n      <td>NaN</td>\n    </tr>\n    <tr>\n      <th>618061</th>\n      <td>2021010315</td>\n      <td>4182</td>\n      <td>8</td>\n      <td>0.352554</td>\n      <td>0.382581</td>\n      <td>0.471162</td>\n      <td>0.379975</td>\n      <td>0.409259</td>\n      <td>0.530914</td>\n      <td>0.627240</td>\n      <td>...</td>\n      <td>0.653595</td>\n      <td>0.620094</td>\n      <td>0.393573</td>\n      <td>0.454105</td>\n      <td>0.501995</td>\n      <td>0.543040</td>\n      <td>0.591670</td>\n      <td>0.481669</td>\n      <td>0.351770</td>\n      <td>NaN</td>\n    </tr>\n    <tr>\n      <th>618062</th>\n      <td>2021010315</td>\n      <td>4182</td>\n      <td>9</td>\n      <td>0.354911</td>\n      <td>0.382651</td>\n      <td>0.471073</td>\n      <td>0.379900</td>\n      <td>0.409309</td>\n      <td>0.530616</td>\n      <td>0.626998</td>\n      <td>...</td>\n      <td>0.653435</td>\n      <td>0.620146</td>\n      <td>0.393448</td>\n      <td>0.454105</td>\n      <td>0.502081</td>\n      <td>0.542541</td>\n      <td>0.591550</td>\n      <td>0.481709</td>\n      <td>0.351965</td>\n      <td>NaN</td>\n    </tr>\n    <tr>\n      <th>618063</th>\n      <td>2021010315</td>\n      <td>4182</td>\n      <td>10</td>\n      <td>0.357757</td>\n      <td>0.382747</td>\n      <td>0.470908</td>\n      <td>0.379895</td>\n      <td>0.409384</td>\n      <td>0.530306</td>\n      <td>0.626752</td>\n      <td>...</td>\n      <td>0.653329</td>\n      <td>0.620146</td>\n      <td>0.393448</td>\n      <td>0.454070</td>\n      <td>0.502168</td>\n      <td>0.542091</td>\n      <td>0.591483</td>\n      <td>0.481709</td>\n      <td>0.352131</td>\n      <td>NaN</td>\n    </tr>\n    <tr>\n      <th>618064</th>\n      <td>2021010315</td>\n      <td>4182</td>\n      <td>11</td>\n      <td>0.361156</td>\n      <td>0.382937</td>\n      <td>0.470710</td>\n      <td>0.379829</td>\n      <td>0.409459</td>\n      <td>0.529839</td>\n      <td>0.626454</td>\n      <td>...</td>\n      <td>0.653169</td>\n      <td>0.620086</td>\n      <td>0.393301</td>\n      <td>0.454001</td>\n      <td>0.502256</td>\n      <td>0.541565</td>\n      <td>0.591363</td>\n      <td>0.481709</td>\n      <td>0.352373</td>\n      <td>NaN</td>\n    </tr>\n    <tr>\n      <th>618065</th>\n      <td>2021010315</td>\n      <td>4182</td>\n      <td>12</td>\n      <td>0.365054</td>\n      <td>0.383316</td>\n      <td>0.470495</td>\n      <td>0.379688</td>\n      <td>0.409575</td>\n      <td>0.529162</td>\n      <td>0.626061</td>\n      <td>...</td>\n      <td>0.653062</td>\n      <td>0.620034</td>\n      <td>0.393255</td>\n      <td>0.453956</td>\n      <td>0.502176</td>\n      <td>0.541132</td>\n      <td>0.591244</td>\n      <td>0.481630</td>\n      <td>0.352869</td>\n      <td>NaN</td>\n    </tr>\n    <tr>\n      <th>618066</th>\n      <td>2021010315</td>\n      <td>4182</td>\n      <td>13</td>\n      <td>0.369541</td>\n      <td>0.383818</td>\n      <td>0.470109</td>\n      <td>0.379626</td>\n      <td>0.409734</td>\n      <td>0.528317</td>\n      <td>0.625690</td>\n      <td>...</td>\n      <td>0.652902</td>\n      <td>0.619989</td>\n      <td>0.393186</td>\n      <td>0.453970</td>\n      <td>0.502057</td>\n      <td>0.540777</td>\n      <td>0.591141</td>\n      <td>0.481591</td>\n      <td>0.353320</td>\n      <td>NaN</td>\n    </tr>\n    <tr>\n      <th>618067</th>\n      <td>2021010315</td>\n      <td>4182</td>\n      <td>14</td>\n      <td>0.374445</td>\n      <td>0.384443</td>\n      <td>0.469592</td>\n      <td>0.379573</td>\n      <td>0.409979</td>\n      <td>0.527260</td>\n      <td>0.625164</td>\n      <td>...</td>\n      <td>0.652795</td>\n      <td>0.619833</td>\n      <td>0.393273</td>\n      <td>0.454068</td>\n      <td>0.501939</td>\n      <td>0.540362</td>\n      <td>0.590919</td>\n      <td>0.481562</td>\n      <td>0.353904</td>\n      <td>NaN</td>\n    </tr>\n    <tr>\n      <th>618068</th>\n      <td>2021010315</td>\n      <td>4182</td>\n      <td>15</td>\n      <td>0.379720</td>\n      <td>0.385100</td>\n      <td>0.469037</td>\n      <td>0.379670</td>\n      <td>0.410353</td>\n      <td>0.525937</td>\n      <td>0.624664</td>\n      <td>...</td>\n      <td>0.652636</td>\n      <td>0.619580</td>\n      <td>0.393696</td>\n      <td>0.454189</td>\n      <td>0.501824</td>\n      <td>0.539946</td>\n      <td>0.590559</td>\n      <td>0.481456</td>\n      <td>0.354644</td>\n      <td>NaN</td>\n    </tr>\n    <tr>\n      <th>618069</th>\n      <td>2021010315</td>\n      <td>4182</td>\n      <td>16</td>\n      <td>0.385195</td>\n      <td>0.385912</td>\n      <td>0.468272</td>\n      <td>0.379702</td>\n      <td>0.410769</td>\n      <td>0.524260</td>\n      <td>0.624038</td>\n      <td>...</td>\n      <td>0.652316</td>\n      <td>0.619171</td>\n      <td>0.394095</td>\n      <td>0.454485</td>\n      <td>0.501797</td>\n      <td>0.539623</td>\n      <td>0.590081</td>\n      <td>0.481271</td>\n      <td>0.355524</td>\n      <td>NaN</td>\n    </tr>\n    <tr>\n      <th>618070</th>\n      <td>2021010315</td>\n      <td>4182</td>\n      <td>17</td>\n      <td>0.390872</td>\n      <td>0.386859</td>\n      <td>0.467468</td>\n      <td>0.379820</td>\n      <td>0.411255</td>\n      <td>0.522316</td>\n      <td>0.623310</td>\n      <td>...</td>\n      <td>0.651891</td>\n      <td>0.618556</td>\n      <td>0.394800</td>\n      <td>0.455069</td>\n      <td>0.501982</td>\n      <td>0.539346</td>\n      <td>0.589586</td>\n      <td>0.481098</td>\n      <td>0.356754</td>\n      <td>NaN</td>\n    </tr>\n    <tr>\n      <th>618071</th>\n      <td>2021010315</td>\n      <td>4182</td>\n      <td>18</td>\n      <td>0.396557</td>\n      <td>0.387930</td>\n      <td>0.466625</td>\n      <td>0.379943</td>\n      <td>0.411777</td>\n      <td>0.520119</td>\n      <td>0.622438</td>\n      <td>...</td>\n      <td>0.651253</td>\n      <td>0.617805</td>\n      <td>0.395632</td>\n      <td>0.456096</td>\n      <td>0.502372</td>\n      <td>0.539115</td>\n      <td>0.588923</td>\n      <td>0.480898</td>\n      <td>0.358341</td>\n      <td>NaN</td>\n    </tr>\n    <tr>\n      <th>618072</th>\n      <td>2021010315</td>\n      <td>4182</td>\n      <td>19</td>\n      <td>0.402227</td>\n      <td>0.388937</td>\n      <td>0.465759</td>\n      <td>0.380149</td>\n      <td>0.412621</td>\n      <td>0.517624</td>\n      <td>0.621492</td>\n      <td>...</td>\n      <td>0.650459</td>\n      <td>0.616965</td>\n      <td>0.396785</td>\n      <td>0.457190</td>\n      <td>0.502924</td>\n      <td>0.538961</td>\n      <td>0.588178</td>\n      <td>0.480810</td>\n      <td>0.360145</td>\n      <td>NaN</td>\n    </tr>\n    <tr>\n      <th>618073</th>\n      <td>2021010315</td>\n      <td>4182</td>\n      <td>20</td>\n      <td>0.407800</td>\n      <td>0.390076</td>\n      <td>0.464911</td>\n      <td>0.380367</td>\n      <td>0.413344</td>\n      <td>0.514732</td>\n      <td>0.620360</td>\n      <td>...</td>\n      <td>0.649295</td>\n      <td>0.615944</td>\n      <td>0.398350</td>\n      <td>0.458564</td>\n      <td>0.503835</td>\n      <td>0.538807</td>\n      <td>0.587390</td>\n      <td>0.480695</td>\n      <td>0.362315</td>\n      <td>NaN</td>\n    </tr>\n    <tr>\n      <th>618074</th>\n      <td>2021010315</td>\n      <td>4182</td>\n      <td>21</td>\n      <td>0.413312</td>\n      <td>0.391199</td>\n      <td>0.464247</td>\n      <td>0.380593</td>\n      <td>0.414092</td>\n      <td>0.511653</td>\n      <td>0.619069</td>\n      <td>...</td>\n      <td>0.647925</td>\n      <td>0.614857</td>\n      <td>0.400365</td>\n      <td>0.460118</td>\n      <td>0.505056</td>\n      <td>0.538698</td>\n      <td>0.586609</td>\n      <td>0.480768</td>\n      <td>0.364714</td>\n      <td>NaN</td>\n    </tr>\n    <tr>\n      <th>618075</th>\n      <td>2021010315</td>\n      <td>4182</td>\n      <td>22</td>\n      <td>0.418675</td>\n      <td>0.392394</td>\n      <td>0.463600</td>\n      <td>0.380905</td>\n      <td>0.414940</td>\n      <td>0.508388</td>\n      <td>0.617686</td>\n      <td>...</td>\n      <td>0.646195</td>\n      <td>0.613581</td>\n      <td>0.402719</td>\n      <td>0.461935</td>\n      <td>0.506617</td>\n      <td>0.538590</td>\n      <td>0.585938</td>\n      <td>0.481036</td>\n      <td>0.367831</td>\n      <td>NaN</td>\n    </tr>\n    <tr>\n      <th>618076</th>\n      <td>2021010315</td>\n      <td>4182</td>\n      <td>23</td>\n      <td>0.423829</td>\n      <td>0.393665</td>\n      <td>0.463153</td>\n      <td>0.381090</td>\n      <td>0.415876</td>\n      <td>0.504880</td>\n      <td>0.616141</td>\n      <td>...</td>\n      <td>0.644110</td>\n      <td>0.612240</td>\n      <td>0.405525</td>\n      <td>0.464005</td>\n      <td>0.508629</td>\n      <td>0.538559</td>\n      <td>0.585326</td>\n      <td>0.481573</td>\n      <td>0.371198</td>\n      <td>NaN</td>\n    </tr>\n    <tr>\n      <th>618077</th>\n      <td>2021010315</td>\n      <td>4182</td>\n      <td>24</td>\n      <td>0.428785</td>\n      <td>0.394933</td>\n      <td>0.462822</td>\n      <td>0.381294</td>\n      <td>0.416803</td>\n      <td>0.501229</td>\n      <td>0.614391</td>\n      <td>...</td>\n      <td>0.641673</td>\n      <td>0.610827</td>\n      <td>0.408892</td>\n      <td>0.466265</td>\n      <td>0.510882</td>\n      <td>0.538527</td>\n      <td>0.584839</td>\n      <td>0.482247</td>\n      <td>0.374791</td>\n      <td>NaN</td>\n    </tr>\n    <tr>\n      <th>618078</th>\n      <td>2021010315</td>\n      <td>4182</td>\n      <td>25</td>\n      <td>0.433722</td>\n      <td>0.396149</td>\n      <td>0.462577</td>\n      <td>0.381509</td>\n      <td>0.417792</td>\n      <td>0.497590</td>\n      <td>0.612568</td>\n      <td>...</td>\n      <td>0.638946</td>\n      <td>0.609572</td>\n      <td>0.412522</td>\n      <td>0.468742</td>\n      <td>0.513489</td>\n      <td>0.538496</td>\n      <td>0.584377</td>\n      <td>0.483337</td>\n      <td>0.378604</td>\n      <td>NaN</td>\n    </tr>\n    <tr>\n      <th>618079</th>\n      <td>2021010315</td>\n      <td>4182</td>\n      <td>26</td>\n      <td>0.438454</td>\n      <td>0.397439</td>\n      <td>0.462532</td>\n      <td>0.381611</td>\n      <td>0.418849</td>\n      <td>0.493951</td>\n      <td>0.610673</td>\n      <td>...</td>\n      <td>0.635936</td>\n      <td>0.608308</td>\n      <td>0.416504</td>\n      <td>0.471272</td>\n      <td>0.516322</td>\n      <td>0.538419</td>\n      <td>0.584085</td>\n      <td>0.484804</td>\n      <td>0.382720</td>\n      <td>NaN</td>\n    </tr>\n    <tr>\n      <th>618080</th>\n      <td>2021010315</td>\n      <td>4182</td>\n      <td>27</td>\n      <td>0.443063</td>\n      <td>0.398669</td>\n      <td>0.462545</td>\n      <td>0.381721</td>\n      <td>0.419981</td>\n      <td>0.490212</td>\n      <td>0.608678</td>\n      <td>...</td>\n      <td>0.632805</td>\n      <td>0.607181</td>\n      <td>0.420764</td>\n      <td>0.473887</td>\n      <td>0.519415</td>\n      <td>0.538465</td>\n      <td>0.584008</td>\n      <td>0.486459</td>\n      <td>0.386986</td>\n      <td>NaN</td>\n    </tr>\n    <tr>\n      <th>618081</th>\n      <td>2021010315</td>\n      <td>4182</td>\n      <td>28</td>\n      <td>0.447107</td>\n      <td>0.400009</td>\n      <td>0.462646</td>\n      <td>0.381784</td>\n      <td>0.421159</td>\n      <td>0.486628</td>\n      <td>0.606542</td>\n      <td>...</td>\n      <td>0.629605</td>\n      <td>0.606350</td>\n      <td>0.425298</td>\n      <td>0.476615</td>\n      <td>0.522763</td>\n      <td>0.538387</td>\n      <td>0.584124</td>\n      <td>0.488625</td>\n      <td>0.391379</td>\n      <td>NaN</td>\n    </tr>\n    <tr>\n      <th>618082</th>\n      <td>2021010315</td>\n      <td>4182</td>\n      <td>29</td>\n      <td>0.450813</td>\n      <td>0.401295</td>\n      <td>0.462863</td>\n      <td>0.381857</td>\n      <td>0.422384</td>\n      <td>0.483001</td>\n      <td>0.604371</td>\n      <td>...</td>\n      <td>0.626341</td>\n      <td>0.605555</td>\n      <td>0.430012</td>\n      <td>0.479370</td>\n      <td>0.526097</td>\n      <td>0.538310</td>\n      <td>0.584380</td>\n      <td>0.491113</td>\n      <td>0.396008</td>\n      <td>NaN</td>\n    </tr>\n    <tr>\n      <th>618083</th>\n      <td>2021010315</td>\n      <td>4182</td>\n      <td>30</td>\n      <td>0.454292</td>\n      <td>0.402533</td>\n      <td>0.463094</td>\n      <td>0.381878</td>\n      <td>0.423790</td>\n      <td>0.479373</td>\n      <td>0.602163</td>\n      <td>...</td>\n      <td>0.623165</td>\n      <td>0.604980</td>\n      <td>0.434906</td>\n      <td>0.482205</td>\n      <td>0.529595</td>\n      <td>0.538310</td>\n      <td>0.584678</td>\n      <td>0.493955</td>\n      <td>0.400870</td>\n      <td>NaN</td>\n    </tr>\n    <tr>\n      <th>618084</th>\n      <td>2021010315</td>\n      <td>4182</td>\n      <td>31</td>\n      <td>0.457431</td>\n      <td>0.403728</td>\n      <td>0.463328</td>\n      <td>0.381830</td>\n      <td>0.425124</td>\n      <td>0.475944</td>\n      <td>0.599904</td>\n      <td>...</td>\n      <td>0.620079</td>\n      <td>0.604517</td>\n      <td>0.439918</td>\n      <td>0.485052</td>\n      <td>0.533077</td>\n      <td>0.538264</td>\n      <td>0.585094</td>\n      <td>0.497058</td>\n      <td>0.405985</td>\n      <td>NaN</td>\n    </tr>\n    <tr>\n      <th>618085</th>\n      <td>2021010315</td>\n      <td>4182</td>\n      <td>32</td>\n      <td>0.460031</td>\n      <td>0.404948</td>\n      <td>0.463400</td>\n      <td>0.381863</td>\n      <td>0.426572</td>\n      <td>0.472571</td>\n      <td>0.597606</td>\n      <td>...</td>\n      <td>0.617235</td>\n      <td>0.604107</td>\n      <td>0.445082</td>\n      <td>0.487918</td>\n      <td>0.536543</td>\n      <td>0.538264</td>\n      <td>0.585655</td>\n      <td>0.500293</td>\n      <td>0.411130</td>\n      <td>NaN</td>\n    </tr>\n    <tr>\n      <th>618086</th>\n      <td>2021010315</td>\n      <td>4182</td>\n      <td>33</td>\n      <td>0.462546</td>\n      <td>0.406169</td>\n      <td>0.463589</td>\n      <td>0.381827</td>\n      <td>0.428072</td>\n      <td>0.469397</td>\n      <td>0.595387</td>\n      <td>...</td>\n      <td>0.614824</td>\n      <td>0.603827</td>\n      <td>0.450249</td>\n      <td>0.490762</td>\n      <td>0.539982</td>\n      <td>0.538264</td>\n      <td>0.586206</td>\n      <td>0.503809</td>\n      <td>0.416416</td>\n      <td>NaN</td>\n    </tr>\n    <tr>\n      <th>618087</th>\n      <td>2021010315</td>\n      <td>4182</td>\n      <td>34</td>\n      <td>0.464266</td>\n      <td>0.407326</td>\n      <td>0.463606</td>\n      <td>0.381729</td>\n      <td>0.429612</td>\n      <td>0.466489</td>\n      <td>0.593191</td>\n      <td>...</td>\n      <td>0.612639</td>\n      <td>0.603574</td>\n      <td>0.455393</td>\n      <td>0.493508</td>\n      <td>0.543225</td>\n      <td>0.538218</td>\n      <td>0.586881</td>\n      <td>0.507367</td>\n      <td>0.421697</td>\n      <td>NaN</td>\n    </tr>\n    <tr>\n      <th>618088</th>\n      <td>2021010315</td>\n      <td>4182</td>\n      <td>35</td>\n      <td>0.466085</td>\n      <td>0.408622</td>\n      <td>0.463761</td>\n      <td>0.381622</td>\n      <td>0.431296</td>\n      <td>0.463792</td>\n      <td>0.591045</td>\n      <td>...</td>\n      <td>0.610864</td>\n      <td>0.603370</td>\n      <td>0.460428</td>\n      <td>0.496241</td>\n      <td>0.546306</td>\n      <td>0.538250</td>\n      <td>0.587531</td>\n      <td>0.511156</td>\n      <td>0.427040</td>\n      <td>NaN</td>\n    </tr>\n    <tr>\n      <th>618089</th>\n      <td>2021010315</td>\n      <td>4182</td>\n      <td>36</td>\n      <td>0.466955</td>\n      <td>0.409848</td>\n      <td>0.463732</td>\n      <td>0.381512</td>\n      <td>0.433051</td>\n      <td>0.461396</td>\n      <td>0.588939</td>\n      <td>...</td>\n      <td>0.609403</td>\n      <td>0.603179</td>\n      <td>0.465411</td>\n      <td>0.498916</td>\n      <td>0.549337</td>\n      <td>0.538204</td>\n      <td>0.588406</td>\n      <td>0.514947</td>\n      <td>0.432280</td>\n      <td>NaN</td>\n    </tr>\n    <tr>\n      <th>618090</th>\n      <td>2021010315</td>\n      <td>4182</td>\n      <td>37</td>\n      <td>0.468135</td>\n      <td>0.411093</td>\n      <td>0.463546</td>\n      <td>0.381330</td>\n      <td>0.434796</td>\n      <td>0.459257</td>\n      <td>0.586982</td>\n      <td>...</td>\n      <td>0.608250</td>\n      <td>0.603056</td>\n      <td>0.470291</td>\n      <td>0.501614</td>\n      <td>0.552252</td>\n      <td>0.538235</td>\n      <td>0.589181</td>\n      <td>0.518888</td>\n      <td>0.437561</td>\n      <td>NaN</td>\n    </tr>\n    <tr>\n      <th>618091</th>\n      <td>2021010315</td>\n      <td>4182</td>\n      <td>38</td>\n      <td>0.468210</td>\n      <td>0.412355</td>\n      <td>0.463387</td>\n      <td>0.381144</td>\n      <td>0.436662</td>\n      <td>0.457186</td>\n      <td>0.585008</td>\n      <td>...</td>\n      <td>0.607241</td>\n      <td>0.602989</td>\n      <td>0.475037</td>\n      <td>0.504299</td>\n      <td>0.555012</td>\n      <td>0.538189</td>\n      <td>0.589903</td>\n      <td>0.522723</td>\n      <td>0.442720</td>\n      <td>NaN</td>\n    </tr>\n    <tr>\n      <th>618092</th>\n      <td>2021010315</td>\n      <td>4182</td>\n      <td>39</td>\n      <td>0.468850</td>\n      <td>0.413537</td>\n      <td>0.463086</td>\n      <td>0.380953</td>\n      <td>0.438449</td>\n      <td>0.455526</td>\n      <td>0.583114</td>\n      <td>...</td>\n      <td>0.606468</td>\n      <td>0.603075</td>\n      <td>0.479450</td>\n      <td>0.506940</td>\n      <td>0.557556</td>\n      <td>0.538221</td>\n      <td>0.590516</td>\n      <td>0.526565</td>\n      <td>0.447733</td>\n      <td>NaN</td>\n    </tr>\n    <tr>\n      <th>618093</th>\n      <td>2021010315</td>\n      <td>4182</td>\n      <td>40</td>\n      <td>0.468527</td>\n      <td>0.414665</td>\n      <td>0.462842</td>\n      <td>0.380885</td>\n      <td>0.440307</td>\n      <td>0.454079</td>\n      <td>0.581298</td>\n      <td>...</td>\n      <td>0.605734</td>\n      <td>0.603128</td>\n      <td>0.483615</td>\n      <td>0.509610</td>\n      <td>0.560037</td>\n      <td>0.538329</td>\n      <td>0.591124</td>\n      <td>0.530349</td>\n      <td>0.452632</td>\n      <td>NaN</td>\n    </tr>\n    <tr>\n      <th>618094</th>\n      <td>2021010315</td>\n      <td>4182</td>\n      <td>41</td>\n      <td>0.468825</td>\n      <td>0.415839</td>\n      <td>0.462528</td>\n      <td>0.380811</td>\n      <td>0.442291</td>\n      <td>0.452803</td>\n      <td>0.579490</td>\n      <td>...</td>\n      <td>0.605093</td>\n      <td>0.603247</td>\n      <td>0.487656</td>\n      <td>0.512102</td>\n      <td>0.562374</td>\n      <td>0.538361</td>\n      <td>0.591687</td>\n      <td>0.534039</td>\n      <td>0.457420</td>\n      <td>NaN</td>\n    </tr>\n    <tr>\n      <th>618095</th>\n      <td>2021010315</td>\n      <td>4182</td>\n      <td>42</td>\n      <td>0.468415</td>\n      <td>0.416954</td>\n      <td>0.462215</td>\n      <td>0.380741</td>\n      <td>0.444199</td>\n      <td>0.451913</td>\n      <td>0.577758</td>\n      <td>...</td>\n      <td>0.604628</td>\n      <td>0.603397</td>\n      <td>0.491455</td>\n      <td>0.514631</td>\n      <td>0.564611</td>\n      <td>0.538469</td>\n      <td>0.592234</td>\n      <td>0.537640</td>\n      <td>0.462024</td>\n      <td>NaN</td>\n    </tr>\n    <tr>\n      <th>618096</th>\n      <td>2021010315</td>\n      <td>4182</td>\n      <td>43</td>\n      <td>0.468558</td>\n      <td>0.418137</td>\n      <td>0.461987</td>\n      <td>0.380651</td>\n      <td>0.446139</td>\n      <td>0.451180</td>\n      <td>0.576131</td>\n      <td>...</td>\n      <td>0.604049</td>\n      <td>0.603429</td>\n      <td>0.494979</td>\n      <td>0.517098</td>\n      <td>0.566648</td>\n      <td>0.538500</td>\n      <td>0.592738</td>\n      <td>0.541089</td>\n      <td>0.466653</td>\n      <td>NaN</td>\n    </tr>\n    <tr>\n      <th>618097</th>\n      <td>2021010315</td>\n      <td>4182</td>\n      <td>44</td>\n      <td>0.468105</td>\n      <td>0.419258</td>\n      <td>0.461802</td>\n      <td>0.380704</td>\n      <td>0.447950</td>\n      <td>0.450733</td>\n      <td>0.574448</td>\n      <td>...</td>\n      <td>0.603549</td>\n      <td>0.603440</td>\n      <td>0.498266</td>\n      <td>0.519434</td>\n      <td>0.568531</td>\n      <td>0.538577</td>\n      <td>0.593114</td>\n      <td>0.544350</td>\n      <td>0.471169</td>\n      <td>NaN</td>\n    </tr>\n  </tbody>\n</table>\n<p>50 rows × 51 columns</p>\n</div>"
     },
     "metadata": {},
     "execution_count": 15
    }
   ],
   "source": [
    "start = time.time()\n",
    "df = kickoff_tracking.set_index(['gameId', 'playId', 'frameId', 'is_off', 'nflId']).sort_index(level=['gameId', 'playId','frameId', 'is_off', 'nflId']).droplevel('nflId')\n",
    "df = df.set_index(df.groupby(['gameId', 'playId', 'frameId']).cumcount().rename('playerNum'), append=True)\n",
    "df = df[features].unstack(['is_off', 'playerNum']).reset_index(['gameId', 'playId', 'frameId'])\n",
    "print(\"Done in:\", time.time() - start)\n",
    "\n",
    "df.tail(50)"
   ]
  },
  {
   "source": [
    "Then we'll convert the DataFrame to a 2D array and remove all the `nan` values, since those are for players that are not in the play. The first column is the **gameId**, second is **playId**, and third is **frameId**. This will probably be useful once we implement a recurrent neural net (which can remember previous input), but that's probably pretty far down the road."
   ],
   "cell_type": "markdown",
   "metadata": {}
  },
  {
   "cell_type": "code",
   "execution_count": 16,
   "metadata": {},
   "outputs": [
    {
     "output_type": "stream",
     "name": "stdout",
     "text": [
      "Done in: 2.057347059249878\n"
     ]
    },
    {
     "output_type": "execute_result",
     "data": {
      "text/plain": [
       "(618098, 49)"
      ]
     },
     "metadata": {},
     "execution_count": 16
    }
   ],
   "source": [
    "start = time.time()\n",
    "values = np.array([x[~np.isnan(x)] for x in df.values])\n",
    "print(\"Done in:\", time.time() - start)\n",
    "values.shape"
   ]
  },
  {
   "cell_type": "code",
   "execution_count": 17,
   "metadata": {},
   "outputs": [
    {
     "output_type": "stream",
     "name": "stdout",
     "text": [
      "Done in: 2.4998631477355957\n"
     ]
    },
    {
     "output_type": "execute_result",
     "data": {
      "text/plain": [
       "(618098, 7)"
      ]
     },
     "metadata": {},
     "execution_count": 17
    }
   ],
   "source": [
    "start = time.time()\n",
    "output = kickoff_tracking.groupby(['gameId', 'playId', 'frameId'])[output_cols].first().values\n",
    "print(\"Done in:\", time.time() - start)\n",
    "output.shape"
   ]
  }
 ]
}